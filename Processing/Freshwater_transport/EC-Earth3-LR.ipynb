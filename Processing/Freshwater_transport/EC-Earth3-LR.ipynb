{
 "cells": [
  {
   "cell_type": "code",
   "execution_count": 1,
   "id": "511e51e7-717c-404c-9034-2303417d4315",
   "metadata": {},
   "outputs": [],
   "source": [
    "## imports\n",
    "import sys\n",
    "import os\n",
    "import numpy as np\n",
    "import xarray as xr\n",
    "import cmocean\n",
    "import matplotlib\n",
    "import matplotlib.pyplot as plt\n",
    "from matplotlib.patches import Rectangle\n",
    "from matplotlib import gridspec\n",
    "import cartopy\n",
    "import cartopy.crs as ccrs\n",
    "from cartopy.mpl.gridliner import LONGITUDE_FORMATTER, LATITUDE_FORMATTER\n",
    "import eofs\n",
    "from eofs.xarray import Eof\n",
    "import cftime\n",
    "import nc_time_axis\n",
    "\n",
    "import mtspec\n",
    "\n",
    "# from pylab import *\n",
    "\n",
    "import datetime\n",
    "import time\n",
    "import glob, os\n",
    "import math\n",
    "import matplotlib.colors as colors\n",
    "import xesmf as xe\n",
    "from defs import lon180cesm, lon180, salmask, latweights, makedz"
   ]
  },
  {
   "cell_type": "code",
   "execution_count": 2,
   "id": "07e36bfc",
   "metadata": {},
   "outputs": [],
   "source": [
    "datafolder = ''"
   ]
  },
  {
   "cell_type": "code",
   "execution_count": 3,
   "id": "54eecedf-876c-4256-8f22-6da6029b67b2",
   "metadata": {},
   "outputs": [],
   "source": [
    "experiment = 'E280'\n",
    "model = 'EC-Earth3-LR'\n",
    "folder = datafolder+'/Raw_data/'+model+'/'"
   ]
  },
  {
   "cell_type": "code",
   "execution_count": 4,
   "id": "70432dda-1499-42d0-a362-06efbf3baa68",
   "metadata": {},
   "outputs": [],
   "source": [
    "dsV = xr.open_dataset(folder+experiment+'/vo_100yr.nc')\n",
    "dsS = xr.open_dataset(folder+experiment+'/so_100yr.nc')\n",
    "\n",
    "if experiment == 'E280':\n",
    "    #dsr = xr.open_dataset(folder+experiment+'/basin_Ofx_EC-Earth3-LR_piControl_r1i1p1f1_gn.nc') #File is corrupted: no regions\n",
    "    dsr = xr.open_dataset(folder+'Eoi400/basin_Ofx_EC-Earth3-LR_midPliocene-eoi400_r1i1p1f1_gn.nc') #Region file with PI geography, probably same for all experiments\n",
    "else:\n",
    "    dsr = xr.open_dataset(folder+experiment+'/basin_Ofx_EC-Earth3-LR_midPliocene-eoi400_r1i1p1f1_gn.nc')"
   ]
  },
  {
   "cell_type": "code",
   "execution_count": 5,
   "id": "eca84387",
   "metadata": {},
   "outputs": [],
   "source": [
    "#Separate naming of U and T grid\n",
    "dsV = dsV.rename({'longitude': 'ULONG', 'latitude': 'ULAT'})\n",
    "dsS = dsS.rename({'longitude': 'TLONG', 'latitude': 'TLAT'})\n",
    "dsr = dsr.rename({'longitude': 'TLONG', 'latitude': 'TLAT'})"
   ]
  },
  {
   "cell_type": "markdown",
   "id": "c1d84d48-2081-4baf-b29e-ddbe3f1370d4",
   "metadata": {
    "tags": []
   },
   "source": [
    "## Separation MOC and gyre FW Atlantic"
   ]
  },
  {
   "cell_type": "code",
   "execution_count": 6,
   "id": "3a704f02-7f3b-4f78-844e-0cc9bffc4bad",
   "metadata": {
    "tags": []
   },
   "outputs": [
    {
     "name": "stderr",
     "output_type": "stream",
     "text": [
      "/opt/anaconda3/envs/myenv/lib/python3.8/site-packages/xesmf/frontend.py:522: FutureWarning: ``output_sizes`` should be given in the ``dask_gufunc_kwargs`` parameter. It will be removed as direct parameter in a future version.\n",
      "  dr_out = xr.apply_ufunc(\n"
     ]
    }
   ],
   "source": [
    "salt = dsS.so\n",
    "region = dsr.basin\n",
    "\n",
    "#Regrid velocity to salinity grid, using 0 as land values\n",
    "regridder = xe.Regridder(dsV, dsS, 'bilinear', periodic = True, ignore_degenerate=True)\n",
    "vo = dsV.vo.fillna(0)*100\n",
    "vvel = regridder(vo) #cm/s\n",
    "vvel = vvel*salt/salt #Replace land values with NaN again"
   ]
  },
  {
   "cell_type": "markdown",
   "id": "801bba92-e289-4b3d-bba3-41c48fa29440",
   "metadata": {},
   "source": [
    "Create DXT grid"
   ]
  },
  {
   "cell_type": "code",
   "execution_count": 7,
   "id": "93e6d0fd-59cb-4d4c-b0d0-73096f269cb0",
   "metadata": {
    "tags": []
   },
   "outputs": [],
   "source": [
    "dphi = np.zeros([292,362])\n",
    "lat = dsS.TLAT.values\n",
    "dphi[:,1:] = lat[:,1:]-lat[:,:-1]\n",
    "dphi[:,0] = lat[:,0]-lat[:,-1]\n",
    "dphi = np.radians(dphi)\n",
    "\n",
    "dtheta = np.zeros([292,362])\n",
    "lon = dsS.TLONG.values\n",
    "dtheta[:,1:] = lon[:,1:]-lon[:,:-1]\n",
    "dtheta[:,0] = lon[:,0]-lon[:,-1]\n",
    "\n",
    "for j in range(292):\n",
    "    for i in range(240,300):\n",
    "        if dtheta[j,i] < -300:\n",
    "            dtheta[j,i] = dtheta[j,i]+360\n",
    "dtheta = np.radians(dtheta)\n",
    "\n",
    "phi1 = np.zeros([292,362])\n",
    "phi1[:,0] = lat[:,-1]\n",
    "phi1[:,1:] = lat[:,:-1]\n",
    "phi1 = np.radians(phi1)\n",
    "\n",
    "phi2 = np.radians(lat)\n",
    "\n",
    "r = 6.37122e8 #radius Earth in cm\n",
    "d = 2*r*np.arcsin(np.sqrt(np.sin(dphi/2)**2+np.cos(phi1)*np.cos(phi2)*np.sin(dtheta/2)**2)) #Distance between adjacent cells in i dimension on U grid [cm]\n",
    "dsS['d'] = xr.DataArray(data=d, dims=(\"j\",\"i\")) \n",
    "DXT = np.zeros([292,362])\n",
    "DXT[:,:-1] = (d[:,1:]+d[:,:-1])/2\n",
    "DXT[:,-1] = (d[:,0]+d[:,-1])/2\n",
    "\n",
    "dsS['DXT'] = xr.DataArray(data=DXT, dims=(\"j\",\"i\")) #Grid lengths centered on T-points [cm]"
   ]
  },
  {
   "cell_type": "markdown",
   "id": "8605c305-1e8b-4493-b085-695b29d49f81",
   "metadata": {},
   "source": [
    "Create DZ array"
   ]
  },
  {
   "cell_type": "code",
   "execution_count": 8,
   "id": "e47ec837-30dc-44c3-9828-8e70cf6ea59a",
   "metadata": {},
   "outputs": [],
   "source": [
    "#1-D array with spacing of depth grid\n",
    "ds = dsS.copy(deep=True)\n",
    "\n",
    "dz = np.zeros(len(ds.lev))\n",
    "dz[0] = ds.lev[0].values*2\n",
    "depth = dz[0]\n",
    "for i in range(1,len(ds.lev)):\n",
    "    dz[i] = (ds.lev[i]-depth)*2\n",
    "    depth = depth+dz[i]\n",
    "dz = dz*100 #Depth spacing. Units: cm\n",
    "dsV['DZ'] = xr.DataArray(data=dz, dims=(\"lev\"))\n",
    "dsS['DZ'] = xr.DataArray(data=dz, dims=(\"lev\"))\n",
    "DZ = dsS.DZ"
   ]
  },
  {
   "cell_type": "code",
   "execution_count": 9,
   "id": "6bd66e20-d3dd-4a97-a04e-5bf1afeaeb17",
   "metadata": {},
   "outputs": [],
   "source": [
    "#Define reference salinity S0 as average Atlantic ocean salinity\n",
    "folder2 = datafolder+'Processed/'\n",
    "dssal = xr.open_dataset(folder2+model+'/'+experiment+'/so_1x1_100yr.nc')\n",
    "dssal = lon180(dssal)\n",
    "\n",
    "S0 = dssal.so.where(salmask()>-1).weighted(makedz(dssal)).mean(dim='z').weighted(latweights()).mean()"
   ]
  },
  {
   "cell_type": "code",
   "execution_count": 10,
   "id": "723c20ad-13cd-43df-9fee-5758b6022aaf",
   "metadata": {},
   "outputs": [
    {
     "data": {
      "text/plain": [
       "<matplotlib.legend.Legend at 0x7fb96b1e8c70>"
      ]
     },
     "execution_count": 10,
     "metadata": {},
     "output_type": "execute_result"
    },
    {
     "data": {
      "image/png": "[encoded data removed]",
      "text/plain": [
       "<Figure size 576x216 with 1 Axes>"
      ]
     },
     "metadata": {
      "needs_background": "light"
     },
     "output_type": "display_data"
    }
   ],
   "source": [
    "VVEL = vvel.where(region==2) #cm/s\n",
    "SALT = salt.where(region==2)  \n",
    "\n",
    "def zonal_means(x, dx):\n",
    "    xint = (x*dx).sum('i')  # [x-unit * cm]\n",
    "    zm = xint/dx.sum('i')   # [x-unit]\n",
    "    return xint, zm\n",
    "\n",
    "#zonal means\n",
    "VVEL_xint, VVEL_zm = zonal_means(VVEL, dsS.DXT.where(VVEL<10000))\n",
    "SALT_xint, SALT_zm = zonal_means(SALT, dsS.DXT.where(VVEL<10000))\n",
    "\n",
    "SALT_zm_3D = SALT/SALT\n",
    "SALT_zm_3D = SALT_zm_3D*SALT_zm\n",
    "\n",
    "VVEL_zm_3D = VVEL/VVEL\n",
    "VVEL_zm_3D = VVEL_zm_3D*VVEL_zm\n",
    "\n",
    "#azonal components\n",
    "SALT_prime = (SALT - SALT_zm) # azonal SALT component (x,y,z) [g/kg]\n",
    "VVEL_prime = (VVEL - VVEL_zm)  # azonal velocity comp. (x,y,z) [cm/s]\n",
    "\n",
    "#integrate for FW transports\n",
    "Fov = (-1/S0*(VVEL_zm_3D*(SALT_zm_3D-S0)*dsS.DXT*dsS.DZ).sum(dim=['i','lev']))/1e12 # 1 Sv = 1e12 cm^3/s\n",
    "Faz = (-1/S0*(VVEL_prime*SALT_prime*dsS.DXT*dsS.DZ).sum(dim=['i','lev']))/1e12\n",
    "Ftotal = (-1/S0*(VVEL*(SALT-S0)*dsS.DXT*dsS.DZ).sum(dim=['i','lev']))/1e12\n",
    "\n",
    "#auxiliary latitudes\n",
    "lats = dsS.TLAT.where(region==2).mean(dim='i')\n",
    "\n",
    "plt.figure(figsize=(8,3))\n",
    "plt.axhline(0,c='k',lw=.5)\n",
    "plt.plot(lats, Fov, label='overturning component')\n",
    "\n",
    "plt.plot(lats, Faz, label='azonal component')\n",
    "plt.plot(lats, Ftotal, label='overturning+azonal')\n",
    "plt.title('northward fw transport')\n",
    "plt.xlim([-35,70])\n",
    "plt.ylim([-1,1])\n",
    "plt.xlabel(r'latitude  [$^\\circ$N]')\n",
    "plt.legend(fontsize=8)"
   ]
  },
  {
   "cell_type": "code",
   "execution_count": 12,
   "id": "caf5e4ea-8803-4ca0-9faa-f538bfadf2e4",
   "metadata": {
    "tags": []
   },
   "outputs": [],
   "source": [
    "dsE = xr.Dataset(data_vars = dict(Fov=([\"lat\"], Fov[2:-2]), Faz=([\"lat\"], Faz[2:-2]), Ftot=([\"lat\"], Ftotal[2:-2])), coords = dict(lat = lats[2:-2].values))    \n",
    "xr.Dataset.to_netcdf(dsE, path = datafolder+'Processed/'+model+'/'+experiment+'/decomFW_100yr.nc')"
   ]
  },
  {
   "cell_type": "markdown",
   "id": "5db5fa22-33de-44d3-bc1d-3b43e49e938c",
   "metadata": {
    "tags": []
   },
   "source": [
    "## FW Labrador"
   ]
  },
  {
   "cell_type": "code",
   "execution_count": 13,
   "id": "d197f149-85d5-4bb1-8af7-18d860659b77",
   "metadata": {},
   "outputs": [
    {
     "data": {
      "text/plain": [
       "<matplotlib.collections.QuadMesh at 0x7fda30c5de20>"
      ]
     },
     "execution_count": 13,
     "metadata": {},
     "output_type": "execute_result"
    },
    {
     "data": {
      "image/png": "[encoded data removed]",
      "text/plain": [
       "<Figure size 432x288 with 3 Axes>"
      ]
     },
     "metadata": {
      "needs_background": "light"
     },
     "output_type": "display_data"
    }
   ],
   "source": [
    "#Check region\n",
    "dsS = lon180cesm(dsS)\n",
    "\n",
    "region.plot()\n",
    "dsS.so[0].where(region==2).where(dsS.TLONG<-45).where(dsS.TLONG>-70).where(dsS.TLAT<74).where(dsS.TLAT>=50).plot(cmap='gray')"
   ]
  },
  {
   "cell_type": "code",
   "execution_count": 14,
   "id": "472c221d-fbc3-4208-a79a-5e10ff59893a",
   "metadata": {
    "tags": []
   },
   "outputs": [],
   "source": [
    "VVEL = vvel.where(region==2).where(dsS.TLONG<-45).where(dsS.TLONG>-70).where(dsS.TLAT<74).where(dsS.TLAT>=50) #cm/s\n",
    "SALT = salt.where(region==2).where(dsS.TLONG<-45).where(dsS.TLONG>-70).where(dsS.TLAT<74).where(dsS.TLAT>=50) \n",
    "\n",
    "def zonal_means(x, dx):\n",
    "    xint = (x*dx).sum('i')  # [x-unit * cm]\n",
    "    zm = xint/dx.sum('i')   # [x-unit]\n",
    "    return xint, zm\n",
    "\n",
    "#zonal means\n",
    "VVEL_xint, VVEL_zm = zonal_means(VVEL, dsS.DXT.where(VVEL<10000))\n",
    "SALT_xint, SALT_zm = zonal_means(SALT, dsS.DXT.where(VVEL<10000))\n",
    "\n",
    "SALT_zm_3D = SALT/SALT\n",
    "SALT_zm_3D = SALT_zm_3D*SALT_zm\n",
    "\n",
    "VVEL_zm_3D = VVEL/VVEL\n",
    "VVEL_zm_3D = VVEL_zm_3D*VVEL_zm\n",
    "\n",
    "#azonal components\n",
    "SALT_prime = (SALT - SALT_zm) # azonal SALT component (x,y,z) [g/kg]\n",
    "VVEL_prime = (VVEL - VVEL_zm)  # azonal velocity comp. (x,y,z) [cm/s]\n",
    "\n",
    "#Integrate for FW transports\n",
    "Fov = (-1/S0*(VVEL_zm_3D*(SALT_zm_3D-S0)*dsS.DXT*dsS.DZ).sum(dim=['i','lev']))/1e12 # 1 Sv = 1e12 cm^3/s\n",
    "Faz = (-1/S0*(VVEL_prime*SALT_prime*dsS.DXT*dsS.DZ).sum(dim=['i','lev']))/1e12\n",
    "Ftotal = (-1/S0*(VVEL*(SALT-S0)*dsS.DXT*dsS.DZ).sum(dim=['i','lev']))/1e12\n",
    "\n",
    "#auxiliary latitudes\n",
    "lats = dsS.TLAT.where(region==2).where(dsS.TLONG<-45).where(dsS.TLONG>-70).where(dsS.TLAT<74).where(dsS.TLAT>=50).mean(dim='i')\n",
    "\n",
    "dsE = xr.Dataset(data_vars = dict(Fov=([\"lat\"], Fov[228:-25]), Faz=([\"lat\"], Faz[228:-25]), Ftot=([\"lat\"], Ftotal[228:-25])), coords = dict(lat = lats[228:-25].values))    \n",
    "xr.Dataset.to_netcdf(dsE, path = datafolder+'Processed/'+model+'/'+experiment+'/decomFW_Lab_100yr.nc')"
   ]
  },
  {
   "cell_type": "markdown",
   "id": "468830f7-0c13-4098-85bb-8aa380c21080",
   "metadata": {
    "tags": []
   },
   "source": [
    "## FW Fram Strait"
   ]
  },
  {
   "cell_type": "code",
   "execution_count": 15,
   "id": "43dbeefe-39cc-4f2e-a5c0-b99234669920",
   "metadata": {},
   "outputs": [
    {
     "data": {
      "text/plain": [
       "<matplotlib.collections.QuadMesh at 0x7fda30a21c70>"
      ]
     },
     "execution_count": 15,
     "metadata": {},
     "output_type": "execute_result"
    },
    {
     "data": {
      "image/png": "[encoded data removed]",
      "text/plain": [
       "<Figure size 432x288 with 3 Axes>"
      ]
     },
     "metadata": {
      "needs_background": "light"
     },
     "output_type": "display_data"
    }
   ],
   "source": [
    "#Check region\n",
    "dsS = lon180cesm(dsS)\n",
    "\n",
    "region.plot()\n",
    "dsS.so[0].where(region==2).where(dsS.TLONG>=-45).where(dsS.TLAT>=50).plot(cmap='gray')"
   ]
  },
  {
   "cell_type": "code",
   "execution_count": 16,
   "id": "e16f1d43-c4f3-44a5-bb6c-9ff0716448fd",
   "metadata": {},
   "outputs": [],
   "source": [
    "VVEL = vvel.where(region==2).where(dsS.TLONG>=-45).where(dsS.TLAT>=50)#cm/s\n",
    "SALT = salt.where(region==2).where(dsS.TLONG>=-45).where(dsS.TLAT>=50)  \n",
    "\n",
    "#zonal means\n",
    "VVEL_xint, VVEL_zm = zonal_means(VVEL, dsS.DXT.where(VVEL<10000))\n",
    "SALT_xint, SALT_zm = zonal_means(SALT, dsS.DXT.where(VVEL<10000))\n",
    "\n",
    "SALT_zm_3D = SALT/SALT\n",
    "SALT_zm_3D = SALT_zm_3D*SALT_zm\n",
    "\n",
    "VVEL_zm_3D = VVEL/VVEL\n",
    "VVEL_zm_3D = VVEL_zm_3D*VVEL_zm\n",
    "\n",
    "#azonal components\n",
    "SALT_prime = (SALT - SALT_zm) # azonal SALT component (x,y,z) [g/kg]\n",
    "VVEL_prime = (VVEL - VVEL_zm)  # azonal velocity comp. (x,y,z) [cm/s]\n",
    "\n",
    "#integrate for FW transports\n",
    "Fov = (-1/S0*(VVEL_zm_3D*(SALT_zm_3D-S0)*dsS.DXT*dsS.DZ).sum(dim=['i','lev']))/1e12 # 1 Sv = 1e12 cm^3/s\n",
    "Faz = (-1/S0*(VVEL_prime*SALT_prime*dsS.DXT*dsS.DZ).sum(dim=['i','lev']))/1e12\n",
    "Ftotal = (-1/S0*(VVEL*(SALT-S0)*dsS.DXT*dsS.DZ).sum(dim=['i','lev']))/1e12\n",
    "\n",
    "#auxiliary latitudes\n",
    "lats = dsS.TLAT.where(region==2).where(dsS.TLONG>=-45).where(dsS.TLAT>=50).mean(dim='i')\n",
    "\n",
    "dsE = xr.Dataset(data_vars = dict(Fov=([\"lat\"], Fov[228:-40]), Faz=([\"lat\"], Faz[228:-40]), Ftot=([\"lat\"], Ftotal[228:-40])), coords = dict(lat = lats[228:-40].values))    \n",
    "xr.Dataset.to_netcdf(dsE, path = datafolder+'Processed/'+model+'/'+experiment+'/decomFW_Fram_100yr.nc')"
   ]
  },
  {
   "cell_type": "markdown",
   "id": "cac30abb-84a4-4f04-b347-b21c34504d99",
   "metadata": {
    "tags": []
   },
   "source": [
    "## FW Bering Strait"
   ]
  },
  {
   "cell_type": "code",
   "execution_count": 17,
   "id": "49915b88-5fad-4e4f-a70c-ac7fa2bd6889",
   "metadata": {},
   "outputs": [],
   "source": [
    "if experiment == 'E280':\n",
    "    VVEL = vvel.where(region==3) #cm/s\n",
    "    SALT = salt.where(region==3) \n",
    "\n",
    "    VVEL_xint, VVEL_zm = zonal_means(VVEL, dsS.DXT.where(VVEL<10000))\n",
    "    SALT_xint, SALT_zm = zonal_means(SALT, dsS.DXT.where(VVEL<10000))\n",
    "\n",
    "    SALT_zm_3D = SALT/SALT\n",
    "    SALT_zm_3D = SALT_zm_3D*SALT_zm\n",
    "\n",
    "    VVEL_zm_3D = VVEL/VVEL\n",
    "    VVEL_zm_3D = VVEL_zm_3D*VVEL_zm\n",
    "\n",
    "    SALT_prime = (SALT - SALT_zm) # azonal SALT component (x,y,z)\n",
    "    VVEL_prime = (VVEL - VVEL_zm)  # azonal velocity comp. (x,y,z) [cm/s]\n",
    "\n",
    "    Fov = (-1/S0*(VVEL_zm_3D*(SALT_zm_3D-S0)*dsS.DXT*dsS.DZ).sum(dim=['i','lev']))/1e12 # 1 Sv = 1e12 cm^3/s\n",
    "    Faz = (-1/S0*(VVEL_prime*SALT_prime*dsS.DXT*dsS.DZ).sum(dim=['i','lev']))/1e12\n",
    "    Ftotal = (-1/S0*(VVEL*(SALT-S0)*dsS.DXT*dsS.DZ).sum(dim=['i','lev']))/1e12\n",
    "\n",
    "    lats = dsS.TLAT.where(region==3).mean(dim='i')\n",
    "\n",
    "    dsE = xr.Dataset(data_vars = dict(Fov=([\"lat\"], Fov[:-46]), Faz=([\"lat\"], Faz[:-46]), Ftot=([\"lat\"], Ftotal[:-46])), coords = dict(lat = lats[:-46].values))    \n",
    "    xr.Dataset.to_netcdf(dsE, path = datafolder+'Processed/'+model+'/'+experiment+'/decomFW_BS_100yr.nc')"
   ]
  },
  {
   "cell_type": "code",
   "execution_count": null,
   "id": "ce9ba84b-fd76-4a60-a428-edcf473ea62f",
   "metadata": {},
   "outputs": [],
   "source": []
  },
  {
   "cell_type": "code",
   "execution_count": null,
   "id": "d42c24cc-306e-4e90-8826-b67789e3d926",
   "metadata": {},
   "outputs": [],
   "source": []
  }
 ],
 "metadata": {
  "kernelspec": {
   "display_name": "Python 3 (ipykernel)",
   "language": "python",
   "name": "python3"
  },
  "language_info": {
   "codemirror_mode": {
    "name": "ipython",
    "version": 3
   },
   "file_extension": ".py",
   "mimetype": "text/x-python",
   "name": "python",
   "nbconvert_exporter": "python",
   "pygments_lexer": "ipython3",
   "version": "3.8.12"
  }
 },
 "nbformat": 4,
 "nbformat_minor": 5
}
