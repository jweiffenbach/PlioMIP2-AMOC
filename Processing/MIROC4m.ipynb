{
 "cells": [
  {
   "cell_type": "code",
   "execution_count": 1,
   "id": "511e51e7-717c-404c-9034-2303417d4315",
   "metadata": {},
   "outputs": [],
   "source": [
    "## imports\n",
    "import sys\n",
    "import os\n",
    "import numpy as np\n",
    "import xarray as xr\n",
    "import cmocean\n",
    "import matplotlib\n",
    "import matplotlib.pyplot as plt\n",
    "from matplotlib.patches import Rectangle\n",
    "from matplotlib import gridspec\n",
    "import cartopy\n",
    "import cartopy.crs as ccrs\n",
    "from cartopy.mpl.gridliner import LONGITUDE_FORMATTER, LATITUDE_FORMATTER\n",
    "import eofs\n",
    "from eofs.xarray import Eof\n",
    "import cftime\n",
    "import nc_time_axis\n",
    "\n",
    "import mtspec\n",
    "\n",
    "# from pylab import *\n",
    "\n",
    "import datetime\n",
    "import time\n",
    "import glob, os\n",
    "import math\n",
    "import matplotlib.colors as colors\n",
    "import xesmf as xe\n",
    "from defs import regularAtlmask"
   ]
  },
  {
   "cell_type": "code",
   "execution_count": 27,
   "id": "84fec604",
   "metadata": {},
   "outputs": [],
   "source": [
    "datafolder = ''"
   ]
  },
  {
   "cell_type": "code",
   "execution_count": 3,
   "id": "2ab8ad5e-3b59-4269-849f-ea20053e9756",
   "metadata": {},
   "outputs": [],
   "source": [
    "experiment = 'Eoi400' \n",
    "model = 'MIROC4m'\n",
    "folder = datafolder+'Raw_data/'+model+'/'"
   ]
  },
  {
   "cell_type": "code",
   "execution_count": 4,
   "id": "e9032e44-c2e2-4b41-9111-2c01021b833b",
   "metadata": {},
   "outputs": [],
   "source": [
    "if experiment == 'E280':\n",
    "    dsV = xr.open_dataset(folder+experiment+'/MIROC4m_E280_O100yr_vo.nc',decode_times=False)\n",
    "    dsS = xr.open_dataset(folder+experiment+'/MIROC4m_E280_O100yr_so.nc',decode_times=False)\n",
    "    dsT = xr.open_dataset(folder+experiment+'/MIROC4m_E280_O100yr_thetao.nc',decode_times=False)\n",
    "    dsrTS = xr.open_dataset(folder+experiment+'/MIROC4m_Exxx_fx_sftlf_ts_atl.nc',decode_times=False)\n",
    "    dsrUV = xr.open_dataset(folder+experiment+'/MIROC4m_Exxx_fx_sftlf_uv_atl.nc',decode_times=False)\n",
    "    dsMOC = xr.open_dataset(folder+experiment+'/MIROC4m_E280_Oyr_msftmz_atl.nc',decode_times=False)\n",
    "    dsOHT = xr.open_dataset(folder+experiment+'/MIROC4m_E280_Oyr_hfbasin_atl.nc',decode_times=False)\n",
    "    dsice = xr.open_dataset(folder+experiment+'/MIROC4m_E280_Omon_siconc.nc',decode_times=False)\n",
    "else:\n",
    "    dsV = xr.open_dataset(folder+experiment+'/MIROC4m_Eoi400_O100yr_vo.nc',decode_times=False)\n",
    "    dsS = xr.open_dataset(folder+experiment+'/MIROC4m_Eoi400_O100yr_so.nc',decode_times=False)\n",
    "    dsT = xr.open_dataset(folder+experiment+'/MIROC4m_Eoi400_O100yr_thetao.nc',decode_times=False)\n",
    "    dsrTS = xr.open_dataset(folder+experiment+'/MIROC4m_Eoixxx_fx_sftlf_ts_atl.nc',decode_times=False)\n",
    "    dsrUV = xr.open_dataset(folder+experiment+'/MIROC4m_Eoixxx_fx_sftlf_uv_atl.nc',decode_times=False)\n",
    "    dsMOC = xr.open_dataset(folder+experiment+'/MIROC4m_Eoi400_Oyr_msftmz_atl.nc',decode_times=False)\n",
    "    dsOHT = xr.open_dataset(folder+experiment+'/MIROC4m_Eoi400_Oyr_hfbasin_atl.nc',decode_times=False)\n",
    "    dsice = xr.open_dataset(folder+experiment+'/MIROC4m_Eoi400_Omon_siconc.nc',decode_times=False)"
   ]
  },
  {
   "cell_type": "markdown",
   "id": "5559e9c3-92ed-4599-b3fc-7ef85940a213",
   "metadata": {
    "tags": []
   },
   "source": [
    "## Separation MOC and gyre OHT component 100-yr average"
   ]
  },
  {
   "cell_type": "code",
   "execution_count": 5,
   "id": "655be5ea-1af5-46ef-a426-148c960b51f0",
   "metadata": {},
   "outputs": [],
   "source": [
    "vvel = dsV.vo[0]*100 #vvel in cm/s\n",
    "temp = dsT.thetao[0] #temp in degC\n",
    "\n",
    "#Atlantic Ocean region on V and T grid\n",
    "regionv = dsrUV.sftlf[0]\n",
    "regiont = dsrTS.sftlf[0]"
   ]
  },
  {
   "cell_type": "code",
   "execution_count": 6,
   "id": "3707487d-e06c-400a-9ddc-5b2373c6b261",
   "metadata": {},
   "outputs": [],
   "source": [
    "ds = dsT.copy(deep=True)\n",
    "\n",
    "#1-D array with z-spacing of depth grid\n",
    "dz = np.zeros(len(ds.depth))\n",
    "dz[0] = ds.depth[0].values*2\n",
    "depth = dz[0]\n",
    "for i in range(1,len(ds.depth)):\n",
    "    dz[i] = (ds.depth[i].values-depth)*2\n",
    "    depth = depth+dz[i]\n",
    "dz = dz*100 #Depth spacing. Units: cm\n",
    "ds['dz'] = xr.DataArray(data=dz, dims=(\"depth\"))\n",
    "dz = ds.dz\n",
    "\n",
    "#2-D array with x-spacing of T grid\n",
    "r = 6.37122e8 #radius Earth in cm\n",
    "dlon = np.deg2rad((ds.lon[2]-ds.lon[1]))*r*np.cos(np.deg2rad(ds.lat)) #Lon spacing. Units: cm\n",
    "\n",
    "a = dlon\n",
    "dlon = np.zeros([len(ds.lat),len(ds.lon)])\n",
    "for i in range(len(ds.lon)):\n",
    "    dlon[:,i]=a.values\n",
    "ds['dlon']=xr.DataArray(data = dlon, dims=(\"lat\",\"lon\"))\n",
    "dlon = ds.dlon"
   ]
  },
  {
   "cell_type": "code",
   "execution_count": 7,
   "id": "960e6179-c84b-45a9-b2fb-b1988efe29d0",
   "metadata": {},
   "outputs": [],
   "source": [
    "cp_sw = 3996.  # [J/(kg degC)]   heat capacity of water\n",
    "rho_sw = 1.026e-3  # [kg/cm^3]  density of water\n",
    "\n",
    "HEAT = (cp_sw*rho_sw*temp).where(regiont<0.9)  #  [J/(kg K) * kg/cm^3 * degC] = [J/cm]\n",
    "\n",
    "#Interpolate velocity to T grid, using 0 for land values to avoid NaN ocean grid cells after interpolation \n",
    "vvel = vvel.fillna(0).interp(lat = dsT.lat, lon = dsT.lon, method='linear')\n",
    "VVEL = vvel*HEAT/HEAT #Fill land grid cells with NaN values again"
   ]
  },
  {
   "cell_type": "code",
   "execution_count": 8,
   "id": "a82cc9b9-25e7-4fdd-8a93-8c53f8bfad8b",
   "metadata": {},
   "outputs": [],
   "source": [
    "#Zonal mean velocity and heat\n",
    "VVEL_zm = VVEL.mean(dim='lon')\n",
    "HEAT_zm = HEAT.mean(dim='lon')\n",
    "\n",
    "#Make zonal mean fields into 3D fields again\n",
    "HEAT_zm_3D = HEAT/HEAT\n",
    "HEAT_zm_3D = HEAT_zm_3D*HEAT_zm\n",
    "\n",
    "VVEL_zm_3D = VVEL/VVEL\n",
    "VVEL_zm_3D = VVEL_zm_3D*VVEL_zm\n",
    "\n",
    "#azonal components\n",
    "HEAT_prime = (HEAT - HEAT_zm) # azonal heat component (x,y,z) [J/cm]\n",
    "VVEL_prime = (VVEL - VVEL_zm)  # azonal velocity comp. (x,y,z) [cm/s]"
   ]
  },
  {
   "cell_type": "code",
   "execution_count": 9,
   "id": "5390a130-9f68-403e-b6ae-5db0bcf65212",
   "metadata": {
    "tags": []
   },
   "outputs": [
    {
     "data": {
      "image/png": "[encoded data removed]",
      "text/plain": [
       "<Figure size 432x288 with 1 Axes>"
      ]
     },
     "metadata": {
      "needs_background": "light"
     },
     "output_type": "display_data"
    }
   ],
   "source": [
    "#Integrate to compute OHTov and OHTaz\n",
    "Hov = (VVEL_zm_3D*HEAT_zm_3D*dlon*dz).sum(dim=['lon','depth'])\n",
    "Haz = (VVEL_prime*HEAT_prime*dlon*dz).sum(dim=['lon','depth'])  # product of primed velocity and heat [cm/s * J/cm^2 * cm]\n",
    "\n",
    "Hov.plot()\n",
    "Haz.plot()\n",
    "plt.plot(dsOHT.lat, dsOHT.HFBASIN[:,:,0].mean(dim='time')*1e15)\n",
    "plt.show()"
   ]
  },
  {
   "cell_type": "code",
   "execution_count": 10,
   "id": "78bd32ff-8bcd-45ba-b331-7370feea1798",
   "metadata": {},
   "outputs": [
    {
     "data": {
      "text/plain": [
       "[<matplotlib.lines.Line2D at 0x7ffd3e780340>]"
      ]
     },
     "execution_count": 10,
     "metadata": {},
     "output_type": "execute_result"
    },
    {
     "data": {
      "image/png": "[encoded data removed]",
      "text/plain": [
       "<Figure size 432x288 with 1 Axes>"
      ]
     },
     "metadata": {
      "needs_background": "light"
     },
     "output_type": "display_data"
    }
   ],
   "source": [
    "#Smoothing output with 5 degree running mean \n",
    "\n",
    "N=5\n",
    "Hov_smoothed = np.convolve(Hov, np.ones(N)/N, mode='same') \n",
    "Haz_smoothed = Haz #np.convolve(Haz, np.ones(N)/N, mode='same')\n",
    "\n",
    "plt.plot(dsT.lat, Hov_smoothed)\n",
    "plt.plot(dsT.lat, Haz_smoothed)\n",
    "plt.plot(dsT.lat, Hov_smoothed+Haz_smoothed, color='black')\n",
    "plt.plot(dsOHT.lat, dsOHT.HFBASIN[:,:,0].mean(dim='time')*1e15)"
   ]
  },
  {
   "cell_type": "code",
   "execution_count": 11,
   "id": "93881b73-b232-46a2-aed4-d6f41e6cbc77",
   "metadata": {},
   "outputs": [],
   "source": [
    "dsE = xr.Dataset(data_vars = dict(OHTov=([\"lat\"], Hov_smoothed/1e15), OHTaz=([\"lat\"], Haz_smoothed/1e15)), coords = dict(lat = dsT.lat.values))\n",
    "xr.Dataset.to_netcdf(dsE, path = datafolder+'Processed/'+model+'/'+experiment+'/decomOHT_100yr.nc')"
   ]
  },
  {
   "cell_type": "markdown",
   "id": "1b371806-dc9e-45dd-bfef-f353ec636734",
   "metadata": {
    "tags": []
   },
   "source": [
    "## 100-yr average and annual time series AMOC streamfunction"
   ]
  },
  {
   "cell_type": "code",
   "execution_count": 12,
   "id": "0aa4507b-738e-4d95-9ff0-66891208f9a7",
   "metadata": {},
   "outputs": [],
   "source": [
    "dsM = xr.Dataset(data_vars = dict(AMOC=((\"z\",\"lat\"), dsMOC.msftmz[:,:,:,0].mean(dim='time').values)), coords = dict(z = dsMOC.depth.values, lat = dsMOC.lat.values))\n",
    "xr.Dataset.to_netcdf(dsM, path = datafolder+'Processed/'+model+'/'+experiment+'/AMOC_100yr.nc')\n",
    "\n",
    "dsM2 = xr.Dataset(data_vars = dict(AMOC=((\"time\",\"z\",\"lat\"), dsMOC.msftmz[:,:,:,0].values)), coords = dict(time = np.arange(1701, 1801), z = dsMOC.depth.values, lat = dsMOC.lat.values))\n",
    "xr.Dataset.to_netcdf(dsM2, path = datafolder+'Processed/'+model+'/'+experiment+'/AMOC_annual_100yr.nc')\n"
   ]
  },
  {
   "cell_type": "markdown",
   "id": "64295095-e02d-46ab-8fd5-df7ecf0273f9",
   "metadata": {
    "tags": []
   },
   "source": [
    "## 100-yr average total Atlantic OHT"
   ]
  },
  {
   "cell_type": "code",
   "execution_count": 13,
   "id": "a09c29df-3c98-4f8a-a363-73844f37d3f4",
   "metadata": {},
   "outputs": [],
   "source": [
    "dsH = xr.Dataset(data_vars = dict(OHT=((\"lat\"), (Hov_smoothed+Haz_smoothed)/1e15)), coords = dict(lat = dsT.lat.values))\n",
    "xr.Dataset.to_netcdf(dsH, path = datafolder+'Processed/'+model+'/'+experiment+'/OHT_100yr.nc')\n",
    "\n",
    "dsH = xr.Dataset(data_vars = dict(OHT=((\"lat\"), dsOHT.HFBASIN[:,:,0].mean(dim='time').values)), coords = dict(lat = dsOHT.lat.values))\n",
    "xr.Dataset.to_netcdf(dsH, path = datafolder+'Processed/'+model+'/'+experiment+'/OHT_100yr_impl.nc')"
   ]
  },
  {
   "cell_type": "markdown",
   "id": "35b69441-ff28-42cb-8d8c-fd9775ee3985",
   "metadata": {},
   "source": [
    "## Annual SST timeseries (100 years)"
   ]
  },
  {
   "cell_type": "code",
   "execution_count": 14,
   "id": "030a3cc5-44aa-41c6-aed6-b6ff77053b7f",
   "metadata": {},
   "outputs": [],
   "source": [
    "dstos = xr.open_dataset(folder+experiment+'/MIROC4m_'+experiment+'.SST.timeseries_no_ann_cycle.nc')#, decode_times=False)\n",
    "dsclim = xr.open_dataset(folder+experiment+'/'+experiment+'.SST.mean_month.nc')\n",
    "\n",
    "tosann = dstos.tos.groupby('time.year').mean(dim='time')+dsclim.tos.mean(dim='month')\n",
    "\n",
    "dsSST = xr.Dataset(data_vars = dict(sst=((\"time\",\"lat\",\"lon\"), tosann.values)), coords = dict(time = tosann.year.values, lat = tosann.latitude.values, lon = tosann.longitude.values))\n",
    "xr.Dataset.to_netcdf(dsSST, path = datafolder+'Processed/'+model+'/'+experiment+'/SST_annual_100yr.nc')"
   ]
  },
  {
   "cell_type": "markdown",
   "id": "122103b4-24a7-4d9b-8420-ea7def4bb874",
   "metadata": {
    "tags": []
   },
   "source": [
    "## 100-yr SSS (regridded)"
   ]
  },
  {
   "cell_type": "code",
   "execution_count": 15,
   "id": "b504eef6-c088-44a7-a261-04821ae6897a",
   "metadata": {
    "tags": []
   },
   "outputs": [
    {
     "name": "stderr",
     "output_type": "stream",
     "text": [
      "/opt/anaconda3/envs/myenv/lib/python3.8/site-packages/xesmf/frontend.py:522: FutureWarning: ``output_sizes`` should be given in the ``dask_gufunc_kwargs`` parameter. It will be removed as direct parameter in a future version.\n",
      "  dr_out = xr.apply_ufunc(\n"
     ]
    }
   ],
   "source": [
    "dsgrid = xr.open_dataset(folder+experiment+'/'+experiment+'.SST.mean_month.nc')\n",
    "regridder = xe.Regridder(dsS, dsgrid, 'bilinear', periodic = True, ignore_degenerate=True)\n",
    "\n",
    "sss = regridder(dsS.so[0,0])\n",
    "\n",
    "dsSSS = xr.Dataset(data_vars = dict(sss=((\"lat\",\"lon\"), sss)), coords = dict(lat = sss.latitude.values, lon = sss.longitude.values))\n",
    "xr.Dataset.to_netcdf(dsSSS, path = datafolder+'Processed/'+model+'/'+experiment+'/SSS_100yr.nc')"
   ]
  },
  {
   "cell_type": "markdown",
   "id": "25d3ceae-b0d1-4d43-aa0e-7300159eead9",
   "metadata": {
    "tags": []
   },
   "source": [
    "## 100-yr sea-ice (regridded)"
   ]
  },
  {
   "cell_type": "code",
   "execution_count": 16,
   "id": "cda51482-f84b-4f3a-b75d-93b7bbb40e7d",
   "metadata": {},
   "outputs": [
    {
     "name": "stderr",
     "output_type": "stream",
     "text": [
      "/opt/anaconda3/envs/myenv/lib/python3.8/site-packages/xesmf/frontend.py:522: FutureWarning: ``output_sizes`` should be given in the ``dask_gufunc_kwargs`` parameter. It will be removed as direct parameter in a future version.\n",
      "  dr_out = xr.apply_ufunc(\n"
     ]
    }
   ],
   "source": [
    "dsi = dsice.drop('time') # To avoid error with adding different months together\n",
    "\n",
    "djf = (dsi.siconc[11:1200:12]+dsi.siconc[0:1200:12]+dsi.siconc[1:1200:12])/3\n",
    "djf = djf.mean(dim='time')\n",
    "\n",
    "mam = (dsi.siconc[2:1200:12]+dsi.siconc[3:1200:12]+dsi.siconc[4:1200:12])/3\n",
    "mam = mam.mean(dim='time')\n",
    "\n",
    "jja = (dsi.siconc[5:1200:12]+dsi.siconc[6:1200:12]+dsi.siconc[7:1200:12])/3\n",
    "jja = jja.mean(dim='time')\n",
    "\n",
    "son = (dsi.siconc[8:1200:12]+dsi.siconc[9:1200:12]+dsi.siconc[10:1200:12])/3\n",
    "son = son.mean(dim='time')\n",
    "\n",
    "dsgrid = xr.open_dataset(folder+experiment+'/'+experiment+'.SST.mean_month.nc')\n",
    "regridder = xe.Regridder(dsi, dsgrid, 'bilinear', periodic = True, ignore_degenerate=True)\n",
    "\n",
    "si_djf = regridder(djf) \n",
    "si_mam = regridder(mam)\n",
    "si_jja = regridder(jja)\n",
    "si_son = regridder(son)\n",
    "si = (si_djf+si_mam+si_jja+si_son)/4\n",
    "\n",
    "dsSI = xr.Dataset(data_vars = dict(si_djf=((\"lat\",\"lon\"), si_djf), si_mam = ((\"lat\",\"lon\"), si_mam), si_jja = ((\"lat\",\"lon\"), si_jja), si_son = ((\"lat\",\"lon\"), si_son), si_mean = ((\"lat\",\"lon\"), si)), coords = dict(lat = si_djf.latitude.values, lon = si_djf.longitude.values))\n",
    "xr.Dataset.to_netcdf(dsSI, path = datafolder+'Processed/'+model+'/'+experiment+'/SI_100yr.nc')"
   ]
  },
  {
   "cell_type": "markdown",
   "id": "48f228b6-22fc-47fb-9984-b9b53f8fefac",
   "metadata": {
    "tags": []
   },
   "source": [
    "## 100-yr mean top 100 m salinity"
   ]
  },
  {
   "cell_type": "code",
   "execution_count": 17,
   "id": "07cb5ea4-4d3f-4b95-8301-5ccd30074784",
   "metadata": {
    "tags": []
   },
   "outputs": [
    {
     "name": "stderr",
     "output_type": "stream",
     "text": [
      "/opt/anaconda3/envs/myenv/lib/python3.8/site-packages/xesmf/frontend.py:522: FutureWarning: ``output_sizes`` should be given in the ``dask_gufunc_kwargs`` parameter. It will be removed as direct parameter in a future version.\n",
      "  dr_out = xr.apply_ufunc(\n"
     ]
    }
   ],
   "source": [
    "def makedz(z):\n",
    "    dz = np.zeros(len(z))\n",
    "    dz[0] = z[0].values*2\n",
    "    depth = dz[0]\n",
    "    for i in range(1,len(z)):\n",
    "        dz[i] = (z[i]-depth)*2\n",
    "        depth = depth+dz[i] #Depth spacing. Units: cm\n",
    "    return xr.DataArray(data=dz, dims=(\"depth\"))\n",
    "\n",
    "regridder = xe.Regridder(dsS, dsgrid, 'bilinear', periodic = True, ignore_degenerate=True)\n",
    "weights = makedz(dsS.depth[0:12])\n",
    "\n",
    "s100m = regridder(dsS.so[0,0:12].weighted(weights).mean(dim='depth'))\n",
    "\n",
    "dsS100m = xr.Dataset(data_vars = dict(s100m=((\"lat\",\"lon\"), s100m)), coords = dict(lat = s100m.latitude.values, lon = s100m.longitude.values))\n",
    "xr.Dataset.to_netcdf(dsS100m, path = datafolder+'Processed/'+model+'/'+experiment+'/so100m_100yr.nc')"
   ]
  },
  {
   "cell_type": "markdown",
   "id": "2c1345cb-500e-4faf-9306-6d2388cbf3ed",
   "metadata": {
    "tags": []
   },
   "source": [
    "## 100-yr zonal mean salinity Atlantic"
   ]
  },
  {
   "cell_type": "code",
   "execution_count": 18,
   "id": "91300b67-a520-4a27-8dfb-ba1920deccea",
   "metadata": {
    "tags": []
   },
   "outputs": [],
   "source": [
    "salt_atl = dsS.so[0]\n",
    "\n",
    "#Regrid to 1x1 rectangular grid\n",
    "dsgrid = xr.open_dataset(folder+experiment+'/'+experiment+'.SST.mean_month.nc')\n",
    "regridder = xe.Regridder(dsS, dsgrid, 'bilinear', periodic = True, ignore_degenerate=True)\n",
    "\n",
    "salt = regridder(salt_atl)\n",
    "mask = regularAtlmask(salt)\n",
    "\n",
    "salt_zm = salt.where(mask>-1).mean(dim='longitude')\n",
    "\n",
    "dszm = xr.Dataset(data_vars = dict(so=((\"z\",\"lat\"), salt_zm)), coords = dict(z = salt_zm.depth.values, lat = salt_zm.latitude.values))\n",
    "xr.Dataset.to_netcdf(dszm, path = datafolder+'Processed/'+model+'/'+experiment+'/so_zm_100yr.nc')"
   ]
  },
  {
   "cell_type": "markdown",
   "id": "f795b669-ad92-42d5-bf41-95b2199508e9",
   "metadata": {},
   "source": [
    "## 100-yr zonal mean temperature Atlantic"
   ]
  },
  {
   "cell_type": "code",
   "execution_count": 19,
   "id": "c0229975-3e3c-4d4c-bd5e-f8a3508d3d9e",
   "metadata": {},
   "outputs": [
    {
     "name": "stderr",
     "output_type": "stream",
     "text": [
      "/opt/anaconda3/envs/myenv/lib/python3.8/site-packages/xesmf/frontend.py:522: FutureWarning: ``output_sizes`` should be given in the ``dask_gufunc_kwargs`` parameter. It will be removed as direct parameter in a future version.\n",
      "  dr_out = xr.apply_ufunc(\n"
     ]
    }
   ],
   "source": [
    "temp_atl = dsT.thetao[0]\n",
    "\n",
    "#Regrid to 1x1 rectangular grid\n",
    "dsgrid = xr.open_dataset(folder+experiment+'/'+experiment+'.SST.mean_month.nc')\n",
    "regridder = xe.Regridder(dsT, dsgrid, 'bilinear', periodic = True, ignore_degenerate=True)\n",
    "\n",
    "temp = regridder(temp_atl)\n",
    "mask = regularAtlmask(temp)\n",
    "\n",
    "temp_zm = temp.where(mask>-1).mean(dim='longitude')\n",
    "\n",
    "dtzm = xr.Dataset(data_vars = dict(thetao=((\"z\",\"lat\"), temp_zm)), coords = dict(z = temp_zm.depth.values, lat = temp_zm.latitude.values))\n",
    "xr.Dataset.to_netcdf(dtzm, path = datafolder+'Processed/'+model+'/'+experiment+'/thetao_zm_100yr.nc')"
   ]
  },
  {
   "cell_type": "markdown",
   "id": "af863167-4de9-438a-8f79-fa406335856e",
   "metadata": {},
   "source": [
    "## 100-yr mean wind at 1000 hPa"
   ]
  },
  {
   "cell_type": "code",
   "execution_count": 20,
   "id": "4ebbe6cd-55e0-4f5f-b16b-17888249803f",
   "metadata": {},
   "outputs": [],
   "source": [
    "if experiment == 'E280':\n",
    "    dsu = xr.open_dataset(folder+experiment+'/Atm/MIROC4m_E280_Amon_ua.nc',decode_times=False)\n",
    "    dsv = xr.open_dataset(folder+experiment+'/Atm/MIROC4m_E280_Amon_va.nc',decode_times=False)\n",
    "else:\n",
    "    dsu = xr.open_dataset(folder+experiment+'/Atm/MIROC4m_Eoi400_Amon_ua.nc',decode_times=False)\n",
    "    dsv = xr.open_dataset(folder+experiment+'/Atm/MIROC4m_Eoi400_Amon_va.nc',decode_times=False)"
   ]
  },
  {
   "cell_type": "code",
   "execution_count": 21,
   "id": "a2f0c072-7b74-473f-af82-6881b089ef55",
   "metadata": {},
   "outputs": [],
   "source": [
    "ua = dsu.ua[:,0].mean(dim='time')\n",
    "va = dsv.va[:,0].mean(dim='time')"
   ]
  },
  {
   "cell_type": "code",
   "execution_count": 22,
   "id": "394619a0-3829-4270-8329-f510ca41976a",
   "metadata": {},
   "outputs": [
    {
     "name": "stderr",
     "output_type": "stream",
     "text": [
      "/opt/anaconda3/envs/myenv/lib/python3.8/site-packages/xesmf/frontend.py:522: FutureWarning: ``output_sizes`` should be given in the ``dask_gufunc_kwargs`` parameter. It will be removed as direct parameter in a future version.\n",
      "  dr_out = xr.apply_ufunc(\n"
     ]
    }
   ],
   "source": [
    "dsgrid = xr.open_dataset(folder+experiment+'/'+experiment+'.SST.mean_month.nc')\n",
    "regridder = xe.Regridder(dsu, dsgrid, 'bilinear', periodic = True, ignore_degenerate=True)\n",
    "\n",
    "u = regridder(ua)\n",
    "v = regridder(va)\n",
    "\n",
    "dsUV = xr.Dataset(data_vars = dict(ua=((\"lat\",\"lon\"), u), va=((\"lat\",\"lon\"), v)), coords = dict(lat = u.latitude.values, lon = v.longitude.values))\n",
    "xr.Dataset.to_netcdf(dsUV, path = datafolder+'Processed/'+model+'/'+experiment+'/UVa_100yr.nc')"
   ]
  },
  {
   "cell_type": "markdown",
   "id": "c65f5583-2f63-4f94-8d2b-428718c0017c",
   "metadata": {},
   "source": [
    "## PmE field"
   ]
  },
  {
   "cell_type": "code",
   "execution_count": 23,
   "id": "095b84dc-d005-4a6b-a4ee-7dfe1a23e568",
   "metadata": {},
   "outputs": [],
   "source": [
    "if experiment == 'E280':\n",
    "    dsp = xr.open_dataset(folder+experiment+'/Atm/MIROC4m_E280_Amon_prc.nc',decode_times=False)\n",
    "    dse = xr.open_dataset(folder+experiment+'/Atm/MIROC4m_E280_Amon_evspsbl.nc',decode_times=False)\n",
    "else:\n",
    "    dsp = xr.open_dataset(folder+experiment+'/Atm/MIROC4m_Eoi400_Amon_prc.nc',decode_times=False)\n",
    "    dse = xr.open_dataset(folder+experiment+'/Atm/MIROC4m_Eoi400_Amon_evspsbl.nc',decode_times=False)"
   ]
  },
  {
   "cell_type": "code",
   "execution_count": 24,
   "id": "f5fa068f-55d9-445c-88e4-3de42890a811",
   "metadata": {},
   "outputs": [],
   "source": [
    "p = dsp.prc.mean(dim='time')\n",
    "e = dse.evspsbl.mean(dim='time')\n",
    "pme = p-e"
   ]
  },
  {
   "cell_type": "code",
   "execution_count": 26,
   "id": "bb20efaf-375a-4f5d-8a81-1bf1b9ae19b1",
   "metadata": {},
   "outputs": [],
   "source": [
    "dsgrid = xr.open_dataset(datafolder+'Processed/PmE/CCSM4-UoT.PI.PmE.12monthly.r144x73.nc') #Use as example 1x1 grid\n",
    "regridder = xe.Regridder(dsp, dsgrid, 'bilinear', periodic = True, ignore_degenerate=True)\n",
    "\n",
    "PmE = regridder(pme)\n",
    "\n",
    "dspme = xr.Dataset(data_vars = dict(PmE=((\"lat\",\"lon\"), PmE)), coords = dict(lat = PmE.lat.values, lon = PmE.lon.values))\n",
    "if experiment == 'E280':\n",
    "    xr.Dataset.to_netcdf(dspme, path = datafolder+'Processed/PmE/MIROC4m.PI.PmE.12monthly.r144x73.nc')\n",
    "else:\n",
    "    xr.Dataset.to_netcdf(dspme, path = datafolder+'Processed/PmE/MIROC4m.Plio.PmE.12monthly.r144x73.nc')"
   ]
  },
  {
   "cell_type": "code",
   "execution_count": null,
   "id": "6bc26ffa",
   "metadata": {},
   "outputs": [],
   "source": []
  }
 ],
 "metadata": {
  "kernelspec": {
   "display_name": "Python 3 (ipykernel)",
   "language": "python",
   "name": "python3"
  },
  "language_info": {
   "codemirror_mode": {
    "name": "ipython",
    "version": 3
   },
   "file_extension": ".py",
   "mimetype": "text/x-python",
   "name": "python",
   "nbconvert_exporter": "python",
   "pygments_lexer": "ipython3",
   "version": "3.8.12"
  }
 },
 "nbformat": 4,
 "nbformat_minor": 5
}
