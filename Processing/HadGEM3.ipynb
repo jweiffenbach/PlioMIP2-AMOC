{
 "cells": [
  {
   "cell_type": "code",
   "execution_count": 1,
   "id": "511e51e7-717c-404c-9034-2303417d4315",
   "metadata": {},
   "outputs": [],
   "source": [
    "## imports\n",
    "import sys\n",
    "import os\n",
    "import numpy as np\n",
    "import xarray as xr\n",
    "import cmocean\n",
    "import matplotlib\n",
    "import matplotlib.pyplot as plt\n",
    "from matplotlib.patches import Rectangle\n",
    "from matplotlib import gridspec\n",
    "import cartopy\n",
    "import cartopy.crs as ccrs\n",
    "from cartopy.mpl.gridliner import LONGITUDE_FORMATTER, LATITUDE_FORMATTER\n",
    "import eofs\n",
    "from eofs.xarray import Eof\n",
    "import cftime\n",
    "import nc_time_axis\n",
    "\n",
    "import mtspec\n",
    "\n",
    "# from pylab import *\n",
    "\n",
    "import datetime\n",
    "import time\n",
    "import glob, os\n",
    "import math\n",
    "import matplotlib.colors as colors\n",
    "import xesmf as xe\n",
    "import warnings\n",
    "from defs import regularAtlmask"
   ]
  },
  {
   "cell_type": "code",
   "execution_count": 2,
   "id": "23f383dc",
   "metadata": {},
   "outputs": [],
   "source": [
    "datafolder = ''"
   ]
  },
  {
   "cell_type": "code",
   "execution_count": 3,
   "id": "2ab8ad5e-3b59-4269-849f-ea20053e9756",
   "metadata": {},
   "outputs": [],
   "source": [
    "experiment = 'E280' \n",
    "model = 'HadGEM3'\n",
    "folder = datafolder+'Raw_data/'+model+'/'"
   ]
  },
  {
   "cell_type": "code",
   "execution_count": 7,
   "id": "e9032e44-c2e2-4b41-9111-2c01021b833b",
   "metadata": {},
   "outputs": [],
   "source": [
    "dsV = xr.open_dataset('/Users/6497241/surfdrive/Documents/PlioMIP2-OHT/Data/Raw_data/'+model+'/'+experiment+'/vo_100yr.nc')\n",
    "dsS = xr.open_dataset('/Users/6497241/surfdrive/Documents/PlioMIP2-OHT/Data/Raw_data/'+model+'/'+experiment+'/so_100yr.nc')\n",
    "dsT = xr.open_dataset('/Users/6497241/surfdrive/Documents/PlioMIP2-OHT/Data/Raw_data/'+model+'/'+experiment+'/thetao_100yr.nc')\n",
    "dsr = xr.open_dataset('/Users/6497241/surfdrive/Documents/PlioMIP2-OHT/Data/Raw_data/'+model+'/'+experiment+'/subbasins_CMIP6.nc')\n",
    "\n",
    "if experiment == 'E280':\n",
    "    dsOHT = xr.open_dataset(folder+experiment+'/clims_hadgem3_pi_totaloceanheat.nc',decode_times=False)\n",
    "    dsice = xr.open_dataset(folder+experiment+'/clims_hadgem3_pi_fraccice_final.nc',decode_times=False)\n",
    "\n",
    "else:\n",
    "    dsOHT = xr.open_dataset(folder+experiment+'/clims_hadgem3_pliocene_oht_final.nc',decode_times=False)\n",
    "    dsice = xr.open_dataset(folder+experiment+'/clims_hadgem3_pliocene_fraccice_final.nc',decode_times=False)\n"
   ]
  },
  {
   "cell_type": "markdown",
   "id": "aa48148b-00e0-4f15-bc80-2046aba2e2f6",
   "metadata": {
    "tags": []
   },
   "source": [
    "## Separation MOC and gyre OHT component 100-yr average"
   ]
  },
  {
   "cell_type": "code",
   "execution_count": 8,
   "id": "030a3cc5-44aa-41c6-aed6-b6ff77053b7f",
   "metadata": {},
   "outputs": [],
   "source": [
    "dsV = dsV.rename({'nav_lon': 'ULONG', 'nav_lat': 'ULAT', 'depthv': 'olevel'})\n",
    "dsT = dsT.rename({'nav_lon': 'TLONG', 'nav_lat': 'TLAT', 'deptht': 'olevel'})\n",
    "dsS = dsS.rename({'nav_lon': 'TLONG', 'nav_lat': 'TLAT', 'deptht': 'olevel'})\n",
    "dsr = dsr.rename({'nav_lon': 'TLONG', 'nav_lat': 'TLAT'})"
   ]
  },
  {
   "cell_type": "code",
   "execution_count": 9,
   "id": "a2f0c072-7b74-473f-af82-6881b089ef55",
   "metadata": {},
   "outputs": [
    {
     "name": "stderr",
     "output_type": "stream",
     "text": [
      "/opt/anaconda3/envs/myenv/lib/python3.8/site-packages/xesmf/frontend.py:522: FutureWarning: ``output_sizes`` should be given in the ``dask_gufunc_kwargs`` parameter. It will be removed as direct parameter in a future version.\n",
      "  dr_out = xr.apply_ufunc(\n"
     ]
    }
   ],
   "source": [
    "temp = dsT.thetao\n",
    "region = dsr.atlmsk\n",
    "\n",
    "#Regrid velocity to temperature grid (fill NaN with zero values first to avoid NaN in interpolated ocean grid cells)\n",
    "regridder = xe.Regridder(dsV, dsT, 'bilinear', periodic = True, ignore_degenerate=True)\n",
    "vo = dsV.vo.fillna(0)*100\n",
    "vvel = regridder(vo) #cm/s\n",
    "vvel = vvel*temp/temp #Fill land values with NaN again"
   ]
  },
  {
   "cell_type": "markdown",
   "id": "feff63b8-c1ea-44c2-8531-a16cf48b03b3",
   "metadata": {},
   "source": [
    "Create DXT grid"
   ]
  },
  {
   "cell_type": "code",
   "execution_count": 10,
   "id": "f68a974c-47d9-45c7-a667-a7445d2a261a",
   "metadata": {
    "tags": []
   },
   "outputs": [],
   "source": [
    "dphi = np.zeros([332,362])\n",
    "lat = dsT.TLAT.values\n",
    "dphi[:,1:] = lat[:,1:]-lat[:,:-1]\n",
    "dphi[:,0] = lat[:,0]-lat[:,-1]\n",
    "dphi = np.radians(dphi)\n",
    "\n",
    "dtheta = np.zeros([332,362])\n",
    "lon = dsT.TLONG.values\n",
    "dtheta[:,1:] = lon[:,1:]-lon[:,:-1]\n",
    "dtheta[:,0] = lon[:,0]-lon[:,-1]\n",
    "\n",
    "for j in range(332):\n",
    "    for i in range(200,300):\n",
    "        if dtheta[j,i] < -300:\n",
    "            dtheta[j,i] = dtheta[j,i]+360\n",
    "dtheta = np.radians(dtheta)\n",
    "\n",
    "phi1 = np.zeros([332,362])\n",
    "phi1[:,0] = lat[:,-1]\n",
    "phi1[:,1:] = lat[:,:-1]\n",
    "phi1 = np.radians(phi1)\n",
    "\n",
    "phi2 = np.radians(lat)\n",
    "\n",
    "r = 6.37122e8 #radius Earth in cm\n",
    "d = 2*r*np.arcsin(np.sqrt(np.sin(dphi/2)**2+np.cos(phi1)*np.cos(phi2)*np.sin(dtheta/2)**2)) #Distance between adjacent cells in i dimension on U grid [cm]\n",
    "dsT['d'] = xr.DataArray(data=d, dims=(\"j\",\"i\")) \n",
    "DXT = np.zeros([332,362])\n",
    "DXT[:,:-1] = (d[:,1:]+d[:,:-1])/2\n",
    "DXT[:,-1] = (d[:,0]+d[:,-1])/2\n",
    "\n",
    "dsT['DXT'] = xr.DataArray(data=DXT, dims=(\"y\",\"x\")) #Grid lengths centered on T-points [cm]"
   ]
  },
  {
   "cell_type": "markdown",
   "id": "ee99f4f8-0d7a-4342-8703-36b4f6517c5a",
   "metadata": {},
   "source": [
    "Create DZ array"
   ]
  },
  {
   "cell_type": "code",
   "execution_count": 11,
   "id": "52f263e1-4bc2-46d7-96cb-4ddb8274d26f",
   "metadata": {},
   "outputs": [],
   "source": [
    "#1-D array with spacing of depth grid\n",
    "ds = dsT.copy(deep=True)\n",
    "\n",
    "dz = np.zeros(len(ds.olevel))\n",
    "dz[0] = ds.olevel[0].values*2\n",
    "depth = dz[0]\n",
    "for i in range(1,len(ds.olevel)):\n",
    "    dz[i] = (ds.olevel[i]-depth)*2\n",
    "    depth = depth+dz[i]\n",
    "dz = dz*100 #Depth spacing. Units: cm\n",
    "dsV['DZ'] = xr.DataArray(data=dz, dims=(\"olevel\"))\n",
    "dsT['DZ'] = xr.DataArray(data=dz, dims=(\"olevel\"))\n",
    "DZ = dsT.DZ"
   ]
  },
  {
   "cell_type": "code",
   "execution_count": 12,
   "id": "5f3723ab-4789-47b3-985b-5761666481e2",
   "metadata": {},
   "outputs": [
    {
     "data": {
      "text/plain": [
       "<matplotlib.legend.Legend at 0x7ff794111e80>"
      ]
     },
     "execution_count": 12,
     "metadata": {},
     "output_type": "execute_result"
    },
    {
     "data": {
      "image/png": "[encoded data removed]",
      "text/plain": [
       "<Figure size 432x288 with 1 Axes>"
      ]
     },
     "metadata": {
      "needs_background": "light"
     },
     "output_type": "display_data"
    }
   ],
   "source": [
    "cp_sw = 3996.  # [J/(kg degC)]   heat capacity of water\n",
    "rho_sw = 1.026e-3  # [kg/cm^3]  density of water\n",
    "\n",
    "VVEL = vvel.where(region>0) #cm/s\n",
    "HEAT = (cp_sw*rho_sw*temp).where(region>0)  #  [J/(kg K) * kg/cm^3 * degC] = [J/cm]\n",
    "\n",
    "def zonal_means(x, dx):\n",
    "    xint = (x*dx).sum('x')  # [x-unit * cm]\n",
    "    zm = xint/dx.sum('x')   # [x-unit]\n",
    "    return xint, zm\n",
    "\n",
    "#Zonal mean velocity and heat\n",
    "VVEL_xint, VVEL_zm = zonal_means(VVEL, dsT.DXT.where(VVEL<10000))\n",
    "HEAT_xint, HEAT_zm = zonal_means(HEAT, dsT.DXT.where(VVEL<10000))\n",
    "\n",
    "#Make zonal mean fields into 3D fields again\n",
    "HEAT_zm_3D = HEAT/HEAT\n",
    "HEAT_zm_3D = HEAT_zm_3D*HEAT_zm\n",
    "\n",
    "VVEL_zm_3D = VVEL/VVEL\n",
    "VVEL_zm_3D = VVEL_zm_3D*VVEL_zm\n",
    "\n",
    "#azonal components\n",
    "HEAT_prime = (HEAT - HEAT_zm) # azonal heat component (x,y,z) [J/cm]\n",
    "VVEL_prime = (VVEL - VVEL_zm)  # azonal velocity comp. (x,y,z) [cm/s]\n",
    "\n",
    "#Integrate to compute OHTov and OHTaz\n",
    "Hov = (VVEL_zm_3D*HEAT_zm_3D*dsT.DXT*dsT.DZ).sum(dim=['x','olevel'])\n",
    "Haz = (VVEL_prime*HEAT_prime*dsT.DXT*dsT.DZ).sum(dim=['x','olevel'])  # product of primed velocity and heat [cm/s * J/cm^2 * cm]\n",
    "\n",
    "#Auxiliary latitudes for OHtov and OHTaz\n",
    "lats = dsT.TLAT.where(region>0).mean(dim='x')\n",
    "\n",
    "plt.figure(figsize=(6,4))\n",
    "plt.axhline(0,c='k',lw=.5)\n",
    "plt.plot(lats, Hov, label='overturning component')\n",
    "\n",
    "plt.plot(lats, Haz, label='azonal component')\n",
    "plt.plot(lats, (Hov+Haz), label='overturning+azonal')\n",
    "plt.plot(dsOHT.latitude, dsOHT.OHT_atlantic.mean(dim='time')[:,0]*1e15,label='Eulerian mean')\n",
    "plt.title('northward heat transport')\n",
    "plt.xlim([-35,70])\n",
    "plt.ylim([-0.5e15, 1.25e15])\n",
    "plt.xlabel(r'latitude  [$^\\circ$N]')\n",
    "plt.legend(fontsize=8)"
   ]
  },
  {
   "cell_type": "code",
   "execution_count": 13,
   "id": "ba68eac3-dd2f-44c3-90fd-bb68c6057ef6",
   "metadata": {},
   "outputs": [],
   "source": [
    "dsE = xr.Dataset(data_vars = dict(OHTov=([\"lat\"], Hov[134:-2]/1e15), OHTaz=([\"lat\"], Haz[134:-2]/1e15)), coords = dict(lat = lats[134:-2].values))\n",
    "xr.Dataset.to_netcdf(dsE, path = datafolder+'/Processed/'+model+'/'+experiment+'/decomOHT_100yr.nc')"
   ]
  },
  {
   "cell_type": "markdown",
   "id": "f52d48e0-521a-420b-b9de-3e4bcc36fc39",
   "metadata": {
    "tags": []
   },
   "source": [
    "## 100-yr mean and annual time series AMOC streamfunction"
   ]
  },
  {
   "cell_type": "code",
   "execution_count": 14,
   "id": "bb20efaf-375a-4f5d-8a81-1bf1b9ae19b1",
   "metadata": {},
   "outputs": [],
   "source": [
    "warnings.filterwarnings(action='ignore', message='Mean of empty slice')\n",
    "\n",
    "#Open files: one file for every year\n",
    "folder = datafolder+'Raw_data/HadGEM3/'+experiment+'/Timeseries_OHT_MOC/'\n",
    "filename_data= '*.nc'\n",
    "files = glob.glob(folder+filename_data)\n",
    "files.sort()\n",
    "\n",
    "#Combine into a single file and make any cells with value zero into NaN\n",
    "amoc = np.zeros([100,75,180])\n",
    "for i in range(100):\n",
    "    amoc_monthly = np.zeros([12,75,180])\n",
    "    for j in range(12):\n",
    "        ds = xr.open_dataset(files[i*12+j])\n",
    "        a = ds.zomsfatl[0,:,:,0].where(ds.zomsfatl[0,:,:,0]!=0)\n",
    "        amoc_monthly[j,:,:] = a.values\n",
    "    amoc[i,:,:]=np.nanmean(amoc_monthly, axis=0)\n",
    "\n",
    "if experiment =='E280':\n",
    "    dsM2 = xr.Dataset(data_vars = dict(AMOC=((\"time\",\"z\",\"lat\"), amoc)), coords = dict(time = np.arange(1950, 2050), z = ds.depthw.values, lat = ds.lat.values))\n",
    "else:\n",
    "    dsM2 = xr.Dataset(data_vars = dict(AMOC=((\"time\",\"z\",\"lat\"), amoc)), coords = dict(time = np.arange(2334, 2434), z = ds.depthw.values, lat = ds.lat.values))\n",
    "    \n",
    "dsM = xr.Dataset(data_vars = dict(AMOC=((\"z\",\"lat\"), np.nanmean(amoc, axis=0))), coords = dict(z = ds.depthw.values, lat = ds.lat.values))\n",
    "\n",
    "xr.Dataset.to_netcdf(dsM2, path = datafolder+'Processed/'+model+'/'+experiment+'/AMOC_annual_100yr.nc')\n",
    "xr.Dataset.to_netcdf(dsM, path = datafolder+'Processed/'+model+'/'+experiment+'/AMOC_100yr.nc')"
   ]
  },
  {
   "cell_type": "markdown",
   "id": "f9164c8f-7cb6-41ed-bba8-ffde0d23e689",
   "metadata": {},
   "source": [
    "## 100-yr mean total Atlantic OHT"
   ]
  },
  {
   "cell_type": "code",
   "execution_count": 15,
   "id": "33f788a1-2574-48a4-90e9-afa98c85a025",
   "metadata": {},
   "outputs": [],
   "source": [
    "#Open files: one file for every year\n",
    "folder = datafolder+'Raw_data/HadGEM3/'+experiment+'/Timeseries_OHT_MOC/'\n",
    "filename_data= '*.nc'\n",
    "files = glob.glob(folder+filename_data)\n",
    "files.sort()\n",
    "\n",
    "#Combine into one file\n",
    "oht = np.zeros([1200,180])\n",
    "for i in range(1200):\n",
    "    ds = xr.open_dataset(files[i])\n",
    "    oht[i,:] = ds.hfbasin_atlantic[0,:,0].values\n",
    "\n",
    "#Compute 100-year mean\n",
    "oht = np.mean(oht, axis=0)\n",
    "\n",
    "dsH = xr.Dataset(data_vars = dict(OHT=((\"lat\"), oht)), coords = dict(lat = ds.lat.values))\n",
    "xr.Dataset.to_netcdf(dsH, path = datafolder+'Processed/'+model+'/'+experiment+'/OHT_100yr.nc')"
   ]
  },
  {
   "cell_type": "markdown",
   "id": "5c6da9ac-bb0c-40bd-a137-8bf9b703f2da",
   "metadata": {},
   "source": [
    "## Annual SST timeseries (100 years)"
   ]
  },
  {
   "cell_type": "code",
   "execution_count": 16,
   "id": "dbf7e781-c888-4d8a-9e20-f3ec8d449890",
   "metadata": {},
   "outputs": [
    {
     "name": "stderr",
     "output_type": "stream",
     "text": [
      "/opt/anaconda3/envs/myenv/lib/python3.8/site-packages/xesmf/frontend.py:522: FutureWarning: ``output_sizes`` should be given in the ``dask_gufunc_kwargs`` parameter. It will be removed as direct parameter in a future version.\n",
      "  dr_out = xr.apply_ufunc(\n"
     ]
    }
   ],
   "source": [
    "dstos = xr.open_dataset(datafolder+'Raw_data/'+model+'/'+experiment+'/thetao_annual_100yr.nc',decode_times=False)\n",
    "dsgrid = xr.open_dataset(datafolder+'Raw_data/'+model+'/'+experiment+'/'+experiment+'.SST.mean_month.nc', decode_times=False)\n",
    "\n",
    "regridder = xe.Regridder(dstos, dsgrid, 'bilinear', periodic = True, ignore_degenerate=True)\n",
    "tos = regridder(dstos.thetao[:,0,:,:])\n",
    "\n",
    "if experiment =='E280':\n",
    "    dsSST = xr.Dataset(data_vars = dict(sst=((\"time\",\"lat\",\"lon\"), tos.values)), coords = dict(time = np.arange(1950, 2050), lat = tos.latitude.values, lon = tos.longitude.values))\n",
    "else:\n",
    "    dsSST = xr.Dataset(data_vars = dict(sst=((\"time\",\"lat\",\"lon\"), tos.values)), coords = dict(time = np.arange(2334, 2434), lat = tos.latitude.values, lon = tos.longitude.values))\n",
    "\n",
    "xr.Dataset.to_netcdf(dsSST, path = datafolder+'Processed/'+model+'/'+experiment+'/SST_annual_100yr.nc')"
   ]
  },
  {
   "cell_type": "markdown",
   "id": "099351bf-6993-4e19-8c52-42a1cad5e373",
   "metadata": {
    "tags": []
   },
   "source": [
    "## 100-yr SSS (regridded)"
   ]
  },
  {
   "cell_type": "code",
   "execution_count": 17,
   "id": "e9733df5-df0d-4186-8879-4759890bea45",
   "metadata": {
    "tags": []
   },
   "outputs": [],
   "source": [
    "dsgrid = xr.open_dataset(datafolder+'Raw_data/'+model+'/'+experiment+'/'+experiment+'.SST.mean_month.nc', decode_times=False)\n",
    "regridder = xe.Regridder(dsS, dsgrid, 'bilinear', periodic = True, ignore_degenerate=True)\n",
    "\n",
    "sss = regridder(dsS.so[0])\n",
    "\n",
    "dsSSS = xr.Dataset(data_vars = dict(sss=((\"lat\",\"lon\"), sss)), coords = dict(lat = sss.latitude.values, lon = sss.longitude.values))\n",
    "xr.Dataset.to_netcdf(dsSSS, path = datafolder+'Processed/'+model+'/'+experiment+'/SSS_100yr.nc')"
   ]
  },
  {
   "cell_type": "markdown",
   "id": "08c6b8b7-7c58-46c7-a4f8-4563739f3c4b",
   "metadata": {
    "tags": []
   },
   "source": [
    "## 100-yr sea ice (regridded)"
   ]
  },
  {
   "cell_type": "code",
   "execution_count": 18,
   "id": "d422938e-0a5e-44d8-9440-e70fc50982fa",
   "metadata": {},
   "outputs": [
    {
     "name": "stderr",
     "output_type": "stream",
     "text": [
      "/opt/anaconda3/envs/myenv/lib/python3.8/site-packages/xesmf/frontend.py:522: FutureWarning: ``output_sizes`` should be given in the ``dask_gufunc_kwargs`` parameter. It will be removed as direct parameter in a future version.\n",
      "  dr_out = xr.apply_ufunc(\n"
     ]
    }
   ],
   "source": [
    "djf = (dsice.seaice[11]+dsice.seaice[0]+dsice.seaice[1])/3\n",
    "mam = (dsice.seaice[2]+dsice.seaice[3]+dsice.seaice[4])/3\n",
    "jja = (dsice.seaice[5]+dsice.seaice[6]+dsice.seaice[7])/3\n",
    "son = (dsice.seaice[8]+dsice.seaice[9]+dsice.seaice[10])/3\n",
    "\n",
    "dsgrid = xr.open_dataset(datafolder+'Raw_data/'+model+'/'+experiment+'/'+experiment+'.SST.mean_month.nc', decode_times=False)\n",
    "regridder = xe.Regridder(dsice, dsgrid, 'bilinear', periodic = True, ignore_degenerate=True)\n",
    "\n",
    "si_djf = regridder(djf)*100\n",
    "si_mam = regridder(mam)*100\n",
    "si_jja = regridder(jja)*100\n",
    "si_son = regridder(son)*100\n",
    "\n",
    "si = (si_djf+si_mam+si_jja+si_son)/4\n",
    "\n",
    "dsSI = xr.Dataset(data_vars = dict(si_djf=((\"lat\",\"lon\"), si_djf), si_mam = ((\"lat\",\"lon\"), si_mam), si_jja = ((\"lat\",\"lon\"), si_jja), si_son = ((\"lat\",\"lon\"), si_son), si_mean = ((\"lat\",\"lon\"), si)), coords = dict(lat = si_djf.latitude.values, lon = si_djf.longitude.values))\n",
    "xr.Dataset.to_netcdf(dsSI, path = datafolder+'Processed/'+model+'/'+experiment+'/SI_100yr.nc')"
   ]
  },
  {
   "cell_type": "markdown",
   "id": "483e3c42-228e-42b2-b8c5-72178a94aa7e",
   "metadata": {
    "tags": []
   },
   "source": [
    "## 100-yr mean top 100 m salinity"
   ]
  },
  {
   "cell_type": "code",
   "execution_count": 19,
   "id": "5476167a-fe99-41b3-8e1a-e6155055f595",
   "metadata": {
    "tags": []
   },
   "outputs": [
    {
     "name": "stderr",
     "output_type": "stream",
     "text": [
      "/opt/anaconda3/envs/myenv/lib/python3.8/site-packages/xesmf/frontend.py:522: FutureWarning: ``output_sizes`` should be given in the ``dask_gufunc_kwargs`` parameter. It will be removed as direct parameter in a future version.\n",
      "  dr_out = xr.apply_ufunc(\n"
     ]
    }
   ],
   "source": [
    "def makedz(z):\n",
    "    dz = np.zeros(len(z))\n",
    "    dz[0] = z[0].values*2\n",
    "    depth = dz[0]\n",
    "    for i in range(1,len(z)):\n",
    "        dz[i] = (z[i]-depth)*2\n",
    "        depth = depth+dz[i] #Depth spacing. Units: cm\n",
    "    return xr.DataArray(data=dz, dims=(\"olevel\"))\n",
    "\n",
    "regridder = xe.Regridder(dsS, dsgrid, 'bilinear', periodic = True, ignore_degenerate=True)\n",
    "weights = makedz(dsS.olevel[0:23])\n",
    "\n",
    "s100m = regridder(dsS.so[0:23].weighted(weights).mean(dim='olevel'))\n",
    "\n",
    "dsS100m = xr.Dataset(data_vars = dict(s100m=((\"lat\",\"lon\"), s100m)), coords = dict(lat = s100m.latitude.values, lon = s100m.longitude.values))\n",
    "xr.Dataset.to_netcdf(dsS100m, path = datafolder+'Processed/'+model+'/'+experiment+'/so100m_100yr.nc')"
   ]
  },
  {
   "cell_type": "markdown",
   "id": "fac9a32b-444d-4a13-99b6-209a949f892d",
   "metadata": {},
   "source": [
    "## 100-yr zonal mean temperature"
   ]
  },
  {
   "cell_type": "code",
   "execution_count": 20,
   "id": "531fe951-b478-4b12-a525-108cad691d32",
   "metadata": {},
   "outputs": [],
   "source": [
    "temp_atl = dsT.thetao\n",
    "\n",
    "#Regrid to 1x1 rectangular grid\n",
    "dsgrid = xr.open_dataset('/Users/6497241/surfdrive/Documents/PlioMIP2-OHT/Data/Raw_data/'+model+'/'+experiment+'/'+experiment+'.SST.mean_month.nc', decode_times=False)\n",
    "regridder = xe.Regridder(dsT, dsgrid, 'bilinear', periodic = True, ignore_degenerate=True)\n",
    "\n",
    "temp = regridder(temp_atl)\n",
    "mask = regularAtlmask(temp)\n",
    "\n",
    "temp_zm = temp.where(mask>-1).mean(dim='longitude')\n",
    "\n",
    "dtzm = xr.Dataset(data_vars = dict(thetao=((\"z\",\"lat\"), temp_zm)), coords = dict(z = temp_zm.olevel.values, lat = temp_zm.latitude.values))\n",
    "xr.Dataset.to_netcdf(dtzm, path = datafolder+'Processed/'+model+'/'+experiment+'/thetao_zm_100yr.nc')"
   ]
  },
  {
   "cell_type": "markdown",
   "id": "1bd4c587-dc81-4607-9530-ddc8c65edace",
   "metadata": {},
   "source": [
    "## 100-yr zonal mean salinity"
   ]
  },
  {
   "cell_type": "code",
   "execution_count": 21,
   "id": "2cefb12a-2ad4-463d-a90f-94f2ad7e98a4",
   "metadata": {
    "tags": []
   },
   "outputs": [
    {
     "name": "stderr",
     "output_type": "stream",
     "text": [
      "/opt/anaconda3/envs/myenv/lib/python3.8/site-packages/xesmf/frontend.py:522: FutureWarning: ``output_sizes`` should be given in the ``dask_gufunc_kwargs`` parameter. It will be removed as direct parameter in a future version.\n",
      "  dr_out = xr.apply_ufunc(\n"
     ]
    }
   ],
   "source": [
    "salt_atl = dsS.so\n",
    "\n",
    "#Regrid to 1x1 rectangular grid\n",
    "dsgrid = xr.open_dataset(datafolder+'Raw_data/'+model+'/'+experiment+'/'+experiment+'.SST.mean_month.nc', decode_times=False)\n",
    "regridder = xe.Regridder(dsS, dsgrid, 'bilinear', periodic = True, ignore_degenerate=True)\n",
    "\n",
    "salt = regridder(salt_atl)\n",
    "mask = regularAtlmask(salt)\n",
    "\n",
    "salt_zm = salt.where(mask>-1).mean(dim='longitude')\n",
    "\n",
    "dszm = xr.Dataset(data_vars = dict(so=((\"z\",\"lat\"), salt_zm)), coords = dict(z = salt_zm.olevel.values, lat = salt_zm.latitude.values))\n",
    "xr.Dataset.to_netcdf(dszm, path = datafolder+'Processed/'+model+'/'+experiment+'/so_zm_100yr.nc')"
   ]
  },
  {
   "cell_type": "markdown",
   "id": "590978b3-eaff-4ae4-ae6d-dd08120251c6",
   "metadata": {},
   "source": [
    "## 100-yr mean wind at 1000 hPa"
   ]
  },
  {
   "cell_type": "code",
   "execution_count": 22,
   "id": "fb827784-7247-4237-8912-94be83856f3e",
   "metadata": {},
   "outputs": [],
   "source": [
    "folder = datafolder+'Raw_data/'+model+'/'\n",
    "\n",
    "if experiment == 'E280':\n",
    "    dsu = xr.open_dataset(folder+experiment+'/Atm/clims_hadgem3_pi_u_final.nc',decode_times=False)\n",
    "    dsv = xr.open_dataset(folder+experiment+'/Atm/clims_hadgem3_pi_v_final.nc',decode_times=False)\n",
    "\n",
    "else:\n",
    "    dsu = xr.open_dataset(folder+experiment+'/Atm/clims_hadgem3_pliocene_u_final.nc',decode_times=False)\n",
    "    dsv = xr.open_dataset(folder+experiment+'/Atm/clims_hadgem3_pliocene_v_final.nc',decode_times=False)"
   ]
  },
  {
   "cell_type": "code",
   "execution_count": 23,
   "id": "fc8cb62a-99fc-4ad2-a2b8-6251ea8db36c",
   "metadata": {},
   "outputs": [
    {
     "name": "stderr",
     "output_type": "stream",
     "text": [
      "/opt/anaconda3/envs/myenv/lib/python3.8/site-packages/xesmf/frontend.py:522: FutureWarning: ``output_sizes`` should be given in the ``dask_gufunc_kwargs`` parameter. It will be removed as direct parameter in a future version.\n",
      "  dr_out = xr.apply_ufunc(\n"
     ]
    }
   ],
   "source": [
    "ua = dsu.u.mean(dim='time')[0]\n",
    "va = dsv.v.mean(dim='time')[0]\n",
    "\n",
    "dsgrid = xr.open_dataset(datafolder+'Raw_data/'+model+'/'+experiment+'/'+experiment+'.SST.mean_month.nc', decode_times=False)\n",
    "regridder = xe.Regridder(dsu, dsgrid, 'bilinear', periodic = True, ignore_degenerate=True)\n",
    "\n",
    "u = regridder(ua)\n",
    "v = regridder(va)\n",
    "\n",
    "dsUV = xr.Dataset(data_vars = dict(ua=((\"lat\",\"lon\"), u), va=((\"lat\",\"lon\"), v)), coords = dict(lat = u.latitude.values, lon = v.longitude.values))\n",
    "xr.Dataset.to_netcdf(dsUV, path = datafolder+'Processed/'+model+'/'+experiment+'/UVa_100yr.nc')"
   ]
  }
 ],
 "metadata": {
  "kernelspec": {
   "display_name": "Python 3 (ipykernel)",
   "language": "python",
   "name": "python3"
  },
  "language_info": {
   "codemirror_mode": {
    "name": "ipython",
    "version": 3
   },
   "file_extension": ".py",
   "mimetype": "text/x-python",
   "name": "python",
   "nbconvert_exporter": "python",
   "pygments_lexer": "ipython3",
   "version": "3.8.12"
  }
 },
 "nbformat": 4,
 "nbformat_minor": 5
}
