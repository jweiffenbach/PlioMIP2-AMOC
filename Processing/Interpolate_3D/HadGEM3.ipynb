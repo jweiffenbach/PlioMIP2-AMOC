{
 "cells": [
  {
   "cell_type": "code",
   "execution_count": 7,
   "id": "511e51e7-717c-404c-9034-2303417d4315",
   "metadata": {},
   "outputs": [],
   "source": [
    "## imports\n",
    "import sys\n",
    "import os\n",
    "import numpy as np\n",
    "import xarray as xr\n",
    "import cmocean\n",
    "import matplotlib\n",
    "import matplotlib.pyplot as plt\n",
    "from matplotlib.patches import Rectangle\n",
    "from matplotlib import gridspec\n",
    "import cartopy\n",
    "import cartopy.crs as ccrs\n",
    "from cartopy.mpl.gridliner import LONGITUDE_FORMATTER, LATITUDE_FORMATTER\n",
    "import eofs\n",
    "from eofs.xarray import Eof\n",
    "import cftime\n",
    "import nc_time_axis\n",
    "\n",
    "import mtspec\n",
    "\n",
    "# from pylab import *\n",
    "\n",
    "import datetime\n",
    "import time\n",
    "import glob, os\n",
    "import math\n",
    "import matplotlib.colors as colors\n",
    "import xesmf as xe\n",
    "import warnings\n",
    "from defs import regularAtlmask"
   ]
  },
  {
   "cell_type": "code",
   "execution_count": 1,
   "id": "5908c27b",
   "metadata": {},
   "outputs": [],
   "source": [
    "datafolder = ''"
   ]
  },
  {
   "cell_type": "code",
   "execution_count": 18,
   "id": "2ab8ad5e-3b59-4269-849f-ea20053e9756",
   "metadata": {},
   "outputs": [],
   "source": [
    "experiment = 'Eoi400' \n",
    "model = 'HadGEM3'\n",
    "folder = datafolder+'Raw_data/'+model+'/'"
   ]
  },
  {
   "cell_type": "code",
   "execution_count": 19,
   "id": "e9032e44-c2e2-4b41-9111-2c01021b833b",
   "metadata": {},
   "outputs": [],
   "source": [
    "dsV = xr.open_dataset(folder+experiment+'/vo_100yr.nc')\n",
    "dsS = xr.open_dataset(folder+experiment+'/so_100yr.nc')\n",
    "dsT = xr.open_dataset(folder+experiment+'/thetao_100yr.nc')\n",
    "\n",
    "dsgrid = xr.open_dataset(folder+experiment+'/'+experiment+'.SST.mean_month.nc', decode_times=False)"
   ]
  },
  {
   "cell_type": "code",
   "execution_count": 21,
   "id": "030a3cc5-44aa-41c6-aed6-b6ff77053b7f",
   "metadata": {},
   "outputs": [],
   "source": [
    "dsV = dsV.rename({'nav_lon': 'ULONG', 'nav_lat': 'ULAT', 'depthv': 'level'})\n",
    "dsT = dsT.rename({'nav_lon': 'TLONG', 'nav_lat': 'TLAT', 'deptht': 'level'})\n",
    "dsS = dsS.rename({'nav_lon': 'TLONG', 'nav_lat': 'TLAT', 'deptht': 'level'})"
   ]
  },
  {
   "cell_type": "code",
   "execution_count": 22,
   "id": "68f30d87-ccdf-4e55-9d01-abe072847203",
   "metadata": {},
   "outputs": [],
   "source": [
    "regridder = xe.Regridder(dsS, dsgrid, 'bilinear', periodic = True, ignore_degenerate=True)\n",
    "\n",
    "var = regridder(dsS.so)\n",
    "\n",
    "ds = xr.Dataset(data_vars = dict(so=((\"z\",\"lat\",\"lon\"), var)), coords = dict(z = var.level.values, lat = var.latitude.values, lon = var.longitude.values))\n",
    "xr.Dataset.to_netcdf(ds, path = datafolder+'Processed/'+model+'/'+experiment+'/so_1x1_100yr.nc')"
   ]
  },
  {
   "cell_type": "code",
   "execution_count": 23,
   "id": "3ec2702f-c976-4fe7-82bf-8547cc69de3c",
   "metadata": {},
   "outputs": [],
   "source": [
    "regridder = xe.Regridder(dsV, dsgrid, 'bilinear', periodic = True, ignore_degenerate=True)\n",
    "\n",
    "var = regridder(dsV.vo*100)\n",
    "\n",
    "ds = xr.Dataset(data_vars = dict(vo=((\"z\",\"lat\",\"lon\"), var)), coords = dict(z = var.level.values, lat = var.latitude.values, lon = var.longitude.values))\n",
    "xr.Dataset.to_netcdf(ds, path = datafolder+'Processed/'+model+'/'+experiment+'/vo_1x1_100yr.nc')"
   ]
  },
  {
   "cell_type": "code",
   "execution_count": 24,
   "id": "886587c7-ff2d-4a2a-a561-b76526aa1a81",
   "metadata": {},
   "outputs": [],
   "source": [
    "regridder = xe.Regridder(dsT, dsgrid, 'bilinear', periodic = True, ignore_degenerate=True)\n",
    "\n",
    "var = regridder(dsT.thetao)\n",
    "\n",
    "ds = xr.Dataset(data_vars = dict(thetao=((\"z\",\"lat\",\"lon\"), var)), coords = dict(z = var.level.values, lat = var.latitude.values, lon = var.longitude.values))\n",
    "xr.Dataset.to_netcdf(ds, path = datafolder+'Processed/'+model+'/'+experiment+'/thetao_1x1_100yr.nc')"
   ]
  },
  {
   "cell_type": "code",
   "execution_count": null,
   "id": "262bd2a6-1757-45c5-8392-9be374a9a77a",
   "metadata": {},
   "outputs": [],
   "source": []
  },
  {
   "cell_type": "code",
   "execution_count": null,
   "id": "5fd27bc7-7728-4af6-bb1d-8e8f7985a647",
   "metadata": {},
   "outputs": [],
   "source": []
  }
 ],
 "metadata": {
  "kernelspec": {
   "display_name": "Python 3 (ipykernel)",
   "language": "python",
   "name": "python3"
  },
  "language_info": {
   "codemirror_mode": {
    "name": "ipython",
    "version": 3
   },
   "file_extension": ".py",
   "mimetype": "text/x-python",
   "name": "python",
   "nbconvert_exporter": "python",
   "pygments_lexer": "ipython3",
   "version": "3.8.12"
  }
 },
 "nbformat": 4,
 "nbformat_minor": 5
}
