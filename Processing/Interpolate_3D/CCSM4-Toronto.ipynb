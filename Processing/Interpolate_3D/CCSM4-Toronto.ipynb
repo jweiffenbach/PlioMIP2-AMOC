{
 "cells": [
  {
   "cell_type": "code",
   "execution_count": 1,
   "id": "511e51e7-717c-404c-9034-2303417d4315",
   "metadata": {},
   "outputs": [],
   "source": [
    "## imports\n",
    "import sys\n",
    "import os\n",
    "import numpy as np\n",
    "import xarray as xr\n",
    "import cmocean\n",
    "import matplotlib\n",
    "import matplotlib.pyplot as plt\n",
    "from matplotlib.patches import Rectangle\n",
    "from matplotlib import gridspec\n",
    "import cartopy\n",
    "import cartopy.crs as ccrs\n",
    "from cartopy.mpl.gridliner import LONGITUDE_FORMATTER, LATITUDE_FORMATTER\n",
    "import eofs\n",
    "from eofs.xarray import Eof\n",
    "import cftime\n",
    "import nc_time_axis\n",
    "\n",
    "import mtspec\n",
    "\n",
    "# from pylab import *\n",
    "\n",
    "import datetime\n",
    "import time\n",
    "import glob, os\n",
    "import math\n",
    "import matplotlib.colors as colors\n",
    "import xesmf as xe\n",
    "from defs import regularAtlmask"
   ]
  },
  {
   "cell_type": "code",
   "execution_count": 2,
   "id": "37ec7f80",
   "metadata": {},
   "outputs": [],
   "source": [
    "datafolder = ''"
   ]
  },
  {
   "cell_type": "code",
   "execution_count": 3,
   "id": "2ab8ad5e-3b59-4269-849f-ea20053e9756",
   "metadata": {},
   "outputs": [],
   "source": [
    "experiment = 'Eoi400' \n",
    "model = 'CCSM4-UoT'\n",
    "folder = datafolder+'Raw_data/'+model+'/'"
   ]
  },
  {
   "cell_type": "code",
   "execution_count": 4,
   "id": "e21c556d-a7fc-4633-be4d-98d727f78fb7",
   "metadata": {},
   "outputs": [
    {
     "name": "stderr",
     "output_type": "stream",
     "text": [
      "/opt/anaconda3/envs/myenv/lib/python3.8/site-packages/xarray/conventions.py:512: SerializationWarning: variable 'tos' has multiple fill values {1e+20, 1e+20}, decoding all values to NaN.\n",
      "  new_vars[k] = decode_cf_variable(\n"
     ]
    }
   ],
   "source": [
    "if experiment == 'E280':\n",
    "    ds = xr.open_dataset(folder+experiment+'/E280.nc')\n",
    "    dsV = xr.open_dataset(folder+experiment+'/E280.nc')\n",
    "    dsT = xr.open_dataset(folder+experiment+'/E280.nc')\n",
    "    dsS = xr.open_dataset(folder+experiment+'/E280.nc')\n",
    "    dstos = xr.open_dataset(folder+experiment+'/tos_Omon_UofT-CCSM4_piControl_r1i1p1f1_gr1_160101-170012.nc')\n",
    "else:\n",
    "    ds = xr.open_dataset(folder+experiment+'/Eoi400.nc')\n",
    "    dsT = xr.open_dataset(folder+experiment+'/Eoi400.nc')\n",
    "    dsV = xr.open_dataset(folder+experiment+'/Eoi400.nc')\n",
    "    dsS = xr.open_dataset(folder+experiment+'/Eoi400.nc')\n",
    "    dstos = xr.open_dataset(folder+experiment+'/tos_Omon_UofT-CCSM4_midPliocene-eoi400_r1i1p1f1_gr1_150101-160012.nc')\n",
    "    "
   ]
  },
  {
   "cell_type": "code",
   "execution_count": 54,
   "id": "2dce0985-01d9-4d00-90e6-a2c682e530fb",
   "metadata": {},
   "outputs": [],
   "source": [
    "dsS = dsS.drop(['ULAT','ULONG','lat_aux_grid','moc_z'])\n",
    " \n",
    "regridder = xe.Regridder(dsS, dstos, 'bilinear', periodic = True, ignore_degenerate=True)\n",
    "\n",
    "var = regridder(dsS.SALT)\n",
    "\n",
    "ds = xr.Dataset(data_vars = dict(so=((\"z\",\"lat\",\"lon\"), var)), coords = dict(z = var.z_t.values/100, lat = var.lat[:,0].values, lon = var.lon[0,:].values))\n",
    "xr.Dataset.to_netcdf(ds, path = datafolder+'/Processed/'+model+'/'+experiment+'/so_1x1_100yr.nc')"
   ]
  },
  {
   "cell_type": "code",
   "execution_count": 55,
   "id": "ba73def6-a940-49e0-8cc4-d055fb8e23dc",
   "metadata": {},
   "outputs": [],
   "source": [
    "dsV = dsV.drop(['TLAT','TLONG','lat_aux_grid','moc_z'])\n",
    " \n",
    "regridder = xe.Regridder(dsV, dstos, 'bilinear', periodic = True, ignore_degenerate=True)\n",
    "\n",
    "var = regridder(dsV.VVEL)\n",
    "\n",
    "ds = xr.Dataset(data_vars = dict(vo=((\"z\",\"lat\",\"lon\"), var)), coords = dict(z = var.z_t.values/100, lat = var.lat[:,0].values, lon = var.lon[0,:].values))\n",
    "xr.Dataset.to_netcdf(ds, path = datafolder+'Processed/'+model+'/'+experiment+'/vo_1x1_100yr.nc')"
   ]
  },
  {
   "cell_type": "code",
   "execution_count": 56,
   "id": "e4f892d9-151f-4996-924a-9fec5c216256",
   "metadata": {},
   "outputs": [],
   "source": [
    "dsT = dsT.drop(['ULAT','ULONG','lat_aux_grid','moc_z'])\n",
    " \n",
    "regridder = xe.Regridder(dsT, dstos, 'bilinear', periodic = True, ignore_degenerate=True)\n",
    "\n",
    "var = regridder(dsT.TEMP)\n",
    "\n",
    "ds = xr.Dataset(data_vars = dict(thetao=((\"z\",\"lat\",\"lon\"), var)), coords = dict(z = var.z_t.values/100, lat = var.lat[:,0].values, lon = var.lon[0,:].values))\n",
    "xr.Dataset.to_netcdf(ds, path = datafolder+'/Processed/'+model+'/'+experiment+'/thetao_1x1_100yr.nc')"
   ]
  },
  {
   "cell_type": "code",
   "execution_count": null,
   "id": "39c4aee8-6466-4bb4-b8a3-d4111020ed80",
   "metadata": {},
   "outputs": [],
   "source": []
  },
  {
   "cell_type": "code",
   "execution_count": null,
   "id": "bb899651-7e39-4bb5-9628-e0fc168e4122",
   "metadata": {},
   "outputs": [],
   "source": []
  }
 ],
 "metadata": {
  "kernelspec": {
   "display_name": "Python 3 (ipykernel)",
   "language": "python",
   "name": "python3"
  },
  "language_info": {
   "codemirror_mode": {
    "name": "ipython",
    "version": 3
   },
   "file_extension": ".py",
   "mimetype": "text/x-python",
   "name": "python",
   "nbconvert_exporter": "python",
   "pygments_lexer": "ipython3",
   "version": "3.8.12"
  }
 },
 "nbformat": 4,
 "nbformat_minor": 5
}
