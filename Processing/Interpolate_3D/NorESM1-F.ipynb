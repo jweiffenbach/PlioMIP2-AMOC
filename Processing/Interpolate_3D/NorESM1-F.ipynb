{
 "cells": [
  {
   "cell_type": "code",
   "execution_count": 1,
   "id": "511e51e7-717c-404c-9034-2303417d4315",
   "metadata": {},
   "outputs": [],
   "source": [
    "## imports\n",
    "import sys\n",
    "import os\n",
    "import numpy as np\n",
    "import xarray as xr\n",
    "import cmocean\n",
    "import matplotlib\n",
    "import matplotlib.pyplot as plt\n",
    "from matplotlib.patches import Rectangle\n",
    "from matplotlib import gridspec\n",
    "import cartopy\n",
    "import cartopy.crs as ccrs\n",
    "from cartopy.mpl.gridliner import LONGITUDE_FORMATTER, LATITUDE_FORMATTER\n",
    "import eofs\n",
    "from eofs.xarray import Eof\n",
    "import cftime\n",
    "import nc_time_axis\n",
    "\n",
    "import mtspec\n",
    "\n",
    "# from pylab import *\n",
    "\n",
    "import datetime\n",
    "import time\n",
    "import glob, os\n",
    "import math\n",
    "import matplotlib.colors as colors\n",
    "import xesmf as xe\n",
    "from defs import regularAtlmask"
   ]
  },
  {
   "cell_type": "code",
   "execution_count": 1,
   "id": "2569672b",
   "metadata": {},
   "outputs": [],
   "source": [
    "datafolder = ''"
   ]
  },
  {
   "cell_type": "code",
   "execution_count": 14,
   "id": "2ab8ad5e-3b59-4269-849f-ea20053e9756",
   "metadata": {},
   "outputs": [],
   "source": [
    "experiment = 'Eoi400' \n",
    "model = 'NorESM1-F'\n",
    "folder = datafolder+'Raw_data/'+model+'/'"
   ]
  },
  {
   "cell_type": "code",
   "execution_count": 15,
   "id": "e21c556d-a7fc-4633-be4d-98d727f78fb7",
   "metadata": {},
   "outputs": [],
   "source": [
    "if experiment == 'Eoi400':\n",
    "    dsV = xr.open_dataset(folder+experiment+'/PlioMIP2_03.micom.hy.2400-2499mean.vvellvl.nc')\n",
    "    dsT = xr.open_dataset(folder+experiment+'/PlioMIP2_03.micom.hy.2400-2499mean.templvl.nc')\n",
    "    dsS = xr.open_dataset(folder+experiment+'/PlioMIP2_03.micom.hy.2400-2499mean.salnlvl.nc')\n",
    "    dsr = xr.open_dataset(folder+experiment+'/grid.nc')\n",
    "else:\n",
    "    dsV = xr.open_dataset(folder+experiment+'/NBF1850OC_f19_tn11_02.micom.hy.1900-1999mean.vvellvl.nc')\n",
    "    dsT = xr.open_dataset(folder+experiment+'/NBF1850OC_f19_tn11_02.micom.hy.1900-1999mean.templvl.nc')\n",
    "    dsS = xr.open_dataset(folder+experiment+'/NBF1850OC_f19_tn11_02.micom.hy.1900-1999mean.salnlvl.nc')\n",
    "    dsr = xr.open_dataset(folder+experiment+'/grid.nc')\n",
    "\n",
    "dsV['lat']=dsr.vlat\n",
    "dsV['lon']=dsr.vlon\n",
    "\n",
    "dsT['lat']=dsr.plat\n",
    "dsT['lon']=dsr.plon\n",
    "\n",
    "dsS['lat']=dsr.plat\n",
    "dsS['lon']=dsr.plon\n",
    "\n",
    "dsgrid = xr.open_dataset(folder+experiment+'/'+experiment+'.SST.mean_month.nc', decode_times=False)"
   ]
  },
  {
   "cell_type": "code",
   "execution_count": 16,
   "id": "f0b10095-95ed-4bfe-b89b-85baa916b1bf",
   "metadata": {},
   "outputs": [],
   "source": [
    "regridder = xe.Regridder(dsS, dsgrid, 'bilinear', periodic = True, ignore_degenerate=True)\n",
    "\n",
    "var = regridder(dsS.salnlvl[0])\n",
    "\n",
    "ds = xr.Dataset(data_vars = dict(so=((\"z\",\"lat\",\"lon\"), var)), coords = dict(z = var.depth.values, lat = var.latitude.values, lon = var.longitude.values))\n",
    "xr.Dataset.to_netcdf(ds, path = datafolder+'Processed/'+model+'/'+experiment+'/so_1x1_100yr.nc')"
   ]
  },
  {
   "cell_type": "code",
   "execution_count": 17,
   "id": "fede1042-b717-48aa-ad63-6e800fa6391a",
   "metadata": {},
   "outputs": [],
   "source": [
    "regridder = xe.Regridder(dsV, dsgrid, 'bilinear', periodic = True, ignore_degenerate=True)\n",
    "\n",
    "var = regridder(dsV.vvellvl[0])\n",
    "\n",
    "ds = xr.Dataset(data_vars = dict(vo=((\"z\",\"lat\",\"lon\"), var)), coords = dict(z = var.depth.values, lat = var.latitude.values, lon = var.longitude.values))\n",
    "xr.Dataset.to_netcdf(ds, path = datafolder+'Processed/'+model+'/'+experiment+'/vo_1x1_100yr.nc')"
   ]
  },
  {
   "cell_type": "code",
   "execution_count": 18,
   "id": "ccca30e1-7f67-4973-b852-f1445a1d6906",
   "metadata": {},
   "outputs": [],
   "source": [
    "regridder = xe.Regridder(dsT, dsgrid, 'bilinear', periodic = True, ignore_degenerate=True)\n",
    "\n",
    "var = regridder(dsT.templvl[0])\n",
    "\n",
    "ds = xr.Dataset(data_vars = dict(thetao=((\"z\",\"lat\",\"lon\"), var)), coords = dict(z = var.depth.values, lat = var.latitude.values, lon = var.longitude.values))\n",
    "xr.Dataset.to_netcdf(ds, path = datafolder+'Processed/'+model+'/'+experiment+'/thetao_1x1_100yr.nc')"
   ]
  },
  {
   "cell_type": "code",
   "execution_count": null,
   "id": "8920269f-43d8-4bcf-8bbf-66ffcad9ebfc",
   "metadata": {},
   "outputs": [],
   "source": []
  },
  {
   "cell_type": "code",
   "execution_count": null,
   "id": "45715918-2c04-41de-9a35-9703b7f5abb2",
   "metadata": {},
   "outputs": [],
   "source": []
  }
 ],
 "metadata": {
  "kernelspec": {
   "display_name": "Python 3 (ipykernel)",
   "language": "python",
   "name": "python3"
  },
  "language_info": {
   "codemirror_mode": {
    "name": "ipython",
    "version": 3
   },
   "file_extension": ".py",
   "mimetype": "text/x-python",
   "name": "python",
   "nbconvert_exporter": "python",
   "pygments_lexer": "ipython3",
   "version": "3.8.12"
  }
 },
 "nbformat": 4,
 "nbformat_minor": 5
}
