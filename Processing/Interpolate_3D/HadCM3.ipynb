{
 "cells": [
  {
   "cell_type": "code",
   "execution_count": 22,
   "id": "511e51e7-717c-404c-9034-2303417d4315",
   "metadata": {},
   "outputs": [],
   "source": [
    "## imports\n",
    "import sys\n",
    "import os\n",
    "import numpy as np\n",
    "import xarray as xr\n",
    "import cmocean\n",
    "import matplotlib\n",
    "import matplotlib.pyplot as plt\n",
    "from matplotlib.patches import Rectangle\n",
    "from matplotlib import gridspec\n",
    "import cartopy\n",
    "import cartopy.crs as ccrs\n",
    "from cartopy.mpl.gridliner import LONGITUDE_FORMATTER, LATITUDE_FORMATTER\n",
    "import eofs\n",
    "from eofs.xarray import Eof\n",
    "import cftime\n",
    "import nc_time_axis\n",
    "\n",
    "import mtspec\n",
    "\n",
    "# from pylab import *\n",
    "\n",
    "import datetime\n",
    "import time\n",
    "import glob, os\n",
    "import math\n",
    "import matplotlib.colors as colors\n",
    "import xesmf as xe\n",
    "from defs import regularAtlmask"
   ]
  },
  {
   "cell_type": "code",
   "execution_count": 1,
   "id": "055c9dee",
   "metadata": {},
   "outputs": [],
   "source": [
    "datafolder = ''"
   ]
  },
  {
   "cell_type": "code",
   "execution_count": 23,
   "id": "2ab8ad5e-3b59-4269-849f-ea20053e9756",
   "metadata": {},
   "outputs": [],
   "source": [
    "experiment = 'E280' \n",
    "model = 'HadCM3'\n",
    "folder = datafolder+'Raw_data/'+model+'/'"
   ]
  },
  {
   "cell_type": "code",
   "execution_count": 24,
   "id": "e9032e44-c2e2-4b41-9111-2c01021b833b",
   "metadata": {},
   "outputs": [],
   "source": [
    "if experiment == 'E280':\n",
    "    dsT = xr.open_dataset(folder+experiment+'/E280_2900-2999_Annual.nc')\n",
    "    dsV = xr.open_dataset(folder+experiment+'/E280_2900-2999_Annual.nc')\n",
    "    dsS = xr.open_dataset(folder+experiment+'/E280_2900-2999_Annual.nc')\n",
    "elif experiment == 'Eoi400':\n",
    "    dsT = xr.open_dataset(folder+experiment+'/Eoi400_2400-2499_Annual.nc')\n",
    "    dsV = xr.open_dataset(folder+experiment+'/Eoi400_2400-2499_Annual.nc')\n",
    "    dsS = xr.open_dataset(folder+experiment+'/Eoi400_2400-2499_Annual.nc')\n",
    "dsgrid = xr.open_dataset(folder+experiment+'/'+experiment+'.SST.mean_month.nc')\n",
    "\n",
    "dsS = dsS.drop(['lat2', 'lat3', 'lat4', 'lon1', 'lon3', 'lon4', 'z1', 'z3', 'z4'])\n",
    "dsT = dsT.drop(['lat2', 'lat3', 'lat4', 'lon1', 'lon3', 'lon4', 'z1', 'z3', 'z4'])\n",
    "dsV = dsV.drop(['lat1', 'lat3', 'lat4', 'lon1', 'lon2', 'lon4', 'z1', 'z3', 'z4'])"
   ]
  },
  {
   "cell_type": "code",
   "execution_count": 19,
   "id": "223c57aa-9d39-4712-810e-631a670aa1d4",
   "metadata": {},
   "outputs": [],
   "source": [
    "regridder = xe.Regridder(dsS, dsgrid, 'bilinear', periodic = True, ignore_degenerate=True)\n",
    "\n",
    "var = regridder(dsS.salinity)\n",
    "\n",
    "ds = xr.Dataset(data_vars = dict(so=((\"z\",\"lat\",\"lon\"), var)), coords = dict(z = var.z2.values, lat = var.latitude.values, lon = var.longitude.values))\n",
    "xr.Dataset.to_netcdf(ds, path = datafolder+'Processed/'+model+'/'+experiment+'/so_1x1_100yr.nc')"
   ]
  },
  {
   "cell_type": "code",
   "execution_count": 20,
   "id": "d8748685-2a05-4668-954b-dd49d124f343",
   "metadata": {},
   "outputs": [],
   "source": [
    "regridder = xe.Regridder(dsV, dsgrid, 'bilinear', periodic = True, ignore_degenerate=True)\n",
    "\n",
    "var = regridder(dsV.field704)\n",
    "\n",
    "ds = xr.Dataset(data_vars = dict(vo=((\"z\",\"lat\",\"lon\"), var)), coords = dict(z = var.z2.values, lat = var.latitude.values, lon = var.longitude.values))\n",
    "xr.Dataset.to_netcdf(ds, path = datafolder+'Processed/'+model+'/'+experiment+'/vo_1x1_100yr.nc')"
   ]
  },
  {
   "cell_type": "code",
   "execution_count": 21,
   "id": "a1f47b7a-a913-4d12-9df3-76852950036b",
   "metadata": {},
   "outputs": [],
   "source": [
    "regridder = xe.Regridder(dsT, dsgrid, 'bilinear', periodic = True, ignore_degenerate=True)\n",
    "\n",
    "var = regridder(dsT.temp_1_opf)\n",
    "\n",
    "ds = xr.Dataset(data_vars = dict(thetao=((\"z\",\"lat\",\"lon\"), var)), coords = dict(z = var.z2.values, lat = var.latitude.values, lon = var.longitude.values))\n",
    "xr.Dataset.to_netcdf(ds, path = datafolder+'Processed/'+model+'/'+experiment+'/thetao_1x1_100yr.nc')"
   ]
  },
  {
   "cell_type": "code",
   "execution_count": null,
   "id": "2a096032-6c8c-4f21-bc47-aa0d55af6c34",
   "metadata": {},
   "outputs": [],
   "source": []
  },
  {
   "cell_type": "code",
   "execution_count": null,
   "id": "ed4cc3e1-5c8f-4fdb-a45a-f431c3256a88",
   "metadata": {},
   "outputs": [],
   "source": []
  },
  {
   "cell_type": "code",
   "execution_count": null,
   "id": "f318ca10-8dbf-46a5-8c79-3bdeead9c88c",
   "metadata": {},
   "outputs": [],
   "source": []
  },
  {
   "cell_type": "code",
   "execution_count": null,
   "id": "384d4dc7-855e-40b5-9a6c-513b21bdefed",
   "metadata": {},
   "outputs": [],
   "source": []
  }
 ],
 "metadata": {
  "kernelspec": {
   "display_name": "Python 3 (ipykernel)",
   "language": "python",
   "name": "python3"
  },
  "language_info": {
   "codemirror_mode": {
    "name": "ipython",
    "version": 3
   },
   "file_extension": ".py",
   "mimetype": "text/x-python",
   "name": "python",
   "nbconvert_exporter": "python",
   "pygments_lexer": "ipython3",
   "version": "3.8.12"
  }
 },
 "nbformat": 4,
 "nbformat_minor": 5
}
