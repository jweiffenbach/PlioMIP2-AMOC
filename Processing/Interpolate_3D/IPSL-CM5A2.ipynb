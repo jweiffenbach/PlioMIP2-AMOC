{
 "cells": [
  {
   "cell_type": "code",
   "execution_count": 21,
   "id": "511e51e7-717c-404c-9034-2303417d4315",
   "metadata": {},
   "outputs": [],
   "source": [
    "## imports\n",
    "import sys\n",
    "import os\n",
    "import numpy as np\n",
    "import xarray as xr\n",
    "import cmocean\n",
    "import matplotlib\n",
    "import matplotlib.pyplot as plt\n",
    "from matplotlib.patches import Rectangle\n",
    "from matplotlib import gridspec\n",
    "import cartopy\n",
    "import cartopy.crs as ccrs\n",
    "from cartopy.mpl.gridliner import LONGITUDE_FORMATTER, LATITUDE_FORMATTER\n",
    "import eofs\n",
    "from eofs.xarray import Eof\n",
    "import cftime\n",
    "import nc_time_axis\n",
    "\n",
    "import mtspec\n",
    "\n",
    "# from pylab import *\n",
    "\n",
    "import datetime\n",
    "import time\n",
    "import glob, os\n",
    "import math\n",
    "import matplotlib.colors as colors\n",
    "import xesmf as xe\n",
    "from defs import regularAtlmask"
   ]
  },
  {
   "cell_type": "code",
   "execution_count": 1,
   "id": "734dbd67",
   "metadata": {},
   "outputs": [],
   "source": [
    "datafolder = ''"
   ]
  },
  {
   "cell_type": "code",
   "execution_count": 36,
   "id": "54eecedf-876c-4256-8f22-6da6029b67b2",
   "metadata": {},
   "outputs": [],
   "source": [
    "experiment = 'Eoi400'\n",
    "model = 'IPSL-CM5A2'\n",
    "filepath = datafolder+'Raw_data/'+model+'/'"
   ]
  },
  {
   "cell_type": "code",
   "execution_count": 37,
   "id": "70432dda-1499-42d0-a362-06efbf3baa68",
   "metadata": {},
   "outputs": [],
   "source": [
    "if experiment == 'E280':\n",
    "    dsT = xr.open_dataset(filepath+experiment+'/IPSLCM5A2_piControl_oceTemp_oceSal_V.nc')\n",
    "    dsV = xr.open_dataset(filepath+experiment+'/IPSLCM5A2_piControl_oceTemp_oceSal_V.nc')\n",
    "    dsS = xr.open_dataset(filepath+experiment+'/IPSLCM5A2_piControl_oceTemp_oceSal_V.nc')\n",
    "else:\n",
    "    dsV = xr.open_dataset(filepath+experiment+'/IPSLCM5A2_Eoi400_oceTemp_oceSal_V.nc', decode_times=False)\n",
    "    dsT = xr.open_dataset(filepath+experiment+'/IPSLCM5A2_Eoi400_oceTemp_oceSal_V.nc', decode_times=False)\n",
    "    dsS = xr.open_dataset(filepath+experiment+'/IPSLCM5A2_Eoi400_oceTemp_oceSal_V.nc', decode_times=False)\n",
    "\n",
    "dsgrid = xr.open_dataset(datafolder+'Raw_data/CCSM4/'+experiment+'/'+experiment+'.SST.mean_month.nc', decode_times=False)"
   ]
  },
  {
   "cell_type": "code",
   "execution_count": 38,
   "id": "c27ac21c-b2c2-4024-85be-fedb06a4420a",
   "metadata": {},
   "outputs": [],
   "source": [
    "dsV = dsV.drop(['deptht','time_counter_bnds'])\n",
    "dsV = dsV.drop_dims(['deptht'])\n",
    "dsV = dsV.rename({'nav_lon': 'longitude', 'nav_lat': 'latitude', 'depthv':'level'})\n",
    "\n",
    "\n",
    "dsT = dsT.drop(['depthv','time_counter_bnds'])\n",
    "dsT = dsT.drop_dims(['depthv'])\n",
    "dsT = dsT.rename({'nav_lon': 'longitude', 'nav_lat': 'latitude', 'deptht':'level'})\n",
    "\n",
    "dsS = dsS.drop(['depthv','time_counter_bnds'])\n",
    "dsS = dsS.drop_dims(['depthv'])\n",
    "dsS = dsS.rename({'nav_lon': 'longitude', 'nav_lat': 'latitude', 'deptht':'level'})"
   ]
  },
  {
   "cell_type": "code",
   "execution_count": 39,
   "id": "85c16043-aa31-4fd5-847a-306b90416f94",
   "metadata": {},
   "outputs": [
    {
     "name": "stderr",
     "output_type": "stream",
     "text": [
      "/opt/anaconda3/envs/myenv/lib/python3.8/site-packages/xesmf/frontend.py:522: FutureWarning: ``output_sizes`` should be given in the ``dask_gufunc_kwargs`` parameter. It will be removed as direct parameter in a future version.\n",
      "  dr_out = xr.apply_ufunc(\n"
     ]
    }
   ],
   "source": [
    "regridder = xe.Regridder(dsS, dsgrid, 'bilinear', periodic = True, ignore_degenerate=True)\n",
    "\n",
    "var = regridder(dsS.so.mean(dim='time_counter'))\n",
    "\n",
    "ds = xr.Dataset(data_vars = dict(so=((\"z\",\"lat\",\"lon\"), var)), coords = dict(z = var.level.values, lat = var.latitude.values, lon = var.longitude.values))\n",
    "xr.Dataset.to_netcdf(ds, path = datafolder+'Processed/'+model+'/'+experiment+'/so_1x1_100yr.nc')"
   ]
  },
  {
   "cell_type": "code",
   "execution_count": 40,
   "id": "089d439e-1bc1-413b-a245-bc81a39e5064",
   "metadata": {},
   "outputs": [
    {
     "name": "stderr",
     "output_type": "stream",
     "text": [
      "/opt/anaconda3/envs/myenv/lib/python3.8/site-packages/xesmf/frontend.py:522: FutureWarning: ``output_sizes`` should be given in the ``dask_gufunc_kwargs`` parameter. It will be removed as direct parameter in a future version.\n",
      "  dr_out = xr.apply_ufunc(\n"
     ]
    }
   ],
   "source": [
    "regridder = xe.Regridder(dsV, dsgrid, 'bilinear', periodic = True, ignore_degenerate=True)\n",
    "\n",
    "var = regridder(dsV.vo.mean(dim='time_counter')*100)\n",
    "\n",
    "ds = xr.Dataset(data_vars = dict(vo=((\"z\",\"lat\",\"lon\"), var)), coords = dict(z = var.level.values, lat = var.latitude.values, lon = var.longitude.values))\n",
    "xr.Dataset.to_netcdf(ds, path = datafolder+'Processed/'+model+'/'+experiment+'/vo_1x1_100yr.nc')"
   ]
  },
  {
   "cell_type": "code",
   "execution_count": 41,
   "id": "3535a308-bea6-4776-a9dd-335b4eeedc79",
   "metadata": {},
   "outputs": [
    {
     "name": "stderr",
     "output_type": "stream",
     "text": [
      "/opt/anaconda3/envs/myenv/lib/python3.8/site-packages/xesmf/frontend.py:522: FutureWarning: ``output_sizes`` should be given in the ``dask_gufunc_kwargs`` parameter. It will be removed as direct parameter in a future version.\n",
      "  dr_out = xr.apply_ufunc(\n"
     ]
    }
   ],
   "source": [
    "regridder = xe.Regridder(dsT, dsgrid, 'bilinear', periodic = True, ignore_degenerate=True)\n",
    "\n",
    "var = regridder(dsT.thetao.mean(dim='time_counter'))\n",
    "\n",
    "ds = xr.Dataset(data_vars = dict(thetao=((\"z\",\"lat\",\"lon\"), var)), coords = dict(z = var.level.values, lat = var.latitude.values, lon = var.longitude.values))\n",
    "xr.Dataset.to_netcdf(ds, path = datafolder+'Processed/'+model+'/'+experiment+'/thetao_1x1_100yr.nc')"
   ]
  },
  {
   "cell_type": "code",
   "execution_count": null,
   "id": "25a4e58d-464b-4821-ba58-b6864a458ab5",
   "metadata": {},
   "outputs": [],
   "source": []
  },
  {
   "cell_type": "code",
   "execution_count": null,
   "id": "de65fe1a-a109-49ea-bc0e-7b8792f957e8",
   "metadata": {},
   "outputs": [],
   "source": []
  },
  {
   "cell_type": "code",
   "execution_count": null,
   "id": "20262f1b-11c6-4eb6-bc86-4bd1e531676e",
   "metadata": {},
   "outputs": [],
   "source": []
  }
 ],
 "metadata": {
  "kernelspec": {
   "display_name": "Python 3 (ipykernel)",
   "language": "python",
   "name": "python3"
  },
  "language_info": {
   "codemirror_mode": {
    "name": "ipython",
    "version": 3
   },
   "file_extension": ".py",
   "mimetype": "text/x-python",
   "name": "python",
   "nbconvert_exporter": "python",
   "pygments_lexer": "ipython3",
   "version": "3.8.12"
  }
 },
 "nbformat": 4,
 "nbformat_minor": 5
}
