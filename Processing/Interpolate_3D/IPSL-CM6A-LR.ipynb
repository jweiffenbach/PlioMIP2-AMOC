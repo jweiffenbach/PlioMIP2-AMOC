{
 "cells": [
  {
   "cell_type": "code",
   "execution_count": 17,
   "id": "511e51e7-717c-404c-9034-2303417d4315",
   "metadata": {},
   "outputs": [],
   "source": [
    "## imports\n",
    "import sys\n",
    "import os\n",
    "import numpy as np\n",
    "import xarray as xr\n",
    "import cmocean\n",
    "import matplotlib\n",
    "import matplotlib.pyplot as plt\n",
    "from matplotlib.patches import Rectangle\n",
    "from matplotlib import gridspec\n",
    "import cartopy\n",
    "import cartopy.crs as ccrs\n",
    "from cartopy.mpl.gridliner import LONGITUDE_FORMATTER, LATITUDE_FORMATTER\n",
    "import eofs\n",
    "from eofs.xarray import Eof\n",
    "import cftime\n",
    "import nc_time_axis\n",
    "\n",
    "import mtspec\n",
    "\n",
    "# from pylab import *\n",
    "\n",
    "import datetime\n",
    "import time\n",
    "import glob, os\n",
    "import math\n",
    "import matplotlib.colors as colors\n",
    "import xesmf as xe\n",
    "from defs import regularAtlmask"
   ]
  },
  {
   "cell_type": "code",
   "execution_count": 1,
   "id": "6355bf08",
   "metadata": {},
   "outputs": [],
   "source": [
    "datafolder = ''"
   ]
  },
  {
   "cell_type": "code",
   "execution_count": 25,
   "id": "54eecedf-876c-4256-8f22-6da6029b67b2",
   "metadata": {},
   "outputs": [],
   "source": [
    "experiment = 'Eoi400'\n",
    "model = 'IPSL-CM6A'"
   ]
  },
  {
   "cell_type": "code",
   "execution_count": 26,
   "id": "70432dda-1499-42d0-a362-06efbf3baa68",
   "metadata": {},
   "outputs": [],
   "source": [
    "dsV = xr.open_dataset(datafolder+'Raw_data/'+model+'/'+experiment+'/vo_100yr.nc')\n",
    "dsT = xr.open_dataset(datafolder+'Raw_data/'+model+'/'+experiment+'/thetao_100yr.nc')\n",
    "dsS = xr.open_dataset(datafolder+'Raw_data/'+model+'/'+experiment+'/so_100yr.nc')\n",
    "\n",
    "dsgrid = xr.open_dataset(datafolder+'/Raw_data/'+model+'/'+experiment+'/'+experiment+'.SST.mean_month.nc', decode_times=False)"
   ]
  },
  {
   "cell_type": "code",
   "execution_count": 27,
   "id": "11cc2a8f-1b2b-4356-9185-ee398a8b2b09",
   "metadata": {},
   "outputs": [],
   "source": [
    "dsV = dsV.rename({'nav_lon': 'ULONG', 'nav_lat': 'ULAT'})\n",
    "dsT = dsT.rename({'nav_lon': 'TLONG', 'nav_lat': 'TLAT'})\n",
    "dsS = dsS.rename({'nav_lon': 'TLONG', 'nav_lat': 'TLAT'})"
   ]
  },
  {
   "cell_type": "code",
   "execution_count": 28,
   "id": "24a30ac1-4bc9-43db-a307-ffa47fa3be87",
   "metadata": {},
   "outputs": [],
   "source": [
    "regridder = xe.Regridder(dsS, dsgrid, 'bilinear', periodic = True, ignore_degenerate=True)\n",
    "\n",
    "var = regridder(dsS.so)\n",
    "\n",
    "ds = xr.Dataset(data_vars = dict(so=((\"z\",\"lat\",\"lon\"), var)), coords = dict(z = var.olevel.values, lat = var.latitude.values, lon = var.longitude.values))\n",
    "xr.Dataset.to_netcdf(ds, path = datafolder+'Processed/'+model+'/'+experiment+'/so_1x1_100yr.nc')"
   ]
  },
  {
   "cell_type": "code",
   "execution_count": 29,
   "id": "0b33a6cc-9fdd-4b23-8154-845e287561b8",
   "metadata": {},
   "outputs": [],
   "source": [
    "regridder = xe.Regridder(dsV, dsgrid, 'bilinear', periodic = True, ignore_degenerate=True)\n",
    "\n",
    "var = regridder(dsV.vo*100)\n",
    "\n",
    "ds = xr.Dataset(data_vars = dict(vo=((\"z\",\"lat\",\"lon\"), var)), coords = dict(z = var.olevel.values, lat = var.latitude.values, lon = var.longitude.values))\n",
    "xr.Dataset.to_netcdf(ds, path = datafolder+'Processed/'+model+'/'+experiment+'/vo_1x1_100yr.nc')"
   ]
  },
  {
   "cell_type": "code",
   "execution_count": 30,
   "id": "ab4a0cad-5f5f-4652-a64d-edf9403f266e",
   "metadata": {},
   "outputs": [],
   "source": [
    "regridder = xe.Regridder(dsT, dsgrid, 'bilinear', periodic = True, ignore_degenerate=True)\n",
    "\n",
    "var = regridder(dsT.thetao)\n",
    "\n",
    "ds = xr.Dataset(data_vars = dict(thetao=((\"z\",\"lat\",\"lon\"), var)), coords = dict(z = var.olevel.values, lat = var.latitude.values, lon = var.longitude.values))\n",
    "xr.Dataset.to_netcdf(ds, path = datafolder+'Processed/'+model+'/'+experiment+'/thetao_1x1_100yr.nc')"
   ]
  },
  {
   "cell_type": "code",
   "execution_count": null,
   "id": "3d89e26c-cd01-47b2-beb2-437ac038cd48",
   "metadata": {},
   "outputs": [],
   "source": []
  },
  {
   "cell_type": "code",
   "execution_count": null,
   "id": "8bf54aee-472c-46da-a40f-3fda1fa3a1f1",
   "metadata": {},
   "outputs": [],
   "source": []
  },
  {
   "cell_type": "code",
   "execution_count": null,
   "id": "0a4a0cbe-64e5-4cc6-99d9-25730ea4a51d",
   "metadata": {},
   "outputs": [],
   "source": []
  }
 ],
 "metadata": {
  "kernelspec": {
   "display_name": "Python 3 (ipykernel)",
   "language": "python",
   "name": "python3"
  },
  "language_info": {
   "codemirror_mode": {
    "name": "ipython",
    "version": 3
   },
   "file_extension": ".py",
   "mimetype": "text/x-python",
   "name": "python",
   "nbconvert_exporter": "python",
   "pygments_lexer": "ipython3",
   "version": "3.8.12"
  }
 },
 "nbformat": 4,
 "nbformat_minor": 5
}
