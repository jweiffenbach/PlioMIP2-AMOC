{
 "cells": [
  {
   "cell_type": "code",
   "execution_count": 26,
   "id": "511e51e7-717c-404c-9034-2303417d4315",
   "metadata": {},
   "outputs": [],
   "source": [
    "## imports\n",
    "import sys\n",
    "import os\n",
    "import numpy as np\n",
    "import xarray as xr\n",
    "import cmocean\n",
    "import matplotlib\n",
    "import matplotlib.pyplot as plt\n",
    "from matplotlib.patches import Rectangle\n",
    "from matplotlib import gridspec\n",
    "import cartopy\n",
    "import cartopy.crs as ccrs\n",
    "from cartopy.mpl.gridliner import LONGITUDE_FORMATTER, LATITUDE_FORMATTER\n",
    "import eofs\n",
    "from eofs.xarray import Eof\n",
    "import cftime\n",
    "import nc_time_axis\n",
    "\n",
    "import mtspec\n",
    "\n",
    "# from pylab import *\n",
    "\n",
    "import datetime\n",
    "import time\n",
    "import glob, os\n",
    "import math\n",
    "import matplotlib.colors as colors\n",
    "import xesmf as xe\n",
    "from defs import regularAtlmask"
   ]
  },
  {
   "cell_type": "code",
   "execution_count": 1,
   "id": "165eebbb",
   "metadata": {},
   "outputs": [],
   "source": [
    "datafolder = ''"
   ]
  },
  {
   "cell_type": "code",
   "execution_count": 32,
   "id": "2ab8ad5e-3b59-4269-849f-ea20053e9756",
   "metadata": {},
   "outputs": [],
   "source": [
    "experiment = 'E280' \n",
    "model = 'COSMOS'\n",
    "folder = datafolder+'/Raw_data/'+model+'/'"
   ]
  },
  {
   "cell_type": "code",
   "execution_count": 33,
   "id": "e9032e44-c2e2-4b41-9111-2c01021b833b",
   "metadata": {},
   "outputs": [],
   "source": [
    "if experiment == 'E280':\n",
    "    dsV = xr.open_dataset(folder+experiment+'/COSMOS_E280.vo_2650-2749_annual_climatology_remapcon_1x1deg.nc')\n",
    "    dsT = xr.open_dataset(folder+experiment+'/COSMOS_E280.thetao_2650-2749_annual_climatology_remapcon_1x1deg.nc')\n",
    "    dsS = xr.open_dataset(folder+experiment+'/COSMOS_E280.sao_2650-2749_annual_climatology_remapcon_1x1deg.nc')\n",
    "elif experiment == 'Eoi400':\n",
    "    dsV = xr.open_dataset(folder+experiment+'/COSMOS_Eoi400.vo_2650-2749_annual_climatology_remapcon_1x1deg.nc')\n",
    "    dsT = xr.open_dataset(folder+experiment+'/COSMOS_Eoi400.thetao_2650-2749_annual_climatology_remapcon_1x1deg.nc')\n",
    "    dsS = xr.open_dataset(folder+experiment+'/COSMOS_Eoi400.sao_2650-2749_annual_climatology_remapcon_1x1deg.nc')\n",
    "\n",
    "dsgrid = xr.open_dataset(folder+experiment+'/'+experiment+'.SST.mean_month.nc', decode_times=False)"
   ]
  },
  {
   "cell_type": "code",
   "execution_count": 34,
   "id": "03f67a6a-6f96-41db-af2a-6e38c425182c",
   "metadata": {},
   "outputs": [
    {
     "name": "stderr",
     "output_type": "stream",
     "text": [
      "/opt/anaconda3/envs/myenv/lib/python3.8/site-packages/xesmf/frontend.py:522: FutureWarning: ``output_sizes`` should be given in the ``dask_gufunc_kwargs`` parameter. It will be removed as direct parameter in a future version.\n",
      "  dr_out = xr.apply_ufunc(\n"
     ]
    }
   ],
   "source": [
    "regridder = xe.Regridder(dsS, dsgrid, 'bilinear', periodic = True, ignore_degenerate=True)\n",
    "\n",
    "var = regridder(dsS.so[0])\n",
    "\n",
    "ds = xr.Dataset(data_vars = dict(so=((\"z\",\"lat\",\"lon\"), var)), coords = dict(z = var.lev.values, lat = var.latitude.values, lon = var.longitude.values))\n",
    "xr.Dataset.to_netcdf(ds, path = datafolder+'/Processed/'+model+'/'+experiment+'/so_1x1_100yr.nc')"
   ]
  },
  {
   "cell_type": "code",
   "execution_count": 35,
   "id": "0027aebc-e110-4d84-a786-750bda0b6a8b",
   "metadata": {},
   "outputs": [],
   "source": [
    "regridder = xe.Regridder(dsV, dsgrid, 'bilinear', periodic = True, ignore_degenerate=True)\n",
    "\n",
    "var = regridder(dsV.vo[0]*100)\n",
    "\n",
    "ds = xr.Dataset(data_vars = dict(vo=((\"z\",\"lat\",\"lon\"), var)), coords = dict(z = var.lev.values, lat = var.latitude.values, lon = var.longitude.values))\n",
    "xr.Dataset.to_netcdf(ds, path = datafolder+'Processed/'+model+'/'+experiment+'/vo_1x1_100yr.nc')"
   ]
  },
  {
   "cell_type": "code",
   "execution_count": 36,
   "id": "e35fa82a-114b-4883-a348-0777f7db2f6c",
   "metadata": {},
   "outputs": [],
   "source": [
    "regridder = xe.Regridder(dsT, dsgrid, 'bilinear', periodic = True, ignore_degenerate=True)\n",
    "\n",
    "var = regridder(dsT.thetao[0])\n",
    "\n",
    "ds = xr.Dataset(data_vars = dict(thetao=((\"z\",\"lat\",\"lon\"), var)), coords = dict(z = var.lev.values, lat = var.latitude.values, lon = var.longitude.values))\n",
    "xr.Dataset.to_netcdf(ds, path = datafolder+'/Processed/'+model+'/'+experiment+'/thetao_1x1_100yr.nc')"
   ]
  },
  {
   "cell_type": "code",
   "execution_count": null,
   "id": "c3a0d06e-50b7-4941-a2f6-97bcaea6bcc8",
   "metadata": {},
   "outputs": [],
   "source": []
  },
  {
   "cell_type": "code",
   "execution_count": null,
   "id": "16b902e6-7f33-462e-a938-a03dc10c842e",
   "metadata": {},
   "outputs": [],
   "source": []
  },
  {
   "cell_type": "code",
   "execution_count": null,
   "id": "56273183-cdcc-44dd-831c-c45f35a248db",
   "metadata": {},
   "outputs": [],
   "source": []
  },
  {
   "cell_type": "code",
   "execution_count": null,
   "id": "74dbd638-1f04-4192-b924-988bd443a445",
   "metadata": {},
   "outputs": [],
   "source": []
  },
  {
   "cell_type": "code",
   "execution_count": null,
   "id": "fb243999-6811-4e84-bc77-0fb628724f37",
   "metadata": {},
   "outputs": [],
   "source": []
  },
  {
   "cell_type": "code",
   "execution_count": null,
   "id": "18f96ada-5ced-4e04-b8e0-eba010d96d6d",
   "metadata": {},
   "outputs": [],
   "source": []
  },
  {
   "cell_type": "code",
   "execution_count": null,
   "id": "74171618-0ded-4306-969c-f0bfacdfe6ff",
   "metadata": {},
   "outputs": [],
   "source": []
  }
 ],
 "metadata": {
  "kernelspec": {
   "display_name": "Python 3 (ipykernel)",
   "language": "python",
   "name": "python3"
  },
  "language_info": {
   "codemirror_mode": {
    "name": "ipython",
    "version": 3
   },
   "file_extension": ".py",
   "mimetype": "text/x-python",
   "name": "python",
   "nbconvert_exporter": "python",
   "pygments_lexer": "ipython3",
   "version": "3.8.12"
  }
 },
 "nbformat": 4,
 "nbformat_minor": 5
}
