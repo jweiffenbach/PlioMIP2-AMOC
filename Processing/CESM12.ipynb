{
 "cells": [
  {
   "cell_type": "code",
   "execution_count": 1,
   "id": "511e51e7-717c-404c-9034-2303417d4315",
   "metadata": {},
   "outputs": [],
   "source": [
    "## imports\n",
    "import sys\n",
    "import os\n",
    "import numpy as np\n",
    "import xarray as xr\n",
    "import cmocean\n",
    "import matplotlib\n",
    "import matplotlib.pyplot as plt\n",
    "from matplotlib.patches import Rectangle\n",
    "from matplotlib import gridspec\n",
    "import cartopy\n",
    "import cartopy.crs as ccrs\n",
    "from cartopy.mpl.gridliner import LONGITUDE_FORMATTER, LATITUDE_FORMATTER\n",
    "import eofs\n",
    "from eofs.xarray import Eof\n",
    "import cftime\n",
    "import nc_time_axis\n",
    "\n",
    "import mtspec\n",
    "\n",
    "# from pylab import *\n",
    "\n",
    "import datetime\n",
    "import time\n",
    "import glob, os\n",
    "import math\n",
    "import matplotlib.colors as colors\n",
    "import xesmf as xe\n",
    "from defs import regularAtlmask"
   ]
  },
  {
   "cell_type": "code",
   "execution_count": 35,
   "id": "d5509ee2-b2b1-4e8d-9d00-210c395f1856",
   "metadata": {},
   "outputs": [],
   "source": [
    "datafolder = '' #Data folder"
   ]
  },
  {
   "cell_type": "code",
   "execution_count": 3,
   "id": "2ab8ad5e-3b59-4269-849f-ea20053e9756",
   "metadata": {},
   "outputs": [],
   "source": [
    "experiment = 'E280' \n",
    "model = 'CESM1.2'\n",
    "\n",
    "if experiment == 'E280':\n",
    "    preamble = 'b.e12.B1850.f09_g16.preind.pop.h.'\n",
    "    preamble2 = '.0707-0806.annavg.nc'\n",
    "else:\n",
    "    preamble = 'b.e12.B1850.f09_g16.PMIP4-pliomip2.pop.h.'\n",
    "    preamble2 = '.1100-1199.annavg.nc'\n",
    "\n",
    "a = 'b.e12.B1850.f09_g16.PMIP4-pliomip2.pop.h.MOC.1100-1199.annavg.nc'\n",
    "folder = datafolder+'Raw_data/'\n",
    "\n",
    "def filename(variable_string):\n",
    "    filename = folder+model+'/'+experiment+'/'+preamble+variable_string+preamble2\n",
    "    \n",
    "    return filename"
   ]
  },
  {
   "cell_type": "code",
   "execution_count": 12,
   "id": "b18ecf9d-f5dd-47e1-a004-664d9c5ffa7f",
   "metadata": {},
   "outputs": [],
   "source": [
    "dsV = xr.open_dataset(filename('VVEL'))\n",
    "dsT = xr.open_dataset(filename('TEMP'))\n",
    "dsS = xr.open_dataset(filename('SALT'))\n",
    "dsVNT = xr.open_dataset(filename('VNT'))\n",
    "dsOHT = xr.open_dataset(filename('N_HEAT'))\n",
    "ds = dsVNT.copy(deep=True) #dataset that contains region mask\n",
    "dsMOC = xr.open_dataset(filename('MOC'))\n",
    "dsOHT = xr.open_dataset(filename('N_HEAT'))\n",
    "\n",
    "if experiment == 'E280':\n",
    "    dsice = xr.open_dataset('/Users/6497241/surfdrive/Documents/PlioMIP2-OHT/Data/Raw_data/CESM1.2/E280/b.e12.B1850.f09_g16.preind.cam.h0.ICEFRAC.0701.0800.nc')\n",
    "else:\n",
    "    dsice = xr.open_dataset('/Users/6497241/surfdrive/Documents/PlioMIP2-OHT/Data/Raw_data/CESM1.2/Eoi400/b.e12.B1850.f09_g16.PMIP4-pliomip2.cam.h0.ICEFRAC.1101.1200.nc')"
   ]
  },
  {
   "cell_type": "markdown",
   "id": "75a85fbd-d505-4d04-ac08-76c66dd302fa",
   "metadata": {
    "tags": []
   },
   "source": [
    "## Separation MOC and gyre OHT component 100-yr average"
   ]
  },
  {
   "cell_type": "code",
   "execution_count": 13,
   "id": "7589906f-c868-40be-b110-d8a9d88c416c",
   "metadata": {},
   "outputs": [
    {
     "name": "stderr",
     "output_type": "stream",
     "text": [
      "/opt/anaconda3/envs/myenv/lib/python3.8/site-packages/xesmf/frontend.py:522: FutureWarning: ``output_sizes`` should be given in the ``dask_gufunc_kwargs`` parameter. It will be removed as direct parameter in a future version.\n",
      "  dr_out = xr.apply_ufunc(\n"
     ]
    }
   ],
   "source": [
    "#Drop U-grid for temperature and T-grid for velocity (as well as some other things we don't need)\n",
    "if experiment == 'Eoi400':\n",
    "    dsT = dsT.drop(['ULAT','ULONG','z_t_150m','z_w','z_w_top','z_w_bot','lat_aux_grid','moc_z'])\n",
    "    dsV = dsV.drop(['TLAT','TLONG','z_t_150m','z_w','z_w_top','z_w_bot','lat_aux_grid','moc_z'])\n",
    "    ds = ds.drop(['ULAT','ULONG','z_t_150m','z_w','z_w_top','z_w_bot','lat_aux_grid','moc_z'])\n",
    "else:\n",
    "    ds = ds.drop(['ULAT','ULONG','z_t_150m','z_w','z_w_top','z_w_bot','lat_aux_grid','moc_z'])\n",
    "\n",
    "temp = dsT.TEMP[0]\n",
    "region = ds.REGION_MASK\n",
    "\n",
    "#Regrid velocity field to the temperature field, using 0 as a fill value for land to avoid NaN ocean grid cells after interpolation\n",
    "regridder = xe.Regridder(dsV, dsT, 'bilinear', periodic = True, ignore_degenerate=True)\n",
    "vo = dsV.VVEL[0].fillna(0)\n",
    "vvel = regridder(vo)"
   ]
  },
  {
   "cell_type": "code",
   "execution_count": 14,
   "id": "db271f97-45db-4402-b6c4-7d79a1f79b1a",
   "metadata": {},
   "outputs": [],
   "source": [
    "cp_sw = 3996.  # [J/kg/K]   heat capacity of water\n",
    "rho_sw = 1.026e-3  # [kg/cm^3]  density of water\n",
    "\n",
    "HEAT = (cp_sw*rho_sw*temp).where(ds.REGION_MASK>5).where(ds.REGION_MASK<10)  #  [J/kg/K * kg/cm^3 * degC] = [J/cm^3]\n",
    "\n",
    "VVEL = vvel.where(ds.REGION_MASK>5).where(ds.REGION_MASK<10) #cm/s\n",
    "VVEL = VVEL*HEAT/HEAT #Fills land grid cells with NaN again"
   ]
  },
  {
   "cell_type": "code",
   "execution_count": 15,
   "id": "8b9bbc9a-9704-4372-bbfc-b18cc8a7bfe5",
   "metadata": {},
   "outputs": [],
   "source": [
    "def zonal_means(x, dx):\n",
    "    xint = (x*dx).sum('nlon')  # [x-unit * cm]\n",
    "    zm = xint/dx.sum('nlon')   # [x-unit]\n",
    "    return zm\n",
    "\n",
    "#Zonal mean velocity and heat\n",
    "VVEL_zm = zonal_means(VVEL, ds.DXT.where(VVEL<10000))\n",
    "HEAT_zm = zonal_means(HEAT, ds.DXT.where(VVEL<10000))\n",
    "\n",
    "#Make zonal mean fields into 3D fields again\n",
    "HEAT_zm_3D = HEAT/HEAT\n",
    "HEAT_zm_3D = HEAT_zm_3D*HEAT_zm\n",
    "\n",
    "VVEL_zm_3D = VVEL/VVEL\n",
    "VVEL_zm_3D = VVEL_zm_3D*VVEL_zm\n",
    "\n",
    "# azonal components\n",
    "HEAT_prime = (HEAT - HEAT_zm_3D)  # azonal heat component (x,y,z) []\n",
    "VVEL_prime = (VVEL - VVEL_zm_3D)  # azonal velocity comp. (x,y,z) [cm/s]\n",
    "\n",
    "#Integrate to compute OHTov and OHTaz\n",
    "Hov = (VVEL_zm_3D*HEAT_zm_3D*ds.DXT*ds.dz).sum(dim=['nlon','z_t'])\n",
    "Haz = (VVEL_prime*HEAT_prime*ds.DXT*ds.dz).sum(dim=['nlon','z_t'])  # product of primed velocity and heat [cm/s * J/cm^2 * cm]"
   ]
  },
  {
   "cell_type": "code",
   "execution_count": 16,
   "id": "893d3ca5-418c-4c0b-99d0-aa8077703823",
   "metadata": {},
   "outputs": [],
   "source": [
    "# Auxiliary latitudes for OHT components\n",
    "lats = ds.TLAT.where(ds.REGION_MASK>5).where(ds.REGION_MASK<10).mean('nlon')"
   ]
  },
  {
   "cell_type": "code",
   "execution_count": 17,
   "id": "d1b02dea-f163-4128-9e73-4d31e7d53959",
   "metadata": {},
   "outputs": [
    {
     "data": {
      "text/plain": [
       "(-0.3, 1.25)"
      ]
     },
     "execution_count": 17,
     "metadata": {},
     "output_type": "execute_result"
    },
    {
     "data": {
      "image/png": "[encoded data removed]",
      "text/plain": [
       "<Figure size 576x216 with 1 Axes>"
      ]
     },
     "metadata": {
      "needs_background": "light"
     },
     "output_type": "display_data"
    }
   ],
   "source": [
    "plt.figure(figsize=(8,3))\n",
    "plt.axhline(0,c='k',lw=.5)\n",
    "plt.plot(lats, Hov.squeeze()/1e15, label='overturning component')\n",
    "\n",
    "plt.plot(lats, Haz.squeeze()/1e15, label='azonal component')\n",
    "plt.plot(lats, (Hov+Haz).squeeze()/1e15, label='overturning+azonal')\n",
    "#plt.plot(lats, (rho_sw*cp_sw*dsVNT.VNT*ds.DXT*ds.dz*ds.DYT).where(ds.REGION_MASK>5).where(ds.REGION_MASK<10).sum(['nlon','z_t']).squeeze()/1e15, label='VNT')\n",
    "dsOHT.N_HEAT.isel(transport_reg=1).isel(transport_comp=1).plot(label='Eulerian mean')\n",
    "plt.title('northward heat transport')\n",
    "plt.xlabel(r'latitude  [$^\\circ$N]')\n",
    "plt.legend(fontsize=8)\n",
    "plt.ylim([-0.3, 1.25])"
   ]
  },
  {
   "cell_type": "code",
   "execution_count": 18,
   "id": "ba68eac3-dd2f-44c3-90fd-bb68c6057ef6",
   "metadata": {},
   "outputs": [],
   "source": [
    "if experiment == 'E280':\n",
    "    dsE = xr.Dataset(data_vars = dict(OHTov=([\"lat\"], Hov[85:-1]/1e15), OHTaz=([\"lat\"], Haz[85:-1]/1e15)), coords = dict(lat = lats[85:-1].values))\n",
    "elif experiment == 'Eoi400':\n",
    "    dsE = xr.Dataset(data_vars = dict(OHTov=([\"lat\"], Hov[95:-1]/1e15), OHTaz=([\"lat\"], Haz[95:-1]/1e15)), coords = dict(lat = lats[95:-1].values))\n",
    "xr.Dataset.to_netcdf(dsE, path = datafolder+'/Processed/'+model+'/'+experiment+'/decomOHT_100yr.nc')"
   ]
  },
  {
   "cell_type": "markdown",
   "id": "e780e631-8413-409e-a1fd-1d173e55de32",
   "metadata": {
    "tags": []
   },
   "source": [
    "## 100-yr average AMOC"
   ]
  },
  {
   "cell_type": "code",
   "execution_count": 19,
   "id": "3f407702-bb5d-44a0-a6ee-730db81b51c2",
   "metadata": {},
   "outputs": [
    {
     "data": {
      "text/plain": [
       "<matplotlib.collections.QuadMesh at 0x7fed51d9af10>"
      ]
     },
     "execution_count": 19,
     "metadata": {},
     "output_type": "execute_result"
    },
    {
     "data": {
      "image/png": "[encoded data removed]",
      "text/plain": [
       "<Figure size 432x288 with 2 Axes>"
      ]
     },
     "metadata": {
      "needs_background": "light"
     },
     "output_type": "display_data"
    }
   ],
   "source": [
    "#Mask (almost) zero values \n",
    "a = dsMOC.MOC[0,1,0,:,:]\n",
    "b = a.where(a>1e-5).fillna(0)+a.where(a<-1e-5).fillna(0)\n",
    "c = b.where(b!=0)\n",
    "c.plot()"
   ]
  },
  {
   "cell_type": "code",
   "execution_count": 20,
   "id": "f5fa068f-55d9-445c-88e4-3de42890a811",
   "metadata": {},
   "outputs": [],
   "source": [
    "dsM = xr.Dataset(data_vars = dict(AMOC=((\"z\",\"lat\"), c.values)), coords = dict(z = (dsMOC.moc_z/100).values, lat = dsMOC.lat_aux_grid.values))\n",
    "xr.Dataset.to_netcdf(dsM, path = datafolder+'Processed/'+model+'/'+experiment+'/AMOC_100yr.nc')"
   ]
  },
  {
   "cell_type": "markdown",
   "id": "2badf318-a6f4-4bda-ad4c-8dc1f5380a83",
   "metadata": {
    "tags": []
   },
   "source": [
    "## Annual AMOC streamfunction (100 years)"
   ]
  },
  {
   "cell_type": "code",
   "execution_count": 21,
   "id": "44b597b2-30c2-4629-93c5-18fcba4ff0ff",
   "metadata": {},
   "outputs": [],
   "source": [
    "#Annual MSF files\n",
    "if experiment == 'E280':\n",
    "    ds = xr.open_dataset(folder+'/'+model+'/'+experiment+'/b.e12.B1850.f09_g16.preind.pop.h.MOC.0707-0806.ann.nc')\n",
    "else:\n",
    "    ds = xr.open_dataset(folder+'/'+model+'/'+experiment+'/b.e12.B1850.f09_g16.PMIP4-pliomip2.pop.h.MOC.1100-1199.ann.nc')"
   ]
  },
  {
   "cell_type": "code",
   "execution_count": 22,
   "id": "797a561a-1d8b-4e8f-8042-29a511c46841",
   "metadata": {},
   "outputs": [],
   "source": [
    "#Mask (almost) zero values \n",
    "a = ds.MOC[:,1,0,:,:]\n",
    "b = a.where(a>1e-5).fillna(0)+a.where(a<-1e-5).fillna(0)\n",
    "c = b.where(b!=0)\n",
    "\n",
    "if experiment == 'Eoi400':\n",
    "    dsM2 = xr.Dataset(data_vars = dict(AMOC=((\"time\",\"z\",\"lat\"), c.values)), coords = dict(time = np.arange(1100, 1200),z = (ds.moc_z/100).values, lat = ds.lat_aux_grid.values))\n",
    "elif experiment == 'E280':\n",
    "    dsM2 = xr.Dataset(data_vars = dict(AMOC=((\"time\",\"z\",\"lat\"), c.values)), coords = dict(time = np.arange(707, 807),z = (ds.moc_z/100).values, lat = ds.lat_aux_grid.values))\n",
    "    \n",
    "xr.Dataset.to_netcdf(dsM2, path = datafolder+'/Processed/'+model+'/'+experiment+'/AMOC_annual_100yr.nc')"
   ]
  },
  {
   "cell_type": "markdown",
   "id": "ffb47219-70ec-4fe0-90c1-ef39cb72e16b",
   "metadata": {
    "tags": []
   },
   "source": [
    "## 100-yr mean total Atlantic OHT"
   ]
  },
  {
   "cell_type": "code",
   "execution_count": 23,
   "id": "bb20efaf-375a-4f5d-8a81-1bf1b9ae19b1",
   "metadata": {},
   "outputs": [
    {
     "data": {
      "image/png": "[encoded data removed]",
      "text/plain": [
       "<Figure size 432x288 with 1 Axes>"
      ]
     },
     "metadata": {
      "needs_background": "light"
     },
     "output_type": "display_data"
    }
   ],
   "source": [
    "dsOHT.N_HEAT[0,1,1,:].plot()\n",
    "dsH = xr.Dataset(data_vars = dict(OHT=((\"lat\"), dsOHT.N_HEAT[0,1,1,:].values)), coords = dict(lat = dsOHT.lat_aux_grid.values))\n",
    "xr.Dataset.to_netcdf(dsH, path = datafolder+'Processed/'+model+'/'+experiment+'/OHT_100yr.nc')"
   ]
  },
  {
   "cell_type": "markdown",
   "id": "42ac3530-b048-49e9-8352-8ac2964319d8",
   "metadata": {},
   "source": [
    "## Annual SST timeseries (100 years)"
   ]
  },
  {
   "cell_type": "code",
   "execution_count": 24,
   "id": "469280b4-80d2-4d2e-9b8c-c178d40b9a05",
   "metadata": {},
   "outputs": [
    {
     "name": "stderr",
     "output_type": "stream",
     "text": [
      "/opt/anaconda3/envs/myenv/lib/python3.8/site-packages/xesmf/frontend.py:522: FutureWarning: ``output_sizes`` should be given in the ``dask_gufunc_kwargs`` parameter. It will be removed as direct parameter in a future version.\n",
      "  dr_out = xr.apply_ufunc(\n"
     ]
    }
   ],
   "source": [
    "dstos = xr.open_dataset(folder+'/'+model+'/'+experiment+'/thetao_annual_100yr.nc')\n",
    "dstos = dstos.drop(['ULAT','ULONG'])\n",
    "\n",
    "dsgrid = xr.open_dataset(folder+'/'+model+'/'+experiment+'/'+experiment+'.SST.mean_month.nc', decode_times=False)\n",
    "regridder = xe.Regridder(dstos, dsgrid, 'bilinear', periodic = True, ignore_degenerate=True)\n",
    "tos = regridder(dstos.TEMP[:,0,:,:])\n",
    "\n",
    "dsSST = xr.Dataset(data_vars = dict(sst=((\"time\",\"lat\",\"lon\"), tos.values)), coords = dict(time = tos.year.values, lat = tos.latitude.values, lon = tos.longitude.values))\n",
    "xr.Dataset.to_netcdf(dsSST, path = datafolder+'Processed/'+model+'/'+experiment+'/SST_annual_100yr.nc')"
   ]
  },
  {
   "cell_type": "markdown",
   "id": "2a6b108e-8256-4fc5-8254-16f0a814ba8a",
   "metadata": {
    "tags": []
   },
   "source": [
    "## 100-yr mean SSS field (regridded)"
   ]
  },
  {
   "cell_type": "code",
   "execution_count": 26,
   "id": "a8b4ccee-01b5-4383-9e14-f3d634176d12",
   "metadata": {
    "tags": []
   },
   "outputs": [],
   "source": [
    "if experiment == 'Eoi400':\n",
    "    dsS = dsS.drop(['ULAT','ULONG','lat_aux_grid'])\n",
    "\n",
    "dsgrid = xr.open_dataset(folder+'/'+model+'/'+experiment+'/'+experiment+'.SST.mean_month.nc')\n",
    "regridder = xe.Regridder(dsS, dsgrid, 'bilinear', periodic = True, ignore_degenerate=True)\n",
    "\n",
    "sss = regridder(dsS.SALT[0,0])\n",
    "\n",
    "dsSSS = xr.Dataset(data_vars = dict(sss=((\"lat\",\"lon\"), sss)), coords = dict(lat = sss.latitude.values, lon = sss.longitude.values))\n",
    "xr.Dataset.to_netcdf(dsSSS, path = datafolder+'Processed/'+model+'/'+experiment+'/SSS_100yr.nc')"
   ]
  },
  {
   "cell_type": "markdown",
   "id": "4ee7c432-13d3-4b74-94da-c63884333459",
   "metadata": {
    "tags": []
   },
   "source": [
    "## 100-yr mean SI field (regridded)"
   ]
  },
  {
   "cell_type": "code",
   "execution_count": 27,
   "id": "93b5f3b6-0a08-4201-b980-c69ceade76d8",
   "metadata": {
    "tags": []
   },
   "outputs": [
    {
     "name": "stderr",
     "output_type": "stream",
     "text": [
      "/opt/anaconda3/envs/myenv/lib/python3.8/site-packages/xesmf/frontend.py:522: FutureWarning: ``output_sizes`` should be given in the ``dask_gufunc_kwargs`` parameter. It will be removed as direct parameter in a future version.\n",
      "  dr_out = xr.apply_ufunc(\n",
      "/opt/anaconda3/envs/myenv/lib/python3.8/site-packages/xesmf/frontend.py:522: FutureWarning: ``output_sizes`` should be given in the ``dask_gufunc_kwargs`` parameter. It will be removed as direct parameter in a future version.\n",
      "  dr_out = xr.apply_ufunc(\n",
      "/opt/anaconda3/envs/myenv/lib/python3.8/site-packages/xesmf/frontend.py:522: FutureWarning: ``output_sizes`` should be given in the ``dask_gufunc_kwargs`` parameter. It will be removed as direct parameter in a future version.\n",
      "  dr_out = xr.apply_ufunc(\n",
      "/opt/anaconda3/envs/myenv/lib/python3.8/site-packages/xesmf/frontend.py:522: FutureWarning: ``output_sizes`` should be given in the ``dask_gufunc_kwargs`` parameter. It will be removed as direct parameter in a future version.\n",
      "  dr_out = xr.apply_ufunc(\n"
     ]
    }
   ],
   "source": [
    "dsi = dsice.drop('time') # To avoid error with adding different months together\n",
    "\n",
    "djf = (dsi.ICEFRAC[11:1200:12]+dsi.ICEFRAC[0:1200:12]+dsi.ICEFRAC[1:1200:12])/3\n",
    "djf = djf.mean(dim='time')\n",
    "\n",
    "mam = (dsi.ICEFRAC[2:1200:12]+dsi.ICEFRAC[3:1200:12]+dsi.ICEFRAC[4:1200:12])/3\n",
    "mam = mam.mean(dim='time')\n",
    "\n",
    "jja = (dsi.ICEFRAC[5:1200:12]+dsi.ICEFRAC[6:1200:12]+dsi.ICEFRAC[7:1200:12])/3\n",
    "jja = jja.mean(dim='time')\n",
    "\n",
    "son = (dsi.ICEFRAC[8:1200:12]+dsi.ICEFRAC[9:1200:12]+dsi.ICEFRAC[10:1200:12])/3\n",
    "son = son.mean(dim='time')\n",
    "\n",
    "dsgrid = xr.open_dataset(folder+'/'+model+'/'+experiment+'/'+experiment+'.SST.mean_month.nc')\n",
    "regridder = xe.Regridder(dsi, dsgrid, 'bilinear', periodic = True, ignore_degenerate=True)\n",
    "\n",
    "si_djf = regridder(djf)*sss/sss*100 #Use mask from SSS field to mark continents & convert to percentage\n",
    "si_mam = regridder(mam)*sss/sss*100\n",
    "si_jja = regridder(jja)*sss/sss*100\n",
    "si_son = regridder(son)*sss/sss*100\n",
    "si = (si_djf+si_mam+si_jja+si_son)/4\n",
    "\n",
    "dsSI = xr.Dataset(data_vars = dict(si_djf=((\"lat\",\"lon\"), si_djf), si_mam = ((\"lat\",\"lon\"), si_mam), si_jja = ((\"lat\",\"lon\"), si_jja), si_son = ((\"lat\",\"lon\"), si_son), si_mean = ((\"lat\",\"lon\"), si)), coords = dict(lat = si_djf.latitude.values, lon = si_djf.longitude.values))\n",
    "xr.Dataset.to_netcdf(dsSI, path = datafolder+'Processed/'+model+'/'+experiment+'/SI_100yr.nc')"
   ]
  },
  {
   "cell_type": "markdown",
   "id": "fcb99eb0-5ec8-43fe-89dc-8bcd77f1c2e8",
   "metadata": {},
   "source": [
    "## 100-yr mean top 100 m salinity"
   ]
  },
  {
   "cell_type": "code",
   "execution_count": 28,
   "id": "efffda1a-0ed5-4ad7-b3ce-95a1b3f27874",
   "metadata": {
    "tags": []
   },
   "outputs": [
    {
     "name": "stderr",
     "output_type": "stream",
     "text": [
      "/opt/anaconda3/envs/myenv/lib/python3.8/site-packages/xesmf/frontend.py:522: FutureWarning: ``output_sizes`` should be given in the ``dask_gufunc_kwargs`` parameter. It will be removed as direct parameter in a future version.\n",
      "  dr_out = xr.apply_ufunc(\n"
     ]
    }
   ],
   "source": [
    "regridder = xe.Regridder(dsS, dsgrid, 'bilinear', periodic = True, ignore_degenerate=True)\n",
    "weights = ds.dz[0:10]\n",
    "s100m = regridder(dsS.SALT[0,0:10].weighted(weights).mean(dim='z_t'))\n",
    "\n",
    "dsS100m = xr.Dataset(data_vars = dict(s100m=((\"lat\",\"lon\"), s100m)), coords = dict(lat = s100m.latitude.values, lon = s100m.longitude.values))\n",
    "xr.Dataset.to_netcdf(dsS100m, path = datafolder+'Processed/'+model+'/'+experiment+'/so100m_100yr.nc')"
   ]
  },
  {
   "cell_type": "markdown",
   "id": "1f822524-026e-49b4-ae86-7e6832b13fac",
   "metadata": {},
   "source": [
    "## 100-yr zonal mean salinity"
   ]
  },
  {
   "cell_type": "code",
   "execution_count": 29,
   "id": "733cec2f-336b-4965-8090-df234672b24b",
   "metadata": {
    "tags": []
   },
   "outputs": [],
   "source": [
    "salt_atl = dsS.SALT[0]\n",
    "\n",
    "#Regrid to 1x1 rectangular grid\n",
    "dsgrid = xr.open_dataset(folder+'/'+model+'/'+experiment+'/'+experiment+'.SST.mean_month.nc')\n",
    "regridder = xe.Regridder(dsS, dsgrid, 'bilinear', periodic = True, ignore_degenerate=True)\n",
    "\n",
    "salt = regridder(salt_atl)\n",
    "mask = regularAtlmask(salt)\n",
    "\n",
    "salt_zm = salt.where(mask>-1).mean(dim='longitude')\n",
    "\n",
    "dszm = xr.Dataset(data_vars = dict(so=((\"z\",\"lat\"), salt_zm)), coords = dict(z = salt_zm.z_t.values/100, lat = salt_zm.latitude.values))\n",
    "xr.Dataset.to_netcdf(dszm, path = datafolder+'Processed/'+model+'/'+experiment+'/so_zm_100yr.nc')"
   ]
  },
  {
   "cell_type": "markdown",
   "id": "0f2a2188-05e2-4182-8e4d-5a32f6053d9c",
   "metadata": {},
   "source": [
    "## 100-yr zonal mean temperature"
   ]
  },
  {
   "cell_type": "code",
   "execution_count": 30,
   "id": "e0c0b0fe-d36b-4d7b-a09d-0a2620e75472",
   "metadata": {},
   "outputs": [
    {
     "name": "stderr",
     "output_type": "stream",
     "text": [
      "/opt/anaconda3/envs/myenv/lib/python3.8/site-packages/xesmf/frontend.py:522: FutureWarning: ``output_sizes`` should be given in the ``dask_gufunc_kwargs`` parameter. It will be removed as direct parameter in a future version.\n",
      "  dr_out = xr.apply_ufunc(\n"
     ]
    }
   ],
   "source": [
    "temp_atl = dsT.TEMP[0]\n",
    "\n",
    "#Regrid to 1x1 rectangular grid\n",
    "dsgrid = xr.open_dataset(folder+'/'+model+'/'+experiment+'/'+experiment+'.SST.mean_month.nc')\n",
    "regridder = xe.Regridder(dsT, dsgrid, 'bilinear', periodic = True, ignore_degenerate=True)\n",
    "\n",
    "temp = regridder(temp_atl)\n",
    "mask = regularAtlmask(temp)\n",
    "\n",
    "temp_zm = temp.where(mask>-1).mean(dim='longitude')\n",
    "\n",
    "dtzm = xr.Dataset(data_vars = dict(thetao=((\"z\",\"lat\"), temp_zm)), coords = dict(z = temp_zm.z_t.values/100, lat = temp_zm.latitude.values))\n",
    "xr.Dataset.to_netcdf(dtzm, path = datafolder+'/Processed/'+model+'/'+experiment+'/thetao_zm_100yr.nc')"
   ]
  },
  {
   "cell_type": "markdown",
   "id": "ef6cca3e-f0d5-48b2-a00f-8e8d02f22c57",
   "metadata": {},
   "source": [
    "## 100-yr mean wind at 1000 hPa"
   ]
  },
  {
   "cell_type": "code",
   "execution_count": 32,
   "id": "db902c5b-10f2-4325-9928-b52fd91ba5cb",
   "metadata": {},
   "outputs": [],
   "source": [
    "folder = datafolder+'Raw_data/'+model+'/'\n",
    "\n",
    "if experiment == 'E280':\n",
    "    dsu = xr.open_dataset(folder+experiment+'/Atm/b.e12.B1850.f09_g16.preind.cam.h0.U.0707.0806.nc')\n",
    "    dsv = xr.open_dataset(folder+experiment+'/Atm/b.e12.B1850.f09_g16.preind.cam.h0.V.0707.0806.nc')\n",
    "else:\n",
    "    dsu = xr.open_dataset(folder+experiment+'/Atm/b.e12.B1850.f09_g16.PMIP4-pliomip2.U.1101.1200.nc')\n",
    "    dsv = xr.open_dataset(folder+experiment+'/Atm/b.e12.B1850.f09_g16.PMIP4-pliomip2.V.1101.1200.nc')"
   ]
  },
  {
   "cell_type": "code",
   "execution_count": 33,
   "id": "9315abe4-4af3-44e3-bb86-f7c656d7ef92",
   "metadata": {},
   "outputs": [],
   "source": [
    "ua = dsu.U[:,-1].mean(dim='time')\n",
    "va = dsv.V[:,-1].mean(dim='time')"
   ]
  },
  {
   "cell_type": "code",
   "execution_count": 34,
   "id": "7bbbe798-399f-433f-a5de-c57dae638f84",
   "metadata": {},
   "outputs": [
    {
     "name": "stderr",
     "output_type": "stream",
     "text": [
      "/opt/anaconda3/envs/myenv/lib/python3.8/site-packages/xesmf/frontend.py:522: FutureWarning: ``output_sizes`` should be given in the ``dask_gufunc_kwargs`` parameter. It will be removed as direct parameter in a future version.\n",
      "  dr_out = xr.apply_ufunc(\n"
     ]
    }
   ],
   "source": [
    "dsgrid = xr.open_dataset(folder+experiment+'/'+experiment+'.SST.mean_month.nc', decode_times=False)\n",
    "regridder = xe.Regridder(dsu, dsgrid, 'bilinear', periodic = True, ignore_degenerate=True)\n",
    "\n",
    "u = regridder(ua)\n",
    "v = regridder(va)\n",
    "\n",
    "dsUV = xr.Dataset(data_vars = dict(ua=((\"lat\",\"lon\"), u), va=((\"lat\",\"lon\"), v)), coords = dict(lat = u.latitude.values, lon = v.longitude.values))\n",
    "xr.Dataset.to_netcdf(dsUV, path = datafolder+'Processed/'+model+'/'+experiment+'/UVa_100yr.nc')"
   ]
  }
 ],
 "metadata": {
  "kernelspec": {
   "display_name": "Python 3 (ipykernel)",
   "language": "python",
   "name": "python3"
  },
  "language_info": {
   "codemirror_mode": {
    "name": "ipython",
    "version": 3
   },
   "file_extension": ".py",
   "mimetype": "text/x-python",
   "name": "python",
   "nbconvert_exporter": "python",
   "pygments_lexer": "ipython3",
   "version": "3.8.12"
  }
 },
 "nbformat": 4,
 "nbformat_minor": 5
}
