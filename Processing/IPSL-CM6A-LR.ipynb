{
 "cells": [
  {
   "cell_type": "code",
   "execution_count": 1,
   "id": "511e51e7-717c-404c-9034-2303417d4315",
   "metadata": {},
   "outputs": [],
   "source": [
    "## imports\n",
    "import sys\n",
    "import os\n",
    "import numpy as np\n",
    "import xarray as xr\n",
    "import cmocean\n",
    "import matplotlib\n",
    "import matplotlib.pyplot as plt\n",
    "from matplotlib.patches import Rectangle\n",
    "from matplotlib import gridspec\n",
    "import cartopy\n",
    "import cartopy.crs as ccrs\n",
    "from cartopy.mpl.gridliner import LONGITUDE_FORMATTER, LATITUDE_FORMATTER\n",
    "import eofs\n",
    "from eofs.xarray import Eof\n",
    "import cftime\n",
    "import nc_time_axis\n",
    "\n",
    "import mtspec\n",
    "\n",
    "# from pylab import *\n",
    "\n",
    "import datetime\n",
    "import time\n",
    "import glob, os\n",
    "import math\n",
    "import matplotlib.colors as colors\n",
    "import xesmf as xe\n",
    "from defs import regularAtlmask"
   ]
  },
  {
   "cell_type": "code",
   "execution_count": 2,
   "id": "669eee16",
   "metadata": {},
   "outputs": [],
   "source": [
    "datafolder = ''"
   ]
  },
  {
   "cell_type": "code",
   "execution_count": 4,
   "id": "54eecedf-876c-4256-8f22-6da6029b67b2",
   "metadata": {},
   "outputs": [],
   "source": [
    "experiment = 'Eoi400'\n",
    "model = 'IPSL-CM6A'\n",
    "folder = datafolder+'Raw_data/'+model+'/'"
   ]
  },
  {
   "cell_type": "code",
   "execution_count": 5,
   "id": "70432dda-1499-42d0-a362-06efbf3baa68",
   "metadata": {},
   "outputs": [],
   "source": [
    "dsV = xr.open_dataset(folder+experiment+'/vo_100yr.nc')\n",
    "dsT = xr.open_dataset(folder+experiment+'/thetao_100yr.nc')\n",
    "\n",
    "if experiment == 'E280':\n",
    "    dsOHT = xr.open_dataset(folder+experiment+'/hfbasin_Omon_IPSL-CM6A-LR_piControl_r1i1p1f1_gn_355001-384912.nc',decode_times=False)\n",
    "    dsgyre = xr.open_dataset(folder+experiment+'/htovgyre_Omon_IPSL-CM6A-LR_piControl_r1i1p1f1_gn_355001-384912.nc',decode_times=False)\n",
    "    dsovrt = xr.open_dataset(folder+experiment+'/htovovrt_Omon_IPSL-CM6A-LR_piControl_r1i1p1f1_gn_355001-384912.nc',decode_times=False)\n",
    "    dsAMOC = xr.open_dataset(folder+experiment+'/msftyz_Omon_IPSL-CM6A-LR_piControl_r1i1p1f1_gn_355001-384912.nc',decode_times=False)\n",
    "    dsr = xr.open_dataset(folder+experiment+'/basin_Ofx_IPSL-CM6A-LR_piControl_r1i1p1f1_gn.nc')\n",
    "    dsice = xr.open_dataset(folder+experiment+'/siconc_SImon_IPSL-CM6A-LR_piControl_r1i1p1f1_gn_355001-384912.nc')\n",
    "else:\n",
    "    dsOHT = xr.open_dataset(folder+experiment+'/hfbasin_Omon_IPSL-CM6A-LR_midPliocene-eoi400_r1i1p1f1_gn_185001-204912.nc',decode_times=False)\n",
    "    dsAMOC = xr.open_dataset(folder+experiment+'/msftyz_Omon_IPSL-CM6A-LR_midPliocene-eoi400_r1i1p1f1_gn_185001-204912.nc',decode_times=False)\n",
    "    dsr = xr.open_dataset(folder+experiment+'/basin_Ofx_IPSL-CM6A-LR_midPliocene-eoi400_r1i1p1f1_gn.nc')\n",
    "    dsice = xr.open_dataset(folder+experiment+'/siconc_SImon_IPSL-CM6A-LR_midPliocene-eoi400_r1i1p1f1_gn_185001-204912.nc')"
   ]
  },
  {
   "cell_type": "markdown",
   "id": "a181280e-b1ab-4d4d-8370-b9df9407285e",
   "metadata": {
    "tags": []
   },
   "source": [
    "## Separation MOC and gyre OHT component 100-yr average"
   ]
  },
  {
   "cell_type": "code",
   "execution_count": 6,
   "id": "11cc2a8f-1b2b-4356-9185-ee398a8b2b09",
   "metadata": {},
   "outputs": [],
   "source": [
    "#Rename to avoid confusion with T and V(U) grid\n",
    "dsV = dsV.rename({'nav_lon': 'ULONG', 'nav_lat': 'ULAT'})\n",
    "dsT = dsT.rename({'nav_lon': 'TLONG', 'nav_lat': 'TLAT'})\n",
    "dsr = dsr.rename({'nav_lon': 'TLONG', 'nav_lat': 'TLAT'})"
   ]
  },
  {
   "cell_type": "code",
   "execution_count": 7,
   "id": "3a704f02-7f3b-4f78-844e-0cc9bffc4bad",
   "metadata": {
    "tags": []
   },
   "outputs": [
    {
     "name": "stderr",
     "output_type": "stream",
     "text": [
      "/opt/anaconda3/envs/myenv/lib/python3.8/site-packages/xesmf/frontend.py:522: FutureWarning: ``output_sizes`` should be given in the ``dask_gufunc_kwargs`` parameter. It will be removed as direct parameter in a future version.\n",
      "  dr_out = xr.apply_ufunc(\n"
     ]
    }
   ],
   "source": [
    "temp = dsT.thetao\n",
    "region = dsr.basin\n",
    "\n",
    "#Regrid velocity field to the temperature field, using 0 as a fill value for land to avoid NaN ocean grid cells\n",
    "regridder = xe.Regridder(dsV, dsT, 'bilinear', periodic = True, ignore_degenerate=True)\n",
    "vo = dsV.vo.fillna(0)*100\n",
    "vvel = regridder(vo) #cm/s\n",
    "vvel = vvel*temp/temp #Fills land grid cells with NaN again"
   ]
  },
  {
   "cell_type": "markdown",
   "id": "801bba92-e289-4b3d-bba3-41c48fa29440",
   "metadata": {},
   "source": [
    "Create DXT grid"
   ]
  },
  {
   "cell_type": "code",
   "execution_count": 8,
   "id": "93e6d0fd-59cb-4d4c-b0d0-73096f269cb0",
   "metadata": {
    "tags": []
   },
   "outputs": [],
   "source": [
    "dphi = np.zeros([332,362])\n",
    "lat = dsT.TLAT.values\n",
    "dphi[:,1:] = lat[:,1:]-lat[:,:-1]\n",
    "dphi[:,0] = lat[:,0]-lat[:,-1]\n",
    "dphi = np.radians(dphi)\n",
    "\n",
    "dtheta = np.zeros([332,362])\n",
    "lon = dsT.TLONG.values\n",
    "dtheta[:,1:] = lon[:,1:]-lon[:,:-1]\n",
    "dtheta[:,0] = lon[:,0]-lon[:,-1]\n",
    "\n",
    "for j in range(332):\n",
    "    for i in range(200,300):\n",
    "        if dtheta[j,i] < -300:\n",
    "            dtheta[j,i] = dtheta[j,i]+360\n",
    "dtheta = np.radians(dtheta)\n",
    "\n",
    "phi1 = np.zeros([332,362])\n",
    "phi1[:,0] = lat[:,-1]\n",
    "phi1[:,1:] = lat[:,:-1]\n",
    "phi1 = np.radians(phi1)\n",
    "\n",
    "phi2 = np.radians(lat)\n",
    "\n",
    "r = 6.37122e8 #radius Earth in cm\n",
    "d = 2*r*np.arcsin(np.sqrt(np.sin(dphi/2)**2+np.cos(phi1)*np.cos(phi2)*np.sin(dtheta/2)**2)) #Distance between adjacent cells in i dimension on U grid [cm]\n",
    "dsT['d'] = xr.DataArray(data=d, dims=(\"j\",\"i\")) \n",
    "DXT = np.zeros([332,362])\n",
    "DXT[:,:-1] = (d[:,1:]+d[:,:-1])/2\n",
    "DXT[:,-1] = (d[:,0]+d[:,-1])/2\n",
    "\n",
    "dsT['DXT'] = xr.DataArray(data=DXT, dims=(\"y\",\"x\")) #Grid lengths centered on T-points [cm]"
   ]
  },
  {
   "cell_type": "markdown",
   "id": "8605c305-1e8b-4493-b085-695b29d49f81",
   "metadata": {},
   "source": [
    "Create DZ array"
   ]
  },
  {
   "cell_type": "code",
   "execution_count": 9,
   "id": "e47ec837-30dc-44c3-9828-8e70cf6ea59a",
   "metadata": {},
   "outputs": [],
   "source": [
    "#1-D array with spacing of depth grid\n",
    "ds = dsT.copy(deep=True)\n",
    "\n",
    "dz = np.zeros(len(ds.olevel))\n",
    "dz[0] = ds.olevel[0].values*2\n",
    "depth = dz[0]\n",
    "for i in range(1,len(ds.olevel)):\n",
    "    dz[i] = (ds.olevel[i]-depth)*2\n",
    "    depth = depth+dz[i]\n",
    "dz = dz*100 #Depth spacing. Units: cm\n",
    "dsV['DZ'] = xr.DataArray(data=dz, dims=(\"olevel\"))\n",
    "dsT['DZ'] = xr.DataArray(data=dz, dims=(\"olevel\"))\n",
    "DZ = dsT.DZ"
   ]
  },
  {
   "cell_type": "code",
   "execution_count": 10,
   "id": "723c20ad-13cd-43df-9fee-5758b6022aaf",
   "metadata": {},
   "outputs": [
    {
     "data": {
      "text/plain": [
       "<matplotlib.legend.Legend at 0x7fc6cb435f40>"
      ]
     },
     "execution_count": 10,
     "metadata": {},
     "output_type": "execute_result"
    },
    {
     "data": {
      "image/png": "[encoded data removed]",
      "text/plain": [
       "<Figure size 432x288 with 1 Axes>"
      ]
     },
     "metadata": {
      "needs_background": "light"
     },
     "output_type": "display_data"
    }
   ],
   "source": [
    "cp_sw = 3996.  # [J/(kg degC)]   heat capacity of water\n",
    "rho_sw = 1.026e-3  # [kg/cm^3]  density of water\n",
    "\n",
    "VVEL = vvel.where(region==2) #cm/s\n",
    "HEAT = (cp_sw*rho_sw*temp).where(region==2)  #  [J/(kg K) * kg/cm^3 * degC] = [J/cm]\n",
    "\n",
    "def zonal_means(x, dx):\n",
    "    xint = (x*dx).sum('x')  # [x-unit * cm]\n",
    "    zm = xint/dx.sum('x')   # [x-unit]\n",
    "    return xint, zm\n",
    "\n",
    "#Zonal mean velocity and heat\n",
    "VVEL_xint, VVEL_zm = zonal_means(VVEL, dsT.DXT.where(VVEL<10000))\n",
    "HEAT_xint, HEAT_zm = zonal_means(HEAT, dsT.DXT.where(VVEL<10000))\n",
    "\n",
    "#Make zonal mean fields into 3D fields again\n",
    "HEAT_zm_3D = HEAT/HEAT\n",
    "HEAT_zm_3D = HEAT_zm_3D*HEAT_zm\n",
    "\n",
    "VVEL_zm_3D = VVEL/VVEL\n",
    "VVEL_zm_3D = VVEL_zm_3D*VVEL_zm\n",
    "\n",
    "#azonal components\n",
    "HEAT_prime = (HEAT - HEAT_zm) # azonal heat component (x,y,z) [J/cm]\n",
    "VVEL_prime = (VVEL - VVEL_zm)  # azonal velocity comp. (x,y,z) [cm/s]\n",
    "\n",
    "#Integrate to compute OHTov and OHTaz\n",
    "Hov = (VVEL_zm_3D*HEAT_zm_3D*dsT.DXT*dsT.DZ).sum(dim=['x','olevel'])\n",
    "Haz = (VVEL_prime*HEAT_prime*dsT.DXT*dsT.DZ).sum(dim=['x','olevel'])  # product of primed velocity and heat [cm/s * J/cm^2 * cm]\n",
    "\n",
    "# Auxiliary latitudes for OHT components\n",
    "lats = dsT.TLAT.where(region==2).mean(dim='x')\n",
    "\n",
    "plt.figure(figsize=(6,4))\n",
    "plt.axhline(0,c='k',lw=.5)\n",
    "plt.plot(lats, Hov/1e15, label='overturning component')\n",
    "\n",
    "plt.plot(lats, Haz/1e15, label='azonal component')\n",
    "plt.plot(lats, (Hov+Haz)/1e15, label='overturning+azonal')\n",
    "plt.plot(dsOHT.nav_lat.mean(dim='x'), dsOHT.hfbasin[2400:3600,1,:,0].mean(dim='time')/1e15,label='Eulerian mean')\n",
    "#plt.plot(dsovrt.nav_lat.mean(dim='x'), dsovrt.htovovrt[2400:3600, 1, :,0].mean(dim='time'), label = 'Model overturning')\n",
    "#plt.plot(dsgyre.nav_lat.mean(dim='x'), dsgyre.htovgyre[2400:3600, 1, :,0].mean(dim='time'), label = 'Model gyre')\n",
    "plt.title('northward heat transport')\n",
    "plt.xlim([-35,70])\n",
    "plt.ylim([-0.5, 1.25])\n",
    "plt.xlabel(r'latitude  [$^\\circ$N]')\n",
    "plt.legend(fontsize=8)"
   ]
  },
  {
   "cell_type": "code",
   "execution_count": 11,
   "id": "caf5e4ea-8803-4ca0-9faa-f538bfadf2e4",
   "metadata": {},
   "outputs": [],
   "source": [
    "dsE = xr.Dataset(data_vars = dict(OHTov=([\"lat\"], Hov[140:-34]/1e15), OHTaz=([\"lat\"], Haz[140:-34]/1e15)), coords = dict(lat = lats[140:-34].values))\n",
    "xr.Dataset.to_netcdf(dsE, path = datafolder+'Processed/'+model+'/'+experiment+'/decomOHT_100yr.nc')"
   ]
  },
  {
   "cell_type": "markdown",
   "id": "230a6e57-b3de-429a-acce-2e3adad2e7e2",
   "metadata": {
    "tags": []
   },
   "source": [
    "## 100-yr average AMOC streamfunction"
   ]
  },
  {
   "cell_type": "code",
   "execution_count": 12,
   "id": "e5e2269d-efbe-4e85-a870-6658c81d5072",
   "metadata": {},
   "outputs": [],
   "source": [
    "#Select right years/months and replace zeros with NaNs\n",
    "if experiment == 'Eoi400':\n",
    "    a = dsAMOC.msftyz[1200:2400,1,:,:,0].mean(dim='time') #streamfunction in kg/s  1.026e-3  # [kg/cm^3]\n",
    "    b = a/rho_sw/1e12 #kg/s --> cm^3/s --> hm^3/s\n",
    "    b = b.where(b!=0)\n",
    "else:\n",
    "    a = dsAMOC.msftyz[2400:3600,1,:,:,0].mean(dim='time') #streamfunction in kg/s  1.026e-3  # [kg/cm^3]\n",
    "    b = a/rho_sw/1e12 #kg/s --> cm^3/s --> hm^3/s\n",
    "    b = b.where(b!=0)"
   ]
  },
  {
   "cell_type": "code",
   "execution_count": 13,
   "id": "f23def08-e654-461f-9b64-c4167f0f22af",
   "metadata": {},
   "outputs": [],
   "source": [
    "dsM = xr.Dataset(data_vars = dict(AMOC=((\"z\",\"lat\"), b.values)), coords = dict(z = dsAMOC.olevel.values, lat = dsAMOC.nav_lat[:,0].values))\n",
    "xr.Dataset.to_netcdf(dsM, path = datafolder+'Processed/'+model+'/'+experiment+'/AMOC_100yr.nc')"
   ]
  },
  {
   "cell_type": "markdown",
   "id": "c2f2af0b-c7ad-432b-bf47-fe9ef9435b64",
   "metadata": {
    "tags": []
   },
   "source": [
    "## 100-yr average total Atlantic OHT"
   ]
  },
  {
   "cell_type": "code",
   "execution_count": 14,
   "id": "9b024862-b6af-4076-b227-3e9bb23c757e",
   "metadata": {},
   "outputs": [],
   "source": [
    "if experiment == 'Eoi400':\n",
    "    dsH = xr.Dataset(data_vars = dict(OHT=((\"lat\"), (dsOHT.hfbasin[1200:2400,1,:-1,0].mean(dim='time')/1e15).values)), coords = dict(lat = dsOHT.nav_lat[:-1,0].values))\n",
    "else:\n",
    "    dsH = xr.Dataset(data_vars = dict(OHT=((\"lat\"), (dsOHT.hfbasin[2400:3600,1,:-1,0].mean(dim='time')/1e15).values)), coords = dict(lat = dsOHT.nav_lat[:-1,0].values))\n",
    "xr.Dataset.to_netcdf(dsH, path = datafolder+'Processed/'+model+'/'+experiment+'/OHT_100yr.nc')"
   ]
  },
  {
   "cell_type": "markdown",
   "id": "bc01ed3e-8cac-4c62-84f3-c3a06f7577c9",
   "metadata": {},
   "source": [
    "##  Annual time series AMOC streamfunction"
   ]
  },
  {
   "cell_type": "code",
   "execution_count": null,
   "id": "6653853e-95f0-4ed8-80fb-09ac2fdee288",
   "metadata": {},
   "outputs": [],
   "source": [
    "if experiment == 'Eoi400':\n",
    "    a = dsAMOC.msftyz[1200:2400,1,:,:,0] #streamfunction in kg/s  1.026e-3  # [kg/cm^3]\n",
    "else:\n",
    "    a = dsAMOC.msftyz[2400:3600,1,:,:,0] #streamfunction in kg/s  1.026e-3  # [kg/cm^3]    \n",
    "    \n",
    "amoc = np.zeros([100,75,332])\n",
    "\n",
    "for i in range(0,100):\n",
    "    amoc[i] = a[0+i*12:12+i*12].mean(dim='time')\n",
    "\n",
    "if experiment == 'E280':\n",
    "    dsM2 = xr.Dataset(data_vars = dict(AMOC=((\"time\",\"z\",\"lat\"), amoc)), coords = dict(time = np.arange(3750, 3850), z = dsAMOC.olevel.values, lat = dsAMOC.nav_lat[:,0].values))\n",
    "elif experiment == 'Eoi400':\n",
    "    dsM2 = xr.Dataset(data_vars = dict(AMOC=((\"time\",\"z\",\"lat\"), amoc)), coords = dict(time = np.arange(1950, 2050), z = dsAMOC.olevel.values, lat = dsAMOC.nav_lat[:,0].values))\n",
    "    \n",
    "b = dsM2.AMOC/rho_sw/1e12 #kg/s --> cm^3/s --> hm^3/s\n",
    "b = b.where(b!=0)\n",
    "dsM2['AMOC'] = b\n",
    "\n",
    "xr.Dataset.to_netcdf(dsM2, path = '/Users/6497241/surfdrive/Documents/PlioMIP2-OHT/Data/Processed/'+model+'/'+experiment+'/AMOC_annual_100yr.nc')"
   ]
  },
  {
   "cell_type": "markdown",
   "id": "6d8b8330-fe82-420f-97f8-1ceb5e93e186",
   "metadata": {},
   "source": [
    "## Annual SST timeseries (100 years)"
   ]
  },
  {
   "cell_type": "code",
   "execution_count": 15,
   "id": "fa37d782",
   "metadata": {},
   "outputs": [
    {
     "name": "stderr",
     "output_type": "stream",
     "text": [
      "/opt/anaconda3/envs/myenv/lib/python3.8/site-packages/xesmf/frontend.py:522: FutureWarning: ``output_sizes`` should be given in the ``dask_gufunc_kwargs`` parameter. It will be removed as direct parameter in a future version.\n",
      "  dr_out = xr.apply_ufunc(\n"
     ]
    }
   ],
   "source": [
    "if experiment == 'E280':\n",
    "    dstos = xr.open_dataset(datafolder+'Raw_data/'+model+'/'+experiment+'/tos_Omon_IPSL-CM6A-LR_piControl_r1i1p1f1_gn_355001-384912.nc',decode_times=False)\n",
    "    dsgrid = xr.open_dataset(datafolder+'Raw_data/'+model+'/'+experiment+'/'+experiment+'.SST.mean_month.nc', decode_times=False)\n",
    "    regridder = xe.Regridder(dstos, dsgrid, 'bilinear', periodic = True, ignore_degenerate=True)\n",
    "    tos = regridder(dstos.tos[2400:3600])\n",
    "\n",
    "    tosann = np.zeros([100,180,360])\n",
    "\n",
    "    for i in range(0,100):\n",
    "        tosann[i] = tos[0+i*12:12+i*12].mean(dim='time')\n",
    "\n",
    "    year1 = 3750\n",
    "    year2 = 3849\n",
    "\n",
    "elif experiment == 'Eoi400':\n",
    "    dstos = xr.open_dataset(datafolder+'Raw_data/'+model+'/'+experiment+'/tos_Omon_IPSL-CM6A-LR_midPliocene-eoi400_r1i1p1f1_gn_185001-204912.nc',decode_times=False)\n",
    "    dsgrid = xr.open_dataset(datafolder+'Raw_data/'+model+'/'+experiment+'/'+experiment+'.SST.mean_month.nc', decode_times=False)\n",
    "    regridder = xe.Regridder(dstos, dsgrid, 'bilinear', periodic = True, ignore_degenerate=True)\n",
    "    tos = regridder(dstos.tos[1200:3600])\n",
    "    \n",
    "    tosann = np.zeros([100,180,360])\n",
    "\n",
    "    for i in range(0,100):\n",
    "        tosann[i] = tos[0+i*12:12+i*12].mean(dim='time')\n",
    "\n",
    "    year1 = 1950\n",
    "    year2 = 2049\n",
    "    \n",
    "dsSST = xr.Dataset(data_vars = dict(sst=((\"time\",\"lat\",\"lon\"), tosann)), coords = dict(time = np.arange(year1, year2+1), lat = tos.latitude.values, lon = tos.longitude.values))\n",
    "xr.Dataset.to_netcdf(dsSST, path = datafolder+'Processed/'+model+'/'+experiment+'/SST_annual_100yr.nc')"
   ]
  },
  {
   "cell_type": "markdown",
   "id": "f2d9c189-e2bb-416e-8eb8-503831bd7219",
   "metadata": {},
   "source": [
    "## 100-yr SSS (regridded)"
   ]
  },
  {
   "cell_type": "code",
   "execution_count": 16,
   "id": "f7a8be5a-a2bd-45c7-9270-32286554e11f",
   "metadata": {},
   "outputs": [
    {
     "name": "stderr",
     "output_type": "stream",
     "text": [
      "/opt/anaconda3/envs/myenv/lib/python3.8/site-packages/xesmf/frontend.py:522: FutureWarning: ``output_sizes`` should be given in the ``dask_gufunc_kwargs`` parameter. It will be removed as direct parameter in a future version.\n",
      "  dr_out = xr.apply_ufunc(\n"
     ]
    }
   ],
   "source": [
    "dsS = xr.open_dataset(datafolder+'Raw_data/'+model+'/'+experiment+'/so_100yr.nc')\n",
    "\n",
    "dsgrid = xr.open_dataset(datafolder+'Raw_data/'+model+'/'+experiment+'/'+experiment+'.SST.mean_month.nc', decode_times=False)\n",
    "regridder = xe.Regridder(dsS, dsgrid, 'bilinear', periodic = True, ignore_degenerate=True)\n",
    "\n",
    "sss = regridder(dsS.so[0])\n",
    "\n",
    "dsSSS = xr.Dataset(data_vars = dict(sss=((\"lat\",\"lon\"), sss)), coords = dict(lat = sss.latitude.values, lon = sss.longitude.values))\n",
    "xr.Dataset.to_netcdf(dsSSS, path = datafolder+'Processed/'+model+'/'+experiment+'/SSS_100yr.nc')"
   ]
  },
  {
   "cell_type": "markdown",
   "id": "15ee55d3-31a7-4e95-92e4-9eb0e726b166",
   "metadata": {},
   "source": [
    "## 100-yr sea ice (regridded)"
   ]
  },
  {
   "cell_type": "code",
   "execution_count": 17,
   "id": "a66cf388-e938-4940-8d22-77dcf4846a56",
   "metadata": {},
   "outputs": [
    {
     "name": "stderr",
     "output_type": "stream",
     "text": [
      "/opt/anaconda3/envs/myenv/lib/python3.8/site-packages/xesmf/frontend.py:522: FutureWarning: ``output_sizes`` should be given in the ``dask_gufunc_kwargs`` parameter. It will be removed as direct parameter in a future version.\n",
      "  dr_out = xr.apply_ufunc(\n"
     ]
    }
   ],
   "source": [
    "dsi = dsice.drop(['time','type']) #Avoid errors with time when adding months together\n",
    "\n",
    "sic = dsi.siconc[-1200:] #Select only last 100 years of dataset\n",
    "\n",
    "djf = (sic[11:1200:12]+sic[0:1200:12]+sic[1:1200:12])/3\n",
    "djf = djf.mean(dim='time')\n",
    "\n",
    "mam = (sic[2:1200:12]+sic[3:1200:12]+sic[4:1200:12])/3\n",
    "mam = mam.mean(dim='time')\n",
    "\n",
    "jja = (sic[5:1200:12]+sic[6:1200:12]+sic[7:1200:12])/3\n",
    "jja = jja.mean(dim='time')\n",
    "\n",
    "son = (sic[8:1200:12]+sic[9:1200:12]+sic[10:1200:12])/3\n",
    "son = son.mean(dim='time')\n",
    "\n",
    "dsgrid = xr.open_dataset(datafolder+'Raw_data/'+model+'/'+experiment+'/'+experiment+'.SST.mean_month.nc', decode_times=False)\n",
    "regridder = xe.Regridder(dsi, dsgrid, 'bilinear', periodic = True, ignore_degenerate=True)\n",
    "\n",
    "si_djf = regridder(djf)\n",
    "si_mam = regridder(mam)\n",
    "si_jja = regridder(jja)\n",
    "si_son = regridder(son)\n",
    "\n",
    "si = (si_djf+si_mam+si_jja+si_son)/4\n",
    "\n",
    "dsSI = xr.Dataset(data_vars = dict(si_djf=((\"lat\",\"lon\"), si_djf), si_mam = ((\"lat\",\"lon\"), si_mam), si_jja = ((\"lat\",\"lon\"), si_jja), si_son = ((\"lat\",\"lon\"), si_son), si_mean = ((\"lat\",\"lon\"), si)), coords = dict(lat = si_djf.latitude.values, lon = si_djf.longitude.values))\n",
    "xr.Dataset.to_netcdf(dsSI, path = datafolder+'Processed/'+model+'/'+experiment+'/SI_100yr.nc')"
   ]
  },
  {
   "cell_type": "markdown",
   "id": "184ab123-8c95-4ccc-8932-c89bc063d98e",
   "metadata": {},
   "source": [
    "## 100-yr top 100 m salinity"
   ]
  },
  {
   "cell_type": "code",
   "execution_count": 18,
   "id": "3613c585-c1e3-48a9-b8d6-2c854cec0881",
   "metadata": {
    "tags": []
   },
   "outputs": [
    {
     "name": "stderr",
     "output_type": "stream",
     "text": [
      "/opt/anaconda3/envs/myenv/lib/python3.8/site-packages/xesmf/frontend.py:522: FutureWarning: ``output_sizes`` should be given in the ``dask_gufunc_kwargs`` parameter. It will be removed as direct parameter in a future version.\n",
      "  dr_out = xr.apply_ufunc(\n"
     ]
    }
   ],
   "source": [
    "def makedz(z):\n",
    "    dz = np.zeros(len(z))\n",
    "    dz[0] = z[0].values*2\n",
    "    depth = dz[0]\n",
    "    for i in range(1,len(z)):\n",
    "        dz[i] = (z[i]-depth)*2\n",
    "        depth = depth+dz[i] #Depth spacing. Units: cm\n",
    "    return xr.DataArray(data=dz, dims=(\"olevel\"))\n",
    "\n",
    "regridder = xe.Regridder(dsS, dsgrid, 'bilinear', periodic = True, ignore_degenerate=True)\n",
    "weights = makedz(dsS.olevel[0:23])\n",
    "\n",
    "s100m = regridder(dsS.so[0:23].weighted(weights).mean(dim='olevel'))\n",
    "\n",
    "dsS100m = xr.Dataset(data_vars = dict(s100m=((\"lat\",\"lon\"), s100m)), coords = dict(lat = s100m.latitude.values, lon = s100m.longitude.values))\n",
    "xr.Dataset.to_netcdf(dsS100m, path = datafolder+'Processed/'+model+'/'+experiment+'/so100m_100yr.nc')"
   ]
  },
  {
   "cell_type": "markdown",
   "id": "3569dccb-e4eb-48bd-8b72-8c05c4b08149",
   "metadata": {
    "tags": []
   },
   "source": [
    "## 100-yr zonal mean salinity Atlantic"
   ]
  },
  {
   "cell_type": "code",
   "execution_count": 19,
   "id": "122fe60d-897a-42d6-b5f0-0227b9c96049",
   "metadata": {
    "tags": []
   },
   "outputs": [],
   "source": [
    "salt_atl = dsS.so\n",
    "\n",
    "#Regrid to 1x1 rectangular grid\n",
    "dsgrid = xr.open_dataset(datafolder+'Raw_data/'+model+'/'+experiment+'/'+experiment+'.SST.mean_month.nc', decode_times=False)\n",
    "regridder = xe.Regridder(dsS, dsgrid, 'bilinear', periodic = True, ignore_degenerate=True)\n",
    "\n",
    "salt = regridder(salt_atl)\n",
    "mask = regularAtlmask(salt)\n",
    "\n",
    "salt_zm = salt.where(mask>-1).mean(dim='longitude')\n",
    "\n",
    "dszm = xr.Dataset(data_vars = dict(so=((\"z\",\"lat\"), salt_zm)), coords = dict(z = salt_zm.olevel.values, lat = salt_zm.latitude.values))\n",
    "xr.Dataset.to_netcdf(dszm, path = datafolder+'Processed/'+model+'/'+experiment+'/so_zm_100yr.nc')"
   ]
  },
  {
   "cell_type": "markdown",
   "id": "275884ec-d01f-4187-a314-1ec025f26e2a",
   "metadata": {},
   "source": [
    "## 100-yr zonal mean temperature Atlantic"
   ]
  },
  {
   "cell_type": "code",
   "execution_count": 20,
   "id": "3954aff1-9568-4a04-b3a4-280f5136b435",
   "metadata": {},
   "outputs": [
    {
     "name": "stderr",
     "output_type": "stream",
     "text": [
      "/opt/anaconda3/envs/myenv/lib/python3.8/site-packages/xesmf/frontend.py:522: FutureWarning: ``output_sizes`` should be given in the ``dask_gufunc_kwargs`` parameter. It will be removed as direct parameter in a future version.\n",
      "  dr_out = xr.apply_ufunc(\n"
     ]
    }
   ],
   "source": [
    "temp_atl = dsT.thetao\n",
    "\n",
    "#Regrid to 1x1 rectangular grid\n",
    "dsgrid = xr.open_dataset(datafolder+'Raw_data/'+model+'/'+experiment+'/'+experiment+'.SST.mean_month.nc', decode_times=False)\n",
    "regridder = xe.Regridder(dsT, dsgrid, 'bilinear', periodic = True, ignore_degenerate=True)\n",
    "\n",
    "temp = regridder(temp_atl)\n",
    "mask = regularAtlmask(temp)\n",
    "\n",
    "temp_zm = temp.where(mask>-1).mean(dim='longitude')\n",
    "\n",
    "dtzm = xr.Dataset(data_vars = dict(thetao=((\"z\",\"lat\"), temp_zm)), coords = dict(z = temp_zm.olevel.values, lat = temp_zm.latitude.values))\n",
    "xr.Dataset.to_netcdf(dtzm, path = datafolder+'Processed/'+model+'/'+experiment+'/thetao_zm_100yr.nc')"
   ]
  },
  {
   "cell_type": "markdown",
   "id": "f1661b0b-7700-4588-8ad3-639e8716362a",
   "metadata": {},
   "source": [
    "## 100-yr mean wind at 1000 hPa"
   ]
  },
  {
   "cell_type": "code",
   "execution_count": 21,
   "id": "ef016e83-5fa4-4e67-b992-e095962d1c8c",
   "metadata": {},
   "outputs": [],
   "source": [
    "if experiment == 'E280':\n",
    "    dsu = xr.open_dataset(folder+experiment+'/Atm/ua_Amon_IPSL-CM6A-LR_piControl_r1i1p1f1_gr_355001-384912.nc')\n",
    "    dsv = xr.open_dataset(folder+experiment+'/Atm/va_Amon_IPSL-CM6A-LR_piControl_r1i1p1f1_gr_355001-384912.nc')\n",
    "else:\n",
    "    dsu = xr.open_dataset(folder+experiment+'/Atm/ua_Amon_IPSL-CM6A-LR_midPliocene-eoi400_r1i1p1f1_gr_185001-204912.nc')\n",
    "    dsv = xr.open_dataset(folder+experiment+'/Atm/va_Amon_IPSL-CM6A-LR_midPliocene-eoi400_r1i1p1f1_gr_185001-204912.nc')"
   ]
  },
  {
   "cell_type": "code",
   "execution_count": 22,
   "id": "343b7886-53be-49b5-abf9-e74584ba51aa",
   "metadata": {},
   "outputs": [],
   "source": [
    "ua = dsu.ua[-1200:,0].mean(dim='time')\n",
    "va = dsv.va[-1200:,0].mean(dim='time')"
   ]
  },
  {
   "cell_type": "code",
   "execution_count": 23,
   "id": "2dfe680f-5f0c-49ae-83f8-7203ab8fe007",
   "metadata": {},
   "outputs": [
    {
     "name": "stderr",
     "output_type": "stream",
     "text": [
      "/opt/anaconda3/envs/myenv/lib/python3.8/site-packages/xesmf/frontend.py:522: FutureWarning: ``output_sizes`` should be given in the ``dask_gufunc_kwargs`` parameter. It will be removed as direct parameter in a future version.\n",
      "  dr_out = xr.apply_ufunc(\n"
     ]
    }
   ],
   "source": [
    "dsgrid = xr.open_dataset(datafolder+'Raw_data/'+model+'/'+experiment+'/'+experiment+'.SST.mean_month.nc', decode_times=False)\n",
    "regridder = xe.Regridder(dsu, dsgrid, 'bilinear', periodic = True, ignore_degenerate=True)\n",
    "\n",
    "u = regridder(ua)\n",
    "v = regridder(va)\n",
    "\n",
    "dsUV = xr.Dataset(data_vars = dict(ua=((\"lat\",\"lon\"), u), va=((\"lat\",\"lon\"), v)), coords = dict(lat = u.latitude.values, lon = v.longitude.values))\n",
    "xr.Dataset.to_netcdf(dsUV, path = datafolder+'Processed/'+model+'/'+experiment+'/UVa_100yr.nc')"
   ]
  },
  {
   "cell_type": "code",
   "execution_count": null,
   "id": "28a42b55-b582-4ac7-bffe-b769b4a3f33b",
   "metadata": {},
   "outputs": [],
   "source": []
  }
 ],
 "metadata": {
  "kernelspec": {
   "display_name": "Python 3 (ipykernel)",
   "language": "python",
   "name": "python3"
  },
  "language_info": {
   "codemirror_mode": {
    "name": "ipython",
    "version": 3
   },
   "file_extension": ".py",
   "mimetype": "text/x-python",
   "name": "python",
   "nbconvert_exporter": "python",
   "pygments_lexer": "ipython3",
   "version": "3.8.12"
  }
 },
 "nbformat": 4,
 "nbformat_minor": 5
}
