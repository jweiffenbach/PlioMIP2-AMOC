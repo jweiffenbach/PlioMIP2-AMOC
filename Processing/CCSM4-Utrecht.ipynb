{
 "cells": [
  {
   "cell_type": "code",
   "execution_count": 4,
   "id": "511e51e7-717c-404c-9034-2303417d4315",
   "metadata": {},
   "outputs": [],
   "source": [
    "## imports\n",
    "import sys\n",
    "import os\n",
    "import numpy as np\n",
    "import xarray as xr\n",
    "import cmocean\n",
    "import matplotlib\n",
    "import matplotlib.pyplot as plt\n",
    "from matplotlib.patches import Rectangle\n",
    "from matplotlib import gridspec\n",
    "import cartopy\n",
    "import cartopy.crs as ccrs\n",
    "from cartopy.mpl.gridliner import LONGITUDE_FORMATTER, LATITUDE_FORMATTER\n",
    "import eofs\n",
    "from eofs.xarray import Eof\n",
    "import cftime\n",
    "import nc_time_axis\n",
    "\n",
    "import mtspec\n",
    "\n",
    "# from pylab import *\n",
    "\n",
    "import datetime\n",
    "import time\n",
    "import glob, os\n",
    "import math\n",
    "import matplotlib.colors as colors\n",
    "import xesmf as xe\n",
    "from defs import regularAtlmask"
   ]
  },
  {
   "cell_type": "code",
   "execution_count": 5,
   "id": "fcdcd212-482b-4ab4-a519-02673345c863",
   "metadata": {},
   "outputs": [],
   "source": [
    "datafolder = '' #Data folder"
   ]
  },
  {
   "cell_type": "code",
   "execution_count": 6,
   "id": "2ab8ad5e-3b59-4269-849f-ea20053e9756",
   "metadata": {},
   "outputs": [],
   "source": [
    "experiment = 'E280' \n",
    "model = 'CCSM4-Utr'\n",
    "folder = datafolder+'Raw_data/'+model+'/'"
   ]
  },
  {
   "cell_type": "code",
   "execution_count": 7,
   "id": "e21c556d-a7fc-4633-be4d-98d727f78fb7",
   "metadata": {},
   "outputs": [],
   "source": [
    "if experiment == 'E280':\n",
    "    dsT = xr.open_dataset(folder+experiment+'_paleo/b.PI_1pic_f19g16_NESSC_control_restart_2500_palaeo_vdc_overflows_tidal_off.pop.h.climatology.years_4600-4700.nc')\n",
    "    dsV = xr.open_dataset(folder+experiment+'_paleo/b.PI_1pic_f19g16_NESSC_control_restart_2500_palaeo_vdc_overflows_tidal_off.pop.h.climatology.years_4600-4700.nc')\n",
    "    dsS = xr.open_dataset(folder+experiment+'_paleo/b.PI_1pic_f19g16_NESSC_control_restart_2500_palaeo_vdc_overflows_tidal_off.pop.h.climatology.years_4600-4700.nc')\n",
    "    dsice = xr.open_dataset(folder+experiment+'_paleo/b.PI_1pic_f19g16_NESSC_control_restart_2500_palaeo_vdc_overflows_tidal_off.pop.h.climatology.years_4600-4700.nc')\n",
    "    dsr = xr.open_dataset(folder+experiment+'/RegionFile_PI.nc')\n",
    "    dsMSF = xr.open_dataset(folder+experiment+'_paleo/E280_palaeo_MSFyears4600-4700.nc').sel(time=slice(4601,4700))\n",
    "    dstos = xr.open_dataset(folder+experiment+'_paleo/E280_palaeo_SeaSurfaceTempyears4600-4700.nc').sel(time=slice(4601,4700))\n",
    "    dstos['nlat'] = np.arange(384)\n",
    "    dstos['nlon'] = np.arange(320)\n",
    "else:\n",
    "    dsT = xr.open_dataset(folder+experiment+'/b.PLIO_5Ma_Eoi400_f19g16_NESSC_control.pop.h.climatology.years_1900-2000.nc')\n",
    "    dsV = xr.open_dataset(folder+experiment+'/b.PLIO_5Ma_Eoi400_f19g16_NESSC_control.pop.h.climatology.years_1900-2000.nc')\n",
    "    dsS = xr.open_dataset(folder+experiment+'/b.PLIO_5Ma_Eoi400_f19g16_NESSC_control.pop.h.climatology.years_1900-2000.nc')\n",
    "    dsr = xr.open_dataset(folder+experiment+'/RegionFile_Plio.nc')\n",
    "    dsMSF = xr.open_dataset(folder+experiment+'/Eoi400_MSFyears1-2048.nc').sel(time=slice(1901,2000))\n",
    "    dstos = xr.open_dataset(folder+experiment+'/tos_Omon_CESM1.0.5_Eoi400_r1i1p1f1_gn_190001-200012.nc')\n",
    "    dsice = xr.open_dataset(folder+experiment+'/b.PLIO_5Ma_Eoi400_f19g16_NESSC_control.pop.h.climatology.years_1900-2000.nc')"
   ]
  },
  {
   "cell_type": "markdown",
   "id": "d29da0e1-9c0c-43e6-9394-29b397a2b453",
   "metadata": {
    "tags": []
   },
   "source": [
    "## Separating overturning and gyre OHT"
   ]
  },
  {
   "cell_type": "code",
   "execution_count": 14,
   "id": "47034e1d-e683-4f33-8af4-85a8fc33fdb8",
   "metadata": {},
   "outputs": [
    {
     "name": "stderr",
     "output_type": "stream",
     "text": [
      "/opt/anaconda3/envs/myenv/lib/python3.8/site-packages/xesmf/frontend.py:522: FutureWarning: ``output_sizes`` should be given in the ``dask_gufunc_kwargs`` parameter. It will be removed as direct parameter in a future version.\n",
      "  dr_out = xr.apply_ufunc(\n"
     ]
    }
   ],
   "source": [
    "#Drop U-grid for temperature and T-grid for velocity (as well as some other things we don't need)\n",
    "dsT = dsT.drop(['ULAT','ULONG','z_t_150m','z_w','z_w_top','z_w_bot','lat_aux_grid','moc_z', 'transport_components', 'transport_regions'])\n",
    "dsV = dsV.drop(['TLAT','TLONG','z_t_150m','z_w','z_w_top','z_w_bot','lat_aux_grid','moc_z', 'transport_components', 'transport_regions'])\n",
    "\n",
    "temp = dsT.TEMP.mean(dim='record')[0]\n",
    "region=xr.DataArray(dsr.Regions.values,coords = [('nlat',dsT.nlat), ('nlon',dsT.nlon)], name='Region file PI')\n",
    "\n",
    "#Regrid velocity field to the temperature field, using 0 as a fill value for land to avoid NaN ocean grid cells after interpolation\n",
    "regridder = xe.Regridder(dsV, dsT, 'bilinear', periodic = True, ignore_degenerate=True)\n",
    "vo = dsV.VVEL.mean(dim='record')[0].fillna(0)\n",
    "vvel = regridder(vo)"
   ]
  },
  {
   "cell_type": "code",
   "execution_count": 15,
   "id": "51df0d3f-cf3e-4a20-bbcd-e3d4feb1ae0d",
   "metadata": {},
   "outputs": [],
   "source": [
    "cp_sw = 3996.  # [J/kg/K]   heat capacity of water\n",
    "rho_sw = 1.026e-3  # [kg/cm^3]  density of water\n",
    "\n",
    "HEAT = (cp_sw*rho_sw*temp).where(region==4)  #  [J/kg/K * kg/cm^3 * degC] = [J/cm^3]\n",
    "\n",
    "VVEL = vvel.where(region==4) #[cm/s]\n",
    "VVEL = VVEL*HEAT/HEAT #Fills land grid cells with NaN again"
   ]
  },
  {
   "cell_type": "code",
   "execution_count": 16,
   "id": "ef5ffd2a-a084-4aae-9e7b-471050236242",
   "metadata": {},
   "outputs": [],
   "source": [
    "def zonal_means(x, dx):\n",
    "    xint = (x*dx).sum('nlon')  # [x-unit * cm]\n",
    "    zm = xint/dx.sum('nlon')   # [x-unit]\n",
    "    return zm\n",
    "\n",
    "DXT = dsT.DXT.mean(dim='record')\n",
    "dz = dsT.dz.mean(dim='record')\n",
    "\n",
    "#Zonal mean velocity and heat\n",
    "VVEL_zm = zonal_means(VVEL, DXT.where(VVEL<10000))\n",
    "HEAT_zm = zonal_means(HEAT, DXT.where(VVEL<10000))\n",
    "\n",
    "#Make zonal mean fields into 3D fields again\n",
    "HEAT_zm_3D = HEAT/HEAT\n",
    "HEAT_zm_3D = HEAT_zm_3D*HEAT_zm\n",
    "\n",
    "VVEL_zm_3D = VVEL/VVEL\n",
    "VVEL_zm_3D = VVEL_zm_3D*VVEL_zm\n",
    "\n",
    "#Azonal components\n",
    "HEAT_prime = (HEAT - HEAT_zm_3D)  # azonal heat component (x,y,z) []\n",
    "VVEL_prime = (VVEL - VVEL_zm_3D)  # azonal velocity comp. (x,y,z) [cm/s]\n",
    "\n",
    "#Integrate to compute OHTov and OHTaz\n",
    "Hov = (VVEL_zm_3D*HEAT_zm_3D*DXT*dz).sum(dim=['nlon','z_t'])\n",
    "Haz = (VVEL_prime*HEAT_prime*DXT*dz).sum(dim=['nlon','z_t'])  # product of primed velocity and heat [cm/s * J/cm^2 * cm]"
   ]
  },
  {
   "cell_type": "code",
   "execution_count": 17,
   "id": "1d52d535-3def-4f3d-965f-8de89378a1d2",
   "metadata": {},
   "outputs": [],
   "source": [
    "# Auxiliary latitudes for OHT components\n",
    "lats = dsT.TLAT.where(region==4).mean('nlon')"
   ]
  },
  {
   "cell_type": "code",
   "execution_count": 18,
   "id": "b25bd3d5-8955-4058-9387-00772f7738cb",
   "metadata": {},
   "outputs": [
    {
     "data": {
      "text/plain": [
       "<matplotlib.legend.Legend at 0x7fb28f951d90>"
      ]
     },
     "execution_count": 18,
     "metadata": {},
     "output_type": "execute_result"
    },
    {
     "data": {
      "image/png": "[encoded data removed]",
      "text/plain": [
       "<Figure size 576x216 with 1 Axes>"
      ]
     },
     "metadata": {
      "needs_background": "light"
     },
     "output_type": "display_data"
    }
   ],
   "source": [
    "plt.figure(figsize=(8,3))\n",
    "plt.axhline(0,c='k',lw=.5)\n",
    "plt.plot(lats, Hov/1e15, label='overturning component')\n",
    "\n",
    "plt.plot(lats, Haz/1e15, label='azonal component')\n",
    "#plt.plot(lats, (Hov+Haz).squeeze()/1e15, label='overturning+azonal')\n",
    "plt.plot(dsMSF.lat, dsMSF.MHTA.mean(dim='time'),label='Eulerian mean')\n",
    "plt.title('northward heat transport')\n",
    "plt.xlim([-35,70])\n",
    "plt.ylim([-1,2])\n",
    "plt.xlabel(r'latitude  [$^\\circ$N]')\n",
    "plt.legend(fontsize=8)"
   ]
  },
  {
   "cell_type": "code",
   "execution_count": 19,
   "id": "61141d3b-063a-4e03-829c-9da7370063ca",
   "metadata": {},
   "outputs": [],
   "source": [
    "if experiment == 'E280':\n",
    "    dsE = xr.Dataset(data_vars = dict(OHTov=([\"lat\"], Hov[2:-1]/1e15), OHTaz=([\"lat\"], Haz[2:-1]/1e15)), coords = dict(lat = lats[2:-1].values))\n",
    "elif experiment == 'Eoi400':\n",
    "    dsE = xr.Dataset(data_vars = dict(OHTov=([\"lat\"], Hov[:-3]/1e15), OHTaz=([\"lat\"], Haz[:-3]/1e15)), coords = dict(lat = lats[:-3].values))\n",
    "xr.Dataset.to_netcdf(dsE, path = datafolder+'/Processed/'+model+'/'+experiment+'/decomOHT_100yr.nc')"
   ]
  },
  {
   "cell_type": "markdown",
   "id": "aadd6fd9-84f3-49a3-95c3-0e11d588bfe0",
   "metadata": {
    "tags": []
   },
   "source": [
    "## 100-yr mean AMOC"
   ]
  },
  {
   "cell_type": "code",
   "execution_count": 20,
   "id": "095b84dc-d005-4a6b-a4ee-7dfe1a23e568",
   "metadata": {},
   "outputs": [
    {
     "data": {
      "text/plain": [
       "<matplotlib.collections.QuadMesh at 0x7fb1c3654e20>"
      ]
     },
     "execution_count": 20,
     "metadata": {},
     "output_type": "execute_result"
    },
    {
     "data": {
      "image/png": "[encoded data removed]",
      "text/plain": [
       "<Figure size 432x288 with 2 Axes>"
      ]
     },
     "metadata": {
      "needs_background": "light"
     },
     "output_type": "display_data"
    }
   ],
   "source": [
    "#Mask (almost) zero values \n",
    "a = dsMSF.TMTA[:,:,:].where(dsMSF.TMTA[:,:,:]<1e10).where(dsMSF.TMTA[:,:,:]>-1e10).mean(dim='time')\n",
    "b = a.where(a>1e-5).fillna(0)+a.where(a<-1e-5).fillna(0)\n",
    "c = b.where(b!=0)\n",
    "c.plot()"
   ]
  },
  {
   "cell_type": "code",
   "execution_count": 22,
   "id": "bb20efaf-375a-4f5d-8a81-1bf1b9ae19b1",
   "metadata": {},
   "outputs": [],
   "source": [
    "dsM = xr.Dataset(data_vars = dict(AMOC=((\"z\",\"lat\"), c.values)), coords = dict(z = dsMSF.depth.values, lat = dsMSF.lat.values))\n",
    "xr.Dataset.to_netcdf(dsM, path = datafolder+'Processed/'+model+'/'+experiment+'/AMOC_100yr.nc')"
   ]
  },
  {
   "cell_type": "markdown",
   "id": "5dc6da34-a0ee-4441-bb2c-fc9e65cbba8a",
   "metadata": {
    "tags": []
   },
   "source": [
    "## 100-yr mean total Atlantic OHT"
   ]
  },
  {
   "cell_type": "code",
   "execution_count": 23,
   "id": "8cd6bc1a-5314-409b-b72b-5cd82726f66f",
   "metadata": {},
   "outputs": [
    {
     "data": {
      "image/png": "[encoded data removed]",
      "text/plain": [
       "<Figure size 432x288 with 1 Axes>"
      ]
     },
     "metadata": {
      "needs_background": "light"
     },
     "output_type": "display_data"
    }
   ],
   "source": [
    "dsMSF.MHTA.mean(dim='time').plot()\n",
    "dsH = xr.Dataset(data_vars = dict(OHT=((\"lat\"), dsMSF.MHTA.mean(dim='time').values)), coords = dict(lat = dsMSF.lat.values))\n",
    "xr.Dataset.to_netcdf(dsH, path = '/Users/6497241/surfdrive/Documents/PlioMIP2-OHT/Data/Processed/'+model+'/'+experiment+'/OHT_100yr.nc')"
   ]
  },
  {
   "cell_type": "markdown",
   "id": "c09168f9-f9aa-4a2c-b981-af46916d6abd",
   "metadata": {
    "tags": []
   },
   "source": [
    "## Annual AMOC streamfunction (100 years)"
   ]
  },
  {
   "cell_type": "code",
   "execution_count": 24,
   "id": "e366220d-3a06-45d8-8452-a639ef7d315c",
   "metadata": {},
   "outputs": [],
   "source": [
    "#Mask (almost) zero values \n",
    "a = dsMSF.TMTA[:,:,:].where(dsMSF.TMTA[:,:,:]<1e10).where(dsMSF.TMTA[:,:,:]>-1e10)\n",
    "b = a.where(a>1e-5).fillna(0)+a.where(a<-1e-5).fillna(0)\n",
    "c = b.where(b!=0)\n",
    "\n",
    "dsM2 = xr.Dataset(data_vars = dict(AMOC=((\"time\",\"z\",\"lat\"), c.values)), coords = dict(time = dsMSF.time.values, z = dsMSF.depth.values, lat = dsMSF.lat.values))\n",
    "xr.Dataset.to_netcdf(dsM2, path = '/Users/6497241/surfdrive/Documents/PlioMIP2-OHT/Data/Processed/'+model+'/'+experiment+'/AMOC_annual_100yr.nc')"
   ]
  },
  {
   "cell_type": "markdown",
   "id": "7abf6aa1-a746-4ebc-8b3d-84951cb1502a",
   "metadata": {
    "tags": []
   },
   "source": [
    "## Annual SST timeseries (100 years)"
   ]
  },
  {
   "cell_type": "code",
   "execution_count": 26,
   "id": "cc7f2e49-9f02-4a00-8bc8-6357bccdb8d5",
   "metadata": {},
   "outputs": [],
   "source": [
    "#Regridder to regular 1x1 grid\n",
    "dsgrid = xr.open_dataset(folder+experiment+'/'+experiment+'.SST.mean_month.nc', decode_times=False)\n",
    "regridder = xe.Regridder(dstos, dsgrid, 'bilinear', periodic = True, ignore_degenerate=True)\n",
    "\n",
    "if experiment == 'E280':\n",
    "    tosann = regridder(dstos.tos.where(dstos.tos<100))\n",
    "    dsSST = xr.Dataset(data_vars = dict(sst=((\"time\",\"lat\",\"lon\"), tosann)), coords = dict(time = tosann.time.values, lat = tosann.latitude.values, lon = tosann.longitude.values))\n",
    "else:\n",
    "    tos = regridder(dstos.tos[12:,0])\n",
    "    tosann = np.zeros([100,180,360])\n",
    "    for i in range(0,100):\n",
    "        tosann[i] = tos[0+i*12:12+i*12].mean(dim='time') #Compute annual SST from monthly SST\n",
    "\n",
    "    year1 = 1901\n",
    "    year2 = 2000\n",
    "    \n",
    "    dsSST = xr.Dataset(data_vars = dict(sst=((\"time\",\"lat\",\"lon\"), tosann)), coords = dict(time = np.arange(year1, year2+1), lat = tos.latitude.values, lon = tos.longitude.values))\n",
    "\n",
    "xr.Dataset.to_netcdf(dsSST, path = datafolder+'Processed/'+model+'/'+experiment+'/SST_annual_100yr.nc')"
   ]
  },
  {
   "cell_type": "markdown",
   "id": "1ffcb45f-01d2-4a13-9f07-ce4ab798e2f2",
   "metadata": {},
   "source": [
    "## 100-yr mean SSS field (regridded)"
   ]
  },
  {
   "cell_type": "code",
   "execution_count": null,
   "id": "1726b4f9-be35-460c-92d3-bed7df9e75c4",
   "metadata": {},
   "outputs": [],
   "source": [
    "dsS = dsS.drop(['ULAT','ULONG','z_t_150m','z_w','z_w_top','z_w_bot','lat_aux_grid','moc_z', 'transport_components', 'transport_regions'])\n",
    "\n",
    "dsgrid = xr.open_dataset(folder+experiment+'/'+experiment+'.SST.mean_month.nc', decode_times=False)\n",
    "regridder = xe.Regridder(dsS, dsgrid, 'bilinear', periodic = True, ignore_degenerate=True)\n",
    "\n",
    "sss = regridder(dsS.SALT.mean(dim='record')[0,0])\n",
    "\n",
    "dsSSS = xr.Dataset(data_vars = dict(sss=((\"lat\",\"lon\"), sss)), coords = dict(lat = sss.latitude.values, lon = sss.longitude.values))\n",
    "xr.Dataset.to_netcdf(dsSSS, path = datafolder+'Processed/'+model+'/'+experiment+'/SSS_100yr.nc')"
   ]
  },
  {
   "cell_type": "markdown",
   "id": "499ca8bb-105d-4316-b671-a9dad2f945e1",
   "metadata": {},
   "source": [
    "## 100-yr mean SI field (regridded)"
   ]
  },
  {
   "cell_type": "code",
   "execution_count": null,
   "id": "647bd5dd-a452-4c3a-9e72-b12bab104add",
   "metadata": {},
   "outputs": [],
   "source": [
    "dsice = dsice.drop(['ULAT','ULONG','z_t_150m','z_w','z_w_top','z_w_bot','lat_aux_grid','moc_z', 'transport_components', 'transport_regions'])\n",
    "\n",
    "djf = (dsice.IFRAC[11,0]+dsice.IFRAC[0,0]+dsice.IFRAC[1,0])/3\n",
    "mam = (dsice.IFRAC[2,0]+dsice.IFRAC[3,0]+dsice.IFRAC[4,0])/3\n",
    "jja = (dsice.IFRAC[5,0]+dsice.IFRAC[6,0]+dsice.IFRAC[7,0])/3\n",
    "son = (dsice.IFRAC[8,0]+dsice.IFRAC[9,0]+dsice.IFRAC[10,0])/3\n",
    "\n",
    "dsgrid = xr.open_dataset(folder+experiment+'/'+experiment+'.SST.mean_month.nc', decode_times=False)\n",
    "regridder = xe.Regridder(dsice, dsgrid, 'bilinear', periodic = True, ignore_degenerate=True)\n",
    "\n",
    "si_djf = regridder(djf)*100 #Convert to percentage\n",
    "si_mam = regridder(mam)*100\n",
    "si_jja = regridder(jja)*100\n",
    "si_son = regridder(son)*100\n",
    "si = (si_djf+si_mam+si_jja+si_son)/4\n",
    "\n",
    "dsSI = xr.Dataset(data_vars = dict(si_djf=((\"lat\",\"lon\"), si_djf), si_mam = ((\"lat\",\"lon\"), si_mam), si_jja = ((\"lat\",\"lon\"), si_jja), si_son = ((\"lat\",\"lon\"), si_son), si_mean = ((\"lat\",\"lon\"), si)), coords = dict(lat = si_djf.latitude.values, lon = si_djf.longitude.values))\n",
    "xr.Dataset.to_netcdf(dsSI, path = datafolder+'Processed/'+model+'/'+experiment+'/SI_100yr.nc')"
   ]
  },
  {
   "cell_type": "markdown",
   "id": "e29b581d-2861-4a2e-8c3f-115f7d0f4b44",
   "metadata": {
    "tags": []
   },
   "source": [
    "## 100-yr mean top 100 m salinity (regridded)"
   ]
  },
  {
   "cell_type": "code",
   "execution_count": null,
   "id": "678af446-47ff-407c-8556-0fd34b98248a",
   "metadata": {},
   "outputs": [],
   "source": [
    "regridder = xe.Regridder(dsS, dsgrid, 'bilinear', periodic = True, ignore_degenerate=True)\n",
    "weights = dsS.dz[0:10].mean(dim='record') #Weighting in depth\n",
    "s100m = regridder(dsS.SALT.mean(dim='record')[0,0:10].weighted(weights).mean(dim='z_t'))\n",
    "\n",
    "dsS100m = xr.Dataset(data_vars = dict(s100m=((\"lat\",\"lon\"), s100m)), coords = dict(lat = s100m.latitude.values, lon = s100m.longitude.values))\n",
    "xr.Dataset.to_netcdf(dsS100m, path = datafolder+'Processed/'+model+'/'+experiment+'/so100m_100yr.nc')"
   ]
  },
  {
   "cell_type": "markdown",
   "id": "aa1ded88-fa28-4231-9729-e37ceff266d2",
   "metadata": {},
   "source": [
    "## 100-yr zonal mean salinity"
   ]
  },
  {
   "cell_type": "code",
   "execution_count": 33,
   "id": "4bb1989f-63f3-48b5-bfae-7ea1453f5545",
   "metadata": {
    "tags": []
   },
   "outputs": [
    {
     "name": "stderr",
     "output_type": "stream",
     "text": [
      "/opt/anaconda3/envs/myenv/lib/python3.8/site-packages/xesmf/frontend.py:522: FutureWarning: ``output_sizes`` should be given in the ``dask_gufunc_kwargs`` parameter. It will be removed as direct parameter in a future version.\n",
      "  dr_out = xr.apply_ufunc(\n"
     ]
    }
   ],
   "source": [
    "#Salinity field\n",
    "salt_atl = dsS.SALT.mean(dim='record')[0]\n",
    "\n",
    "#Regrid to 1x1 rectangular grid\n",
    "dsgrid = xr.open_dataset(folder+experiment+'/'+experiment+'.SST.mean_month.nc', decode_times=False)\n",
    "regridder = xe.Regridder(dsS, dsgrid, 'bilinear', periodic = True, ignore_degenerate=True)\n",
    "\n",
    "salt = regridder(salt_atl)\n",
    "mask = regularAtlmask(salt)\n",
    "\n",
    "#Compute Atlantic zonal mean salinity\n",
    "salt_zm = salt.where(mask>-1).mean(dim='longitude')\n",
    "\n",
    "dszm = xr.Dataset(data_vars = dict(so=((\"z\",\"lat\"), salt_zm)), coords = dict(z = salt_zm.z_t.values/100, lat = salt_zm.latitude.values))\n",
    "xr.Dataset.to_netcdf(dszm, path = datafolder+'/Processed/'+model+'/'+experiment+'/so_zm_100yr.nc')"
   ]
  },
  {
   "cell_type": "markdown",
   "id": "d9f8c174-d734-40f1-8aff-ed60f33d281c",
   "metadata": {},
   "source": [
    "## 100-yr zonal mean temperature"
   ]
  },
  {
   "cell_type": "code",
   "execution_count": 34,
   "id": "51065219-d149-42ba-942c-02a25ccebc4a",
   "metadata": {},
   "outputs": [
    {
     "name": "stderr",
     "output_type": "stream",
     "text": [
      "/opt/anaconda3/envs/myenv/lib/python3.8/site-packages/xesmf/frontend.py:522: FutureWarning: ``output_sizes`` should be given in the ``dask_gufunc_kwargs`` parameter. It will be removed as direct parameter in a future version.\n",
      "  dr_out = xr.apply_ufunc(\n"
     ]
    }
   ],
   "source": [
    "#Temperature field\n",
    "temp_atl = dsT.TEMP.mean(dim='record')[0]\n",
    "\n",
    "#Regrid to 1x1 rectangular grid\n",
    "dsgrid = xr.open_dataset(folder+experiment+'/'+experiment+'.SST.mean_month.nc', decode_times=False)\n",
    "regridder = xe.Regridder(dsT, dsgrid, 'bilinear', periodic = True, ignore_degenerate=True)\n",
    "\n",
    "temp = regridder(temp_atl)\n",
    "mask = regularAtlmask(temp)\n",
    "\n",
    "#Compute Atlantic zonal mean temperature\n",
    "temp_zm = temp.where(mask>-1).mean(dim='longitude')\n",
    "\n",
    "dtzm = xr.Dataset(data_vars = dict(thetao=((\"z\",\"lat\"), temp_zm)), coords = dict(z = temp_zm.z_t.values/100, lat = temp_zm.latitude.values))\n",
    "xr.Dataset.to_netcdf(dtzm, path = '/Users/6497241/surfdrive/Documents/PlioMIP2-OHT/Data/Processed/'+model+'/'+experiment+'/thetao_zm_100yr.nc')"
   ]
  },
  {
   "cell_type": "markdown",
   "id": "bbaeb90d-88fd-401f-810b-ad8d209fdd4c",
   "metadata": {},
   "source": [
    "## 100-yr mean wind at 1000 hPa"
   ]
  },
  {
   "cell_type": "code",
   "execution_count": 35,
   "id": "13c1ae01-4ac7-4ec6-bcc0-f214fde59dde",
   "metadata": {},
   "outputs": [],
   "source": [
    "if experiment == 'Eoi400':\n",
    "    dsu = xr.open_dataset(folder+'/'+experiment+'/Atm/b.PLIO_5Ma_Eoi400_f19g16_NESSC_control.cam2.h0.climatology.years_1900-2000.nc')\n",
    "else:\n",
    "    dsu = xr.open_dataset(folder+'/'+experiment+'_paleo/Atm/b.PI_1pic_f19g16_NESSC_control_restart_2500_palaeo_vdc_overflows_tidal_off.cam2.h0.climatology.years_4600-4700.nc')\n",
    "    \n",
    "dsu = dsu.drop(['slon','slat'])\n",
    "\n",
    "#U and V field at 1000 hPa, averaged over 100 years\n",
    "ua = dsu.U.mean(dim='record')[0,-1]\n",
    "va = dsu.V.mean(dim='record')[0,-1]"
   ]
  },
  {
   "cell_type": "code",
   "execution_count": 36,
   "id": "1db23750-43af-4492-bdb8-bb7a9f7591bf",
   "metadata": {},
   "outputs": [
    {
     "name": "stderr",
     "output_type": "stream",
     "text": [
      "/opt/anaconda3/envs/myenv/lib/python3.8/site-packages/xesmf/frontend.py:522: FutureWarning: ``output_sizes`` should be given in the ``dask_gufunc_kwargs`` parameter. It will be removed as direct parameter in a future version.\n",
      "  dr_out = xr.apply_ufunc(\n"
     ]
    }
   ],
   "source": [
    "#Regridding to regular 1x1 grid\n",
    "dsgrid = xr.open_dataset(folder+experiment+'/'+experiment+'.SST.mean_month.nc', decode_times=False)\n",
    "regridder = xe.Regridder(dsu, dsgrid, 'bilinear', periodic = True, ignore_degenerate=True)\n",
    "\n",
    "u = regridder(ua)\n",
    "v = regridder(va)\n",
    "\n",
    "dsUV = xr.Dataset(data_vars = dict(ua=((\"lat\",\"lon\"), u), va=((\"lat\",\"lon\"), v)), coords = dict(lat = u.latitude.values, lon = v.longitude.values))\n",
    "xr.Dataset.to_netcdf(dsUV, path = '/Users/6497241/surfdrive/Documents/PlioMIP2-OHT/Data/Processed/'+model+'/'+experiment+'/UVa_100yr.nc')"
   ]
  },
  {
   "cell_type": "code",
   "execution_count": null,
   "id": "24f0335a-2c95-4990-a362-4aed757baba0",
   "metadata": {},
   "outputs": [],
   "source": []
  }
 ],
 "metadata": {
  "kernelspec": {
   "display_name": "Python 3 (ipykernel)",
   "language": "python",
   "name": "python3"
  },
  "language_info": {
   "codemirror_mode": {
    "name": "ipython",
    "version": 3
   },
   "file_extension": ".py",
   "mimetype": "text/x-python",
   "name": "python",
   "nbconvert_exporter": "python",
   "pygments_lexer": "ipython3",
   "version": "3.8.12"
  }
 },
 "nbformat": 4,
 "nbformat_minor": 5
}
