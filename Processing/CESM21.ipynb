{
 "cells": [
  {
   "cell_type": "code",
   "execution_count": 1,
   "id": "511e51e7-717c-404c-9034-2303417d4315",
   "metadata": {},
   "outputs": [],
   "source": [
    "## imports\n",
    "import sys\n",
    "import os\n",
    "import numpy as np\n",
    "import xarray as xr\n",
    "import cmocean\n",
    "import matplotlib\n",
    "import matplotlib.pyplot as plt\n",
    "from matplotlib.patches import Rectangle\n",
    "from matplotlib import gridspec\n",
    "import cartopy\n",
    "import cartopy.crs as ccrs\n",
    "from cartopy.mpl.gridliner import LONGITUDE_FORMATTER, LATITUDE_FORMATTER\n",
    "import eofs\n",
    "from eofs.xarray import Eof\n",
    "import cftime\n",
    "import nc_time_axis\n",
    "\n",
    "import mtspec\n",
    "\n",
    "# from pylab import *\n",
    "\n",
    "import datetime\n",
    "import time\n",
    "import glob, os\n",
    "import math\n",
    "import matplotlib.colors as colors\n",
    "import xesmf as xe\n",
    "from defs import regularAtlmask\n"
   ]
  },
  {
   "cell_type": "code",
   "execution_count": null,
   "id": "191354fa-6c04-4063-8768-4d7a354e6c7d",
   "metadata": {},
   "outputs": [],
   "source": [
    "datafolder = '' #Data folder"
   ]
  },
  {
   "cell_type": "code",
   "execution_count": 3,
   "id": "2ab8ad5e-3b59-4269-849f-ea20053e9756",
   "metadata": {},
   "outputs": [],
   "source": [
    "experiment = 'Eoi400' \n",
    "model = 'CESM2'\n",
    "\n",
    "if experiment == 'E280':\n",
    "    preamble = 'b.e21.B1850.f09_g16.preind.pop.h.'\n",
    "    preamble2 = '.1100-1200.annavg.nc'\n",
    "else:\n",
    "    preamble = 'b.e21.B1850.f09_g16.PMIP4-pliomip2.pop.h.'\n",
    "    preamble2 = '.1100-1199.annavg.nc'\n",
    "\n",
    "a = 'b.e21.B1850.f09_g16.PMIP4-pliomip2.pop.h.N_HEAT.1100-1199.annavg.nc'\n",
    "folder = datafolder+'Raw_data/'\n",
    "\n",
    "def filename(variable_string):\n",
    "    filename = folder+model+'/'+experiment+'/'+preamble+variable_string+preamble2\n",
    "    \n",
    "    return filename"
   ]
  },
  {
   "cell_type": "code",
   "execution_count": 4,
   "id": "e3bbb7f2-ba2c-47ba-9b20-873cec357520",
   "metadata": {},
   "outputs": [],
   "source": [
    "dsV = xr.open_dataset(filename('VVEL'))\n",
    "dsT = xr.open_dataset(filename('TEMP'))\n",
    "dsMOC = xr.open_dataset(filename('MOC'))\n",
    "dsOHT = xr.open_dataset(filename('N_HEAT'))\n",
    "if experiment == 'Eoi400':\n",
    "    dsVNT = xr.open_dataset(filename('VNT'))\n",
    "    dsice = xr.open_dataset('/Users/6497241/surfdrive/Documents/PlioMIP2-OHT/Data/Raw_data/CESM2/Eoi400/b.e21.B1850.f09_g17.PMIP4-midPliocene-eoi400.001.cam.h0.ICEFRAC.1101.1200.nc')\n",
    "else:\n",
    "    dsVNT = xr.open_dataset('/Users/6497241/surfdrive/Documents/PlioMIP2-OHT/Data/Raw_data/CESM2/E280/b.e21.B1850.f09_g16.preind.pop.h.VNT.1100-1199.annavg.nc')\n",
    "    dsice = xr.open_dataset('/Users/6497241/surfdrive/Documents/PlioMIP2-OHT/Data/Raw_data/CESM2/E280/b.e21.B1850.f09_g17.CMIP6-piControl.001.cam.h0.ICEFRAC.110001-120012.nc')\n",
    "ds = dsVNT.copy(deep=True) #dataset that contains region mask\n",
    "\n",
    "dsOHT = xr.open_dataset(filename('N_HEAT'))"
   ]
  },
  {
   "cell_type": "markdown",
   "id": "36771ef4-32b7-402a-9189-234a622ad0b9",
   "metadata": {
    "tags": []
   },
   "source": [
    "## Separation MOC and gyre OHT component 100-yr average"
   ]
  },
  {
   "cell_type": "code",
   "execution_count": 5,
   "id": "2284fac3-8832-4dc5-a730-029573c6a36b",
   "metadata": {},
   "outputs": [
    {
     "name": "stderr",
     "output_type": "stream",
     "text": [
      "/opt/anaconda3/envs/myenv/lib/python3.8/site-packages/xesmf/frontend.py:522: FutureWarning: ``output_sizes`` should be given in the ``dask_gufunc_kwargs`` parameter. It will be removed as direct parameter in a future version.\n",
      "  dr_out = xr.apply_ufunc(\n"
     ]
    }
   ],
   "source": [
    "#Drop U-grid for temperature and T-grid for velocity (as well as some other things we don't need)\n",
    "dsT = dsT.drop(['ULAT','ULONG','z_t_150m','z_w','z_w_top','z_w_bot','lat_aux_grid','moc_z'])\n",
    "dsV = dsV.drop(['TLAT','TLONG','z_t_150m','z_w','z_w_top','z_w_bot','lat_aux_grid','moc_z'])\n",
    "ds = ds.drop(['ULAT','ULONG','z_t_150m','z_w','z_w_top','z_w_bot','lat_aux_grid','moc_z'])\n",
    "\n",
    "temp = dsT.TEMP[0]\n",
    "region = ds.REGION_MASK\n",
    "\n",
    "#Regrid velocity field to the temperature field, using 0 as a fill value for land to avoid NaN ocean grid cells after interpolation\n",
    "regridder = xe.Regridder(dsV, dsT, 'bilinear', periodic = True, ignore_degenerate=True)\n",
    "vo = dsV.VVEL[0].fillna(0)\n",
    "vvel = regridder(vo)"
   ]
  },
  {
   "cell_type": "code",
   "execution_count": 6,
   "id": "f0f2474f-c6b3-45e6-a410-42c260e71b52",
   "metadata": {},
   "outputs": [],
   "source": [
    "cp_sw = 3996.  # [J/kg/K]   heat capacity of water\n",
    "rho_sw = 1.026e-3  # [kg/cm^3]  density of water\n",
    "\n",
    "HEAT = (cp_sw*rho_sw*temp).where(ds.REGION_MASK>5).where(ds.REGION_MASK<10)  #  [J/kg/K * kg/cm^3 * degC] = [J/cm^3]\n",
    "\n",
    "VVEL = vvel.where(ds.REGION_MASK>5).where(ds.REGION_MASK<10) #cm/s\n",
    "VVEL = VVEL*HEAT/HEAT #Fills land grid cells with NaN again"
   ]
  },
  {
   "cell_type": "code",
   "execution_count": 7,
   "id": "1e67bf9e-9ee2-4c2d-995e-fa99b200959a",
   "metadata": {},
   "outputs": [],
   "source": [
    "def zonal_means(x, dx):\n",
    "    xint = (x*dx).sum('nlon')  # [x-unit * cm]\n",
    "    zm = xint/dx.sum('nlon')   # [x-unit]\n",
    "    return zm\n",
    "\n",
    "#Zonal mean velocity and heat\n",
    "VVEL_zm = zonal_means(VVEL, ds.DXT.where(VVEL<10000))\n",
    "HEAT_zm = zonal_means(HEAT, ds.DXT.where(VVEL<10000))\n",
    "\n",
    "#Make zonal mean fields into 3D fields again\n",
    "HEAT_zm_3D = HEAT/HEAT\n",
    "HEAT_zm_3D = HEAT_zm_3D*HEAT_zm\n",
    "\n",
    "VVEL_zm_3D = VVEL/VVEL\n",
    "VVEL_zm_3D = VVEL_zm_3D*VVEL_zm\n",
    "\n",
    "# azonal components\n",
    "HEAT_prime = (HEAT - HEAT_zm_3D)  # azonal heat component (x,y,z) []\n",
    "VVEL_prime = (VVEL - VVEL_zm_3D)  # azonal velocity comp. (x,y,z) [cm/s]\n",
    "\n",
    "#Integrate to compute OHTov and OHTaz\n",
    "Hov = (VVEL_zm_3D*HEAT_zm_3D*ds.DXT*ds.dz).sum(dim=['nlon','z_t'])\n",
    "Haz = (VVEL_prime*HEAT_prime*ds.DXT*ds.dz).sum(dim=['nlon','z_t'])  # product of primed velocity and heat [cm/s * J/cm^2 * cm]"
   ]
  },
  {
   "cell_type": "code",
   "execution_count": 8,
   "id": "893d3ca5-418c-4c0b-99d0-aa8077703823",
   "metadata": {},
   "outputs": [],
   "source": [
    "# Auxiliary latitudes for OHT components\n",
    "lats = ds.TLAT.where(ds.REGION_MASK>5).where(ds.REGION_MASK<10).mean('nlon')"
   ]
  },
  {
   "cell_type": "code",
   "execution_count": 9,
   "id": "d1b02dea-f163-4128-9e73-4d31e7d53959",
   "metadata": {},
   "outputs": [
    {
     "data": {
      "text/plain": [
       "(-0.3, 1.25)"
      ]
     },
     "execution_count": 9,
     "metadata": {},
     "output_type": "execute_result"
    },
    {
     "data": {
      "image/png": "[encoded data removed]",
      "text/plain": [
       "<Figure size 576x216 with 1 Axes>"
      ]
     },
     "metadata": {
      "needs_background": "light"
     },
     "output_type": "display_data"
    }
   ],
   "source": [
    "plt.figure(figsize=(8,3))\n",
    "plt.axhline(0,c='k',lw=.5)\n",
    "plt.plot(lats, Hov.squeeze()/1e15, label='overturning component')\n",
    "\n",
    "plt.plot(lats, Haz.squeeze()/1e15, label='azonal component')\n",
    "plt.plot(lats, (Hov+Haz).squeeze()/1e15, label='overturning+azonal')\n",
    "#plt.plot(lats, (rho_sw*cp_sw*dsVNT.VNT*ds.DXT*ds.dz*ds.DYT).where(ds.REGION_MASK>5).where(ds.REGION_MASK<10).sum(['nlon','z_t']).squeeze()/1e15, label='VNT')\n",
    "dsOHT.N_HEAT.isel(transport_reg=1).isel(transport_comp=1).plot(label='Eulerian mean')\n",
    "plt.title('northward heat transport')\n",
    "plt.xlabel(r'latitude  [$^\\circ$N]')\n",
    "plt.legend(fontsize=8)\n",
    "plt.ylim([-0.3, 1.25])"
   ]
  },
  {
   "cell_type": "code",
   "execution_count": 10,
   "id": "ba68eac3-dd2f-44c3-90fd-bb68c6057ef6",
   "metadata": {},
   "outputs": [],
   "source": [
    "if experiment == 'E280':\n",
    "    dsE = xr.Dataset(data_vars = dict(OHTov=([\"lat\"], Hov[85:-1]/1e15), OHTaz=([\"lat\"], Haz[85:-1]/1e15)), coords = dict(lat = lats[85:-1].values))\n",
    "elif experiment == 'Eoi400':\n",
    "    dsE = xr.Dataset(data_vars = dict(OHTov=([\"lat\"], Hov[95:-1]/1e15), OHTaz=([\"lat\"], Haz[95:-1]/1e15)), coords = dict(lat = lats[95:-1].values))\n",
    "xr.Dataset.to_netcdf(dsE, path = datafolder+'Processed/'+model+'/'+experiment+'/decomOHT_100yr.nc')"
   ]
  },
  {
   "cell_type": "markdown",
   "id": "d018d748-1057-451a-b5cf-78d01e2af8a9",
   "metadata": {
    "tags": []
   },
   "source": [
    "## 100-yr average AMOC"
   ]
  },
  {
   "cell_type": "code",
   "execution_count": 11,
   "id": "1e0a0f41-90da-4de6-95f5-61a99fa52aae",
   "metadata": {},
   "outputs": [
    {
     "data": {
      "text/plain": [
       "<matplotlib.collections.QuadMesh at 0x7fcf7119e040>"
      ]
     },
     "execution_count": 11,
     "metadata": {},
     "output_type": "execute_result"
    },
    {
     "data": {
      "image/png": "[encoded data removed]",
      "text/plain": [
       "<Figure size 432x288 with 2 Axes>"
      ]
     },
     "metadata": {
      "needs_background": "light"
     },
     "output_type": "display_data"
    }
   ],
   "source": [
    "#Mask (almost) zero values \n",
    "a = dsMOC.MOC[0,1,0,:,:]\n",
    "b = a.where(a>1e-5).fillna(0)+a.where(a<-1e-5).fillna(0)\n",
    "c = b.where(b!=0)\n",
    "c.plot()"
   ]
  },
  {
   "cell_type": "code",
   "execution_count": 12,
   "id": "f5fa068f-55d9-445c-88e4-3de42890a811",
   "metadata": {
    "tags": []
   },
   "outputs": [],
   "source": [
    "dsM = xr.Dataset(data_vars = dict(AMOC=((\"z\",\"lat\"), c.values)), coords = dict(z = (dsMOC.moc_z/100).values, lat = dsMOC.lat_aux_grid.values))\n",
    "xr.Dataset.to_netcdf(dsM, path = datafolder+'Processed/'+model+'/'+experiment+'/AMOC_100yr.nc')"
   ]
  },
  {
   "cell_type": "markdown",
   "id": "4faac39a-c9b8-40e4-a1ab-b00ceface60a",
   "metadata": {
    "tags": []
   },
   "source": [
    "## Annual AMOC streamfunction (100 years)"
   ]
  },
  {
   "cell_type": "code",
   "execution_count": 13,
   "id": "915033d0-9027-4d35-85e7-8b0de566ed25",
   "metadata": {},
   "outputs": [],
   "source": [
    "#Annual MSF files\n",
    "if experiment == 'E280':\n",
    "    ds = xr.open_dataset(folder+'/'+model+'/'+experiment+'/b.e21.B1850.f09_g16.preind.pop.h.MOC.1100-1199.ann.nc')\n",
    "else:\n",
    "    ds = xr.open_dataset(folder+'/'+model+'/'+experiment+'/b.e21.B1850.f09_g16.PMIP4-pliomip2.pop.h.MOC.1101-1200.ann.nc')"
   ]
  },
  {
   "cell_type": "code",
   "execution_count": 14,
   "id": "a08b4deb-6016-4e94-bbf0-f20dd3d9ff07",
   "metadata": {},
   "outputs": [],
   "source": [
    "#Mask (almost) zero values \n",
    "a = ds.MOC[:,1,0,:,:]\n",
    "b = a.where(a>1e-5).fillna(0)+a.where(a<-1e-5).fillna(0)\n",
    "c = b.where(b!=0)\n",
    "\n",
    "if experiment == 'Eoi400':\n",
    "    dsM2 = xr.Dataset(data_vars = dict(AMOC=((\"time\",\"z\",\"lat\"), c.values)), coords = dict(time = np.arange(1101, 1201),z = (ds.moc_z/100).values, lat = ds.lat_aux_grid.values))\n",
    "elif experiment == 'E280':\n",
    "    dsM2 = xr.Dataset(data_vars = dict(AMOC=((\"time\",\"z\",\"lat\"), c.values)), coords = dict(time = np.arange(1100, 1200),z = (ds.moc_z/100).values, lat = ds.lat_aux_grid.values))\n",
    "    \n",
    "xr.Dataset.to_netcdf(dsM2, path = datafolder+'/Processed/'+model+'/'+experiment+'/AMOC_annual_100yr.nc')"
   ]
  },
  {
   "cell_type": "markdown",
   "id": "ca925099-018a-4343-93da-354d61ca77e8",
   "metadata": {
    "tags": []
   },
   "source": [
    "## 100-yr mean total Atlantic OHT"
   ]
  },
  {
   "cell_type": "code",
   "execution_count": 15,
   "id": "bb20efaf-375a-4f5d-8a81-1bf1b9ae19b1",
   "metadata": {},
   "outputs": [
    {
     "data": {
      "image/png": "[encoded data removed]",
      "text/plain": [
       "<Figure size 432x288 with 1 Axes>"
      ]
     },
     "metadata": {
      "needs_background": "light"
     },
     "output_type": "display_data"
    }
   ],
   "source": [
    "dsOHT.N_HEAT[0,1,1,:].plot()\n",
    "dsH = xr.Dataset(data_vars = dict(OHT=((\"lat\"), dsOHT.N_HEAT[0,1,1,:].values)), coords = dict(lat = dsOHT.lat_aux_grid.values))\n",
    "xr.Dataset.to_netcdf(dsH, path = datafolder+'Processed/'+model+'/'+experiment+'/OHT_100yr.nc')"
   ]
  },
  {
   "cell_type": "markdown",
   "id": "2cc702b6-d857-4ab2-bd83-14fe9bd1b682",
   "metadata": {},
   "source": [
    "## Annual SST timeseries (100 years)"
   ]
  },
  {
   "cell_type": "code",
   "execution_count": 16,
   "id": "900c3ffe-a153-4e0e-bc5d-f33d0e93bccb",
   "metadata": {},
   "outputs": [
    {
     "name": "stderr",
     "output_type": "stream",
     "text": [
      "/opt/anaconda3/envs/myenv/lib/python3.8/site-packages/xesmf/frontend.py:522: FutureWarning: ``output_sizes`` should be given in the ``dask_gufunc_kwargs`` parameter. It will be removed as direct parameter in a future version.\n",
      "  dr_out = xr.apply_ufunc(\n"
     ]
    }
   ],
   "source": [
    "dstos = xr.open_dataset(folder+'/'+model+'/'+experiment+'/thetao_annual_100yr.nc')\n",
    "\n",
    "if experiment == 'E280':\n",
    "    dstos = dstos.drop(['ULAT','ULONG', 'lat_aux_grid'])\n",
    "else:\n",
    "    dstos = dstos.drop(['ULAT','ULONG'])\n",
    "\n",
    "dsgrid = xr.open_dataset(folder+'/'+model+'/'+experiment+'/'+experiment+'.SST.mean_month.nc', decode_times=False)\n",
    "regridder = xe.Regridder(dstos, dsgrid, 'bilinear', periodic = True, ignore_degenerate=True)\n",
    "tos = regridder(dstos.TEMP[:,0,:,:])\n",
    "\n",
    "dsSST = xr.Dataset(data_vars = dict(sst=((\"time\",\"lat\",\"lon\"), tos.values)), coords = dict(time = tos.year.values, lat = tos.latitude.values, lon = tos.longitude.values))\n",
    "xr.Dataset.to_netcdf(dsSST, path = datafolder+'Processed/'+model+'/'+experiment+'/SST_annual_100yr.nc')"
   ]
  },
  {
   "cell_type": "markdown",
   "id": "3425746f-b2b7-4609-a572-abcb46a69a08",
   "metadata": {
    "tags": []
   },
   "source": [
    "## 100-yr mean SSS field (regridded)"
   ]
  },
  {
   "cell_type": "code",
   "execution_count": 17,
   "id": "350091f2-6bcd-4188-8b51-f98699f88fab",
   "metadata": {},
   "outputs": [],
   "source": [
    "dsS = xr.open_dataset(filename('SALT'))\n",
    "#if experiment == 'Eoi400':\n",
    "dsS = dsS.drop(['ULAT','ULONG','lat_aux_grid'])\n",
    "\n",
    "dsgrid = xr.open_dataset(folder+'/'+model+'/'+experiment+'/'+experiment+'.SST.mean_month.nc')\n",
    "regridder = xe.Regridder(dsS, dsgrid, 'bilinear', periodic = True, ignore_degenerate=True)\n",
    "\n",
    "sss = regridder(dsS.SALT[0,0])\n",
    "\n",
    "dsSSS = xr.Dataset(data_vars = dict(sss=((\"lat\",\"lon\"), sss)), coords = dict(lat = sss.latitude.values, lon = sss.longitude.values))\n",
    "xr.Dataset.to_netcdf(dsSSS, path = datafolder+'Processed/'+model+'/'+experiment+'/SSS_100yr.nc')"
   ]
  },
  {
   "cell_type": "markdown",
   "id": "528af723-2859-449e-9f2c-1f4d81833531",
   "metadata": {
    "tags": []
   },
   "source": [
    "## 100-yr mean SI field (regridded)"
   ]
  },
  {
   "cell_type": "code",
   "execution_count": 18,
   "id": "7b504bf2-447a-4f1a-ad28-71c88ecfd1d2",
   "metadata": {},
   "outputs": [
    {
     "name": "stderr",
     "output_type": "stream",
     "text": [
      "/opt/anaconda3/envs/myenv/lib/python3.8/site-packages/xesmf/frontend.py:522: FutureWarning: ``output_sizes`` should be given in the ``dask_gufunc_kwargs`` parameter. It will be removed as direct parameter in a future version.\n",
      "  dr_out = xr.apply_ufunc(\n",
      "/opt/anaconda3/envs/myenv/lib/python3.8/site-packages/xesmf/frontend.py:522: FutureWarning: ``output_sizes`` should be given in the ``dask_gufunc_kwargs`` parameter. It will be removed as direct parameter in a future version.\n",
      "  dr_out = xr.apply_ufunc(\n",
      "/opt/anaconda3/envs/myenv/lib/python3.8/site-packages/xesmf/frontend.py:522: FutureWarning: ``output_sizes`` should be given in the ``dask_gufunc_kwargs`` parameter. It will be removed as direct parameter in a future version.\n",
      "  dr_out = xr.apply_ufunc(\n",
      "/opt/anaconda3/envs/myenv/lib/python3.8/site-packages/xesmf/frontend.py:522: FutureWarning: ``output_sizes`` should be given in the ``dask_gufunc_kwargs`` parameter. It will be removed as direct parameter in a future version.\n",
      "  dr_out = xr.apply_ufunc(\n"
     ]
    }
   ],
   "source": [
    "dsi = dsice.drop('time') # To avoid error with adding different months together\n",
    "\n",
    "djf = (dsi.ICEFRAC[11:1200:12]+dsi.ICEFRAC[0:1200:12]+dsi.ICEFRAC[1:1200:12])/3\n",
    "djf = djf.mean(dim='time')\n",
    "\n",
    "mam = (dsi.ICEFRAC[2:1200:12]+dsi.ICEFRAC[3:1200:12]+dsi.ICEFRAC[4:1200:12])/3\n",
    "mam = mam.mean(dim='time')\n",
    "\n",
    "jja = (dsi.ICEFRAC[5:1200:12]+dsi.ICEFRAC[6:1200:12]+dsi.ICEFRAC[7:1200:12])/3\n",
    "jja = jja.mean(dim='time')\n",
    "\n",
    "son = (dsi.ICEFRAC[8:1200:12]+dsi.ICEFRAC[9:1200:12]+dsi.ICEFRAC[10:1200:12])/3\n",
    "son = son.mean(dim='time')\n",
    "\n",
    "dsgrid = xr.open_dataset(folder+'/'+model+'/'+experiment+'/'+experiment+'.SST.mean_month.nc')\n",
    "regridder = xe.Regridder(dsi, dsgrid, 'bilinear', periodic = True, ignore_degenerate=True)\n",
    "\n",
    "si_djf = regridder(djf)*sss/sss*100 #Use mask from SSS field to mark continents & convert to percentage\n",
    "si_mam = regridder(mam)*sss/sss*100\n",
    "si_jja = regridder(jja)*sss/sss*100\n",
    "si_son = regridder(son)*sss/sss*100\n",
    "si = (si_djf+si_mam+si_jja+si_son)/4\n",
    "\n",
    "dsSI = xr.Dataset(data_vars = dict(si_djf=((\"lat\",\"lon\"), si_djf), si_mam = ((\"lat\",\"lon\"), si_mam), si_jja = ((\"lat\",\"lon\"), si_jja), si_son = ((\"lat\",\"lon\"), si_son), si_mean = ((\"lat\",\"lon\"), si)), coords = dict(lat = si_djf.latitude.values, lon = si_djf.longitude.values))\n",
    "xr.Dataset.to_netcdf(dsSI, path = datafolder+'Processed/'+model+'/'+experiment+'/SI_100yr.nc')"
   ]
  },
  {
   "cell_type": "markdown",
   "id": "f5c4017b-2e29-4557-8b75-0f958547b2b8",
   "metadata": {
    "tags": []
   },
   "source": [
    "## 100-yr mean top 100 m salinity"
   ]
  },
  {
   "cell_type": "code",
   "execution_count": 19,
   "id": "0464371e-14e9-468a-be0c-9e3116c1bfd9",
   "metadata": {
    "tags": []
   },
   "outputs": [
    {
     "name": "stderr",
     "output_type": "stream",
     "text": [
      "/opt/anaconda3/envs/myenv/lib/python3.8/site-packages/xesmf/frontend.py:522: FutureWarning: ``output_sizes`` should be given in the ``dask_gufunc_kwargs`` parameter. It will be removed as direct parameter in a future version.\n",
      "  dr_out = xr.apply_ufunc(\n"
     ]
    }
   ],
   "source": [
    "regridder = xe.Regridder(dsS, dsgrid, 'bilinear', periodic = True, ignore_degenerate=True)\n",
    "weights = ds.dz[0:10]\n",
    "s100m = regridder(dsS.SALT[0,0:10].weighted(weights).mean(dim='z_t'))\n",
    "\n",
    "dsS100m = xr.Dataset(data_vars = dict(s100m=((\"lat\",\"lon\"), s100m)), coords = dict(lat = s100m.latitude.values, lon = s100m.longitude.values))\n",
    "xr.Dataset.to_netcdf(dsS100m, path = datafolder+'Processed/'+model+'/'+experiment+'/so100m_100yr.nc')"
   ]
  },
  {
   "cell_type": "markdown",
   "id": "1e966eca-8039-445c-b5a6-e46bd0830d44",
   "metadata": {},
   "source": [
    "## 100-yr zonal mean salinity"
   ]
  },
  {
   "cell_type": "code",
   "execution_count": 20,
   "id": "bda46e5c-7b1e-4f1c-902a-0c06a46332c2",
   "metadata": {
    "tags": []
   },
   "outputs": [],
   "source": [
    "salt_atl = dsS.SALT[0]\n",
    "\n",
    "#Regrid to 1x1 rectangular grid\n",
    "dsgrid = xr.open_dataset(folder+'/'+model+'/'+experiment+'/'+experiment+'.SST.mean_month.nc')\n",
    "regridder = xe.Regridder(dsS, dsgrid, 'bilinear', periodic = True, ignore_degenerate=True)\n",
    "\n",
    "salt = regridder(salt_atl)\n",
    "mask = regularAtlmask(salt)\n",
    "\n",
    "salt_zm = salt.where(mask>-1).mean(dim='longitude')\n",
    "\n",
    "dszm = xr.Dataset(data_vars = dict(so=((\"z\",\"lat\"), salt_zm)), coords = dict(z = salt_zm.z_t.values/100, lat = salt_zm.latitude.values))\n",
    "xr.Dataset.to_netcdf(dszm, path = datafolder+'Processed/'+model+'/'+experiment+'/so_zm_100yr.nc')"
   ]
  },
  {
   "cell_type": "markdown",
   "id": "609fcd4c-2796-48b6-b01a-80f9caa78b7a",
   "metadata": {},
   "source": [
    "## 100-yr zonal mean temperature"
   ]
  },
  {
   "cell_type": "code",
   "execution_count": 21,
   "id": "485cdaf9-fa4f-4e07-ae4e-67253a9f9089",
   "metadata": {},
   "outputs": [
    {
     "name": "stderr",
     "output_type": "stream",
     "text": [
      "/opt/anaconda3/envs/myenv/lib/python3.8/site-packages/xesmf/frontend.py:522: FutureWarning: ``output_sizes`` should be given in the ``dask_gufunc_kwargs`` parameter. It will be removed as direct parameter in a future version.\n",
      "  dr_out = xr.apply_ufunc(\n"
     ]
    }
   ],
   "source": [
    "temp_atl = dsT.TEMP[0]\n",
    "\n",
    "#Regrid to 1x1 rectangular grid\n",
    "dsgrid = xr.open_dataset(folder+'/'+model+'/'+experiment+'/'+experiment+'.SST.mean_month.nc')\n",
    "regridder = xe.Regridder(dsT, dsgrid, 'bilinear', periodic = True, ignore_degenerate=True)\n",
    "\n",
    "temp = regridder(temp_atl)\n",
    "mask = regularAtlmask(temp)\n",
    "\n",
    "temp_zm = temp.where(mask>-1).mean(dim='longitude')\n",
    "\n",
    "dtzm = xr.Dataset(data_vars = dict(thetao=((\"z\",\"lat\"), temp_zm)), coords = dict(z = temp_zm.z_t.values/100, lat = temp_zm.latitude.values))\n",
    "xr.Dataset.to_netcdf(dtzm, path = datafolder+'Processed/'+model+'/'+experiment+'/thetao_zm_100yr.nc')"
   ]
  },
  {
   "cell_type": "markdown",
   "id": "ca95700e-97ac-4250-867c-1e8ff5ac1269",
   "metadata": {},
   "source": [
    "## 100-yr mean wind at 1000 hPa"
   ]
  },
  {
   "cell_type": "code",
   "execution_count": 22,
   "id": "f3430f63-ca77-4f23-9090-d37b6a3cf8b6",
   "metadata": {},
   "outputs": [
    {
     "name": "stderr",
     "output_type": "stream",
     "text": [
      "/opt/anaconda3/envs/myenv/lib/python3.8/site-packages/xarray/conventions.py:512: SerializationWarning: variable 'U' has multiple fill values {1e+20, 1e+20}, decoding all values to NaN.\n",
      "  new_vars[k] = decode_cf_variable(\n",
      "/opt/anaconda3/envs/myenv/lib/python3.8/site-packages/xarray/conventions.py:512: SerializationWarning: variable 'V' has multiple fill values {1e+20, 1e+20}, decoding all values to NaN.\n",
      "  new_vars[k] = decode_cf_variable(\n"
     ]
    }
   ],
   "source": [
    "folder = datafolder+'Raw_data/'+model+'/'\n",
    "\n",
    "if experiment == 'E280':\n",
    "    dsu = xr.open_dataset(folder+experiment+'/Atm/b.e21.B1850.f09_g17.CMIP6-piControl.001.cam.h0.U.110001-120012.nc')\n",
    "    dsv = xr.open_dataset(folder+experiment+'/Atm/b.e21.B1850.f09_g17.CMIP6-piControl.001.cam.h0.V.110001-120012.nc')\n",
    "else:\n",
    "    dsu = xr.open_dataset(folder+experiment+'/Atm/b.e21.B1850.f09_g17.PMIP4-midPliocene-eoi400.001.cam.h0.U.1101.1200.nc')\n",
    "    dsv = xr.open_dataset(folder+experiment+'/Atm/b.e21.B1850.f09_g17.PMIP4-midPliocene-eoi400.001.cam.h0.V.1101.1200.nc')"
   ]
  },
  {
   "cell_type": "code",
   "execution_count": null,
   "id": "b892a0b8-aa80-4b26-ac3f-b11639dd6bfb",
   "metadata": {},
   "outputs": [],
   "source": [
    "if experiment == 'E280':\n",
    "    ua = dsu.U[:,-1].mean(dim='time')\n",
    "    va = dsv.V[:,-1].mean(dim='time')\n",
    "else:\n",
    "    ua = dsu.U[:,0].mean(dim='time')\n",
    "    va = dsv.V[:,0].mean(dim='time')"
   ]
  },
  {
   "cell_type": "code",
   "execution_count": null,
   "id": "2bd8d700-3705-4488-9bae-c75477ab7245",
   "metadata": {},
   "outputs": [],
   "source": [
    "dsgrid = xr.open_dataset(folder+experiment+'/'+experiment+'.SST.mean_month.nc', decode_times=False)\n",
    "regridder = xe.Regridder(dsu, dsgrid, 'bilinear', periodic = True, ignore_degenerate=True)\n",
    "\n",
    "u = regridder(ua)\n",
    "v = regridder(va)\n",
    "\n",
    "dsUV = xr.Dataset(data_vars = dict(ua=((\"lat\",\"lon\"), u), va=((\"lat\",\"lon\"), v)), coords = dict(lat = u.latitude.values, lon = v.longitude.values))\n",
    "xr.Dataset.to_netcdf(dsUV, path = datafolder+'Processed/'+model+'/'+experiment+'/UVa_100yr.nc')"
   ]
  },
  {
   "cell_type": "code",
   "execution_count": null,
   "id": "4695964c-3ea6-4eed-9c63-93ec182d8774",
   "metadata": {},
   "outputs": [],
   "source": []
  }
 ],
 "metadata": {
  "kernelspec": {
   "display_name": "Python 3 (ipykernel)",
   "language": "python",
   "name": "python3"
  },
  "language_info": {
   "codemirror_mode": {
    "name": "ipython",
    "version": 3
   },
   "file_extension": ".py",
   "mimetype": "text/x-python",
   "name": "python",
   "nbconvert_exporter": "python",
   "pygments_lexer": "ipython3",
   "version": "3.8.12"
  }
 },
 "nbformat": 4,
 "nbformat_minor": 5
}
