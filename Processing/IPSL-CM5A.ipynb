{
 "cells": [
  {
   "cell_type": "code",
   "execution_count": 1,
   "id": "511e51e7-717c-404c-9034-2303417d4315",
   "metadata": {},
   "outputs": [],
   "source": [
    "## imports\n",
    "import sys\n",
    "import os\n",
    "import numpy as np\n",
    "import xarray as xr\n",
    "import cmocean\n",
    "import matplotlib\n",
    "import matplotlib.pyplot as plt\n",
    "from matplotlib.patches import Rectangle\n",
    "from matplotlib import gridspec\n",
    "import cartopy\n",
    "import cartopy.crs as ccrs\n",
    "from cartopy.mpl.gridliner import LONGITUDE_FORMATTER, LATITUDE_FORMATTER\n",
    "import eofs\n",
    "from eofs.xarray import Eof\n",
    "import cftime\n",
    "import nc_time_axis\n",
    "\n",
    "import mtspec\n",
    "\n",
    "# from pylab import *\n",
    "\n",
    "import datetime\n",
    "import time\n",
    "import glob, os\n",
    "import math\n",
    "import matplotlib.colors as colors\n",
    "import xesmf as xe\n",
    "from defs import regularAtlmask"
   ]
  },
  {
   "cell_type": "code",
   "execution_count": 2,
   "id": "0fae8558",
   "metadata": {},
   "outputs": [],
   "source": [
    "datafolder = ''"
   ]
  },
  {
   "cell_type": "code",
   "execution_count": 3,
   "id": "54eecedf-876c-4256-8f22-6da6029b67b2",
   "metadata": {},
   "outputs": [],
   "source": [
    "experiment = 'Eoi400'\n",
    "model = 'IPSL-CM5A'\n",
    "filepath = datafolder+'Raw_data/'+model+'/'"
   ]
  },
  {
   "cell_type": "code",
   "execution_count": 4,
   "id": "70432dda-1499-42d0-a362-06efbf3baa68",
   "metadata": {},
   "outputs": [],
   "source": [
    "if experiment == 'E280':\n",
    "    dsT = xr.open_dataset(filepath+experiment+'/IPSLCM5A_piControl_oceTemp_oceSal_V.nc')\n",
    "    dsV = xr.open_dataset(filepath+experiment+'/IPSLCM5A_piControl_oceTemp_oceSal_V.nc')\n",
    "    dsS = xr.open_dataset(filepath+experiment+'/IPSLCM5A_piControl_oceTemp_oceSal_V.nc')\n",
    "    dsice = xr.open_dataset(filepath+experiment+'/PI.Sicfraction_sic_3600_3699_monthly_TS.nc')\n",
    "    dsr = xr.open_dataset(filepath+'subbasins_orca2.3.P4.nc')\n",
    "    dsMOC = xr.open_dataset(filepath+experiment+'/IPSLCM5A_piControl_streamfunction_heatTransp.nc')\n",
    "    dssst = xr.open_dataset(filepath+experiment+'/PI.SeasurfaceTemp_sst_3600_3699_monthly_TS.nc')\n",
    "else:\n",
    "    dsV = xr.open_dataset(filepath+experiment+'/IPSLCM5A_Eoi400_oceTemp_oceSal_V.nc', decode_times=False)\n",
    "    dsT = xr.open_dataset(filepath+experiment+'/IPSLCM5A_Eoi400_oceTemp_oceSal_V.nc', decode_times=False)\n",
    "    dsS = xr.open_dataset(filepath+experiment+'/IPSLCM5A_Eoi400_oceTemp_oceSal_V.nc', decode_times=False)\n",
    "    dsice = xr.open_dataset(filepath+experiment+'/Eoi400.Sicfraction_sic_3581_3680_monthly_TS.nc', decode_times=False)\n",
    "    dsr = xr.open_dataset(filepath+'subbasins_orca2.3.P4.nc')\n",
    "    dsMOC = xr.open_dataset(filepath+experiment+'/IPSLCM5A_Eoi400_streamfunction_heatTransp.nc', decode_times=False)\n",
    "    dssst = xr.open_dataset(filepath+experiment+'/Eoi400.Seasurfacetemp_sst_3581_3680_monthly_TS.nc', decode_times=False)"
   ]
  },
  {
   "cell_type": "code",
   "execution_count": 5,
   "id": "9ebb8460",
   "metadata": {},
   "outputs": [],
   "source": [
    "#Do some renaming and transfer temperature field to same grid as region file\n",
    "dsV = dsV.drop(['deptht','time_counter_bnds'])\n",
    "dsV = dsV.drop_dims(['deptht'])\n",
    "dsV = dsV.rename({'nav_lon': 'longitude_u', 'nav_lat': 'latitude_u', 'depthv':'olevel'})\n",
    "\n",
    "dsr = xr.Dataset(data_vars = dict(Atl=((\"y\", \"x\"), dsr.atlmsk.values), Atl_nomed = ((\"y\", \"x\"), dsr.atlmsk_nomed.values)), coords = dict(latitude =((\"y\",\"x\"), dsr.navlat.values), longitude = ((\"y\",\"x\"), dsr.navlon.values)))\n",
    "\n",
    "dsT = dsT.drop(['nav_lon','nav_lat','depthv','time_counter_bnds'])\n",
    "dsT = dsT.drop_dims(['depthv'])\n",
    "dsT = dsT.rename({'deptht':'olevel'})\n",
    "dsT = dsT.assign_coords(dict(latitude=((\"y\",\"x\"),dsr.latitude.values),longitude=((\"y\",\"x\"),dsr.longitude.values)))\n",
    "\n",
    "dsS = dsS.drop_dims(['depthv'])"
   ]
  },
  {
   "cell_type": "markdown",
   "id": "6aa5f765-1e13-4bf1-8e94-4c3cc935350d",
   "metadata": {
    "tags": []
   },
   "source": [
    "## Separation MOC and gyre OHT component 100-yr average"
   ]
  },
  {
   "cell_type": "code",
   "execution_count": 6,
   "id": "1077e592-8ab1-42ed-b817-2ccf3a106d6c",
   "metadata": {},
   "outputs": [
    {
     "name": "stderr",
     "output_type": "stream",
     "text": [
      "/opt/anaconda3/envs/myenv/lib/python3.8/site-packages/xesmf/frontend.py:522: FutureWarning: ``output_sizes`` should be given in the ``dask_gufunc_kwargs`` parameter. It will be removed as direct parameter in a future version.\n",
      "  dr_out = xr.apply_ufunc(\n"
     ]
    }
   ],
   "source": [
    "temp = dsT.votemper.mean(dim='time_counter')\n",
    "region = dsr.Atl\n",
    "\n",
    "#Regrid velocity field to the temperature field, using 0 as a fill value for land to avoid NaN ocean grid cells after interpolation\n",
    "regridder = xe.Regridder(dsV, dsT, 'bilinear', periodic = True, ignore_degenerate=True)\n",
    "vo = dsV.vomecrty.mean(dim='time_counter').fillna(0)*100\n",
    "vvel = regridder(vo) #cm/s\n",
    "vvel = vvel*temp/temp #Fills land grid cells with NaN again"
   ]
  },
  {
   "cell_type": "markdown",
   "id": "801bba92-e289-4b3d-bba3-41c48fa29440",
   "metadata": {},
   "source": [
    "Create DXT grid"
   ]
  },
  {
   "cell_type": "code",
   "execution_count": 7,
   "id": "93e6d0fd-59cb-4d4c-b0d0-73096f269cb0",
   "metadata": {
    "tags": []
   },
   "outputs": [],
   "source": [
    "dphi = np.zeros([149,182])\n",
    "lat = dsT.latitude.values\n",
    "dphi[:,1:] = lat[:,1:]-lat[:,:-1]\n",
    "dphi[:,0] = lat[:,0]-lat[:,-1]\n",
    "dphi = np.radians(dphi)\n",
    "\n",
    "dtheta = np.zeros([149,182])\n",
    "lon = dsT.longitude.values\n",
    "dtheta[:,1:] = lon[:,1:]-lon[:,:-1]\n",
    "dtheta[:,0] = lon[:,0]-lon[:,-1]\n",
    "\n",
    "for j in range(149):\n",
    "    for i in range(0,182):\n",
    "        if dtheta[j,i] < -300:\n",
    "            dtheta[j,i] = dtheta[j,i]+360\n",
    "dtheta = np.radians(dtheta)\n",
    "\n",
    "phi1 = np.zeros([149,182])\n",
    "phi1[:,0] = lat[:,-1]\n",
    "phi1[:,1:] = lat[:,:-1]\n",
    "phi1 = np.radians(phi1)\n",
    "\n",
    "phi2 = np.radians(lat)\n",
    "\n",
    "r = 6.37122e8 #radius Earth in cm\n",
    "d = 2*r*np.arcsin(np.sqrt(np.sin(dphi/2)**2+np.cos(phi1)*np.cos(phi2)*np.sin(dtheta/2)**2)) #Distance between adjacent cells in i dimension on U grid [cm]\n",
    "dsT['d'] = xr.DataArray(data=d, dims=(\"j\",\"i\")) \n",
    "DXT = np.zeros([149,182])\n",
    "DXT[:,:-1] = (d[:,1:]+d[:,:-1])/2\n",
    "DXT[:,-1] = (d[:,0]+d[:,-1])/2\n",
    "\n",
    "dsT['DXT'] = xr.DataArray(data=DXT, dims=(\"y\",\"x\")) #Grid lengths centered on T-points [cm]"
   ]
  },
  {
   "cell_type": "markdown",
   "id": "8605c305-1e8b-4493-b085-695b29d49f81",
   "metadata": {},
   "source": [
    "Create DZ array"
   ]
  },
  {
   "cell_type": "code",
   "execution_count": 8,
   "id": "e47ec837-30dc-44c3-9828-8e70cf6ea59a",
   "metadata": {},
   "outputs": [],
   "source": [
    "#1-D array with spacing of depth grid\n",
    "ds = dsT\n",
    "\n",
    "dz = np.zeros(len(ds.olevel))\n",
    "dz[0] = ds.olevel[0].values*2\n",
    "depth = dz[0]\n",
    "for i in range(1,len(ds.olevel)):\n",
    "    dz[i] = (ds.olevel[i]-depth)*2\n",
    "    depth = depth+dz[i]\n",
    "dz = dz*100 #Depth spacing. Units: cm\n",
    "dsV['DZ'] = xr.DataArray(data=dz, dims=(\"olevel\"))\n",
    "dsT['DZ'] = xr.DataArray(data=dz, dims=(\"olevel\"))\n",
    "DZ = ds.DZ"
   ]
  },
  {
   "cell_type": "code",
   "execution_count": 9,
   "id": "723c20ad-13cd-43df-9fee-5758b6022aaf",
   "metadata": {},
   "outputs": [
    {
     "data": {
      "text/plain": [
       "<matplotlib.legend.Legend at 0x7f963a37b820>"
      ]
     },
     "execution_count": 9,
     "metadata": {},
     "output_type": "execute_result"
    },
    {
     "data": {
      "image/png": "[encoded data removed]",
      "text/plain": [
       "<Figure size 432x288 with 1 Axes>"
      ]
     },
     "metadata": {
      "needs_background": "light"
     },
     "output_type": "display_data"
    }
   ],
   "source": [
    "cp_sw = 3996.  # [J/(kg degC)]   heat capacity of water\n",
    "rho_sw = 1.026e-3  # [kg/cm^3]  density of water\n",
    "\n",
    "VVEL = vvel.where(region>0) #cm/s\n",
    "HEAT = (cp_sw*rho_sw*temp).where(region>0)  #  [J/(kg K) * kg/cm^3 * degC] = [J/cm]\n",
    "\n",
    "def zonal_means(x, dx):\n",
    "    xint = (x*dx).sum('x')  # [x-unit * cm]\n",
    "    zm = xint/dx.sum('x')   # [x-unit]\n",
    "    return xint, zm\n",
    "\n",
    "#Zonal mean velocity and heat\n",
    "VVEL_xint, VVEL_zm = zonal_means(VVEL, dsT.DXT.where(VVEL<10000))\n",
    "HEAT_xint, HEAT_zm = zonal_means(HEAT, dsT.DXT.where(VVEL<10000))\n",
    "\n",
    "#Make zonal mean fields into 3D fields again\n",
    "HEAT_zm_3D = HEAT/HEAT\n",
    "HEAT_zm_3D = HEAT_zm_3D*HEAT_zm\n",
    "\n",
    "VVEL_zm_3D = VVEL/VVEL\n",
    "VVEL_zm_3D = VVEL_zm_3D*VVEL_zm\n",
    "\n",
    "#azonal components\n",
    "HEAT_prime = (HEAT - HEAT_zm) # azonal heat component (x,y,z) [J/cm]\n",
    "VVEL_prime = (VVEL - VVEL_zm)  # azonal velocity comp. (x,y,z) [cm/s]\n",
    "\n",
    "#Integrate to compute OHTov and OHTaz\n",
    "Hov = (VVEL_zm_3D*HEAT_zm_3D*dsT.DXT*dsT.DZ).sum(dim=['x','olevel'])\n",
    "Haz = (VVEL_prime*HEAT_prime*dsT.DXT*dsT.DZ).sum(dim=['x','olevel'])  # product of primed velocity and heat [cm/s * J/cm^2 * cm]\n",
    "\n",
    "# Auxiliary latitudes for OHT components\n",
    "lats = dsT.latitude.where(region>0).mean(dim='x')\n",
    "\n",
    "plt.figure(figsize=(6,4))\n",
    "plt.axhline(0,c='k',lw=.5)\n",
    "plt.plot(lats, Hov/1e15, label='overturning component')\n",
    "\n",
    "plt.plot(lats, Haz/1e15, label='azonal component')\n",
    "plt.plot(lats, (Hov+Haz)/1e15, label='overturning+azonal')\n",
    "plt.plot(dsMOC.lat, dsMOC.sohtatl[:,:,0].mean(dim='time_counter'),label='Eulerian mean + bolus')\n",
    "#plt.plot(dsovrt.nav_lat.mean(dim='x'), dsovrt.htovovrt[2400:3600, 1, :,0].mean(dim='time'), label = 'Model overturning')\n",
    "#plt.plot(dsgyre.nav_lat.mean(dim='x'), dsgyre.htovgyre[2400:3600, 1, :,0].mean(dim='time'), label = 'Model gyre')\n",
    "plt.title('northward heat transport')\n",
    "plt.xlim([-35,70])\n",
    "plt.ylim([-0.5, 1.25])\n",
    "plt.xlabel(r'latitude  [$^\\circ$N]')\n",
    "plt.legend(fontsize=8)"
   ]
  },
  {
   "cell_type": "code",
   "execution_count": 10,
   "id": "caf5e4ea-8803-4ca0-9faa-f538bfadf2e4",
   "metadata": {},
   "outputs": [],
   "source": [
    "dsE = xr.Dataset(data_vars = dict(OHTov=([\"lat\"], Hov[1:-6]/1e15), OHTaz=([\"lat\"], Haz[1:-6]/1e15)), coords = dict(lat = lats[1:-6].values))\n",
    "xr.Dataset.to_netcdf(dsE, path = datafolder+'Processed/'+model+'/'+experiment+'/decomOHT_100yr.nc')"
   ]
  },
  {
   "cell_type": "markdown",
   "id": "eb093c38-a465-48c6-87ee-04c69adfea7b",
   "metadata": {
    "tags": []
   },
   "source": [
    "## 100-yr average AMOC streamfunction"
   ]
  },
  {
   "cell_type": "code",
   "execution_count": 13,
   "id": "f23def08-e654-461f-9b64-c4167f0f22af",
   "metadata": {},
   "outputs": [],
   "source": [
    "dsM = xr.Dataset(data_vars = dict(AMOC=((\"z\",\"lat\"), dsMOC.zomsfatl[:,:,:,0].mean(dim='time_counter').values)), coords = dict(z = dsMOC.depthw.values, lat = dsMOC.lat.values))\n",
    "xr.Dataset.to_netcdf(dsM, path = datafolder+'Processed/'+model+'/'+experiment+'/AMOC_100yr.nc')"
   ]
  },
  {
   "cell_type": "markdown",
   "id": "97bb55b0-067d-4aef-bad3-c74ade54c3fb",
   "metadata": {
    "tags": []
   },
   "source": [
    "## 100-yr average total Atlantic OHT"
   ]
  },
  {
   "cell_type": "code",
   "execution_count": 14,
   "id": "9b024862-b6af-4076-b227-3e9bb23c757e",
   "metadata": {
    "tags": []
   },
   "outputs": [],
   "source": [
    "dsH = xr.Dataset(data_vars = dict(OHT=((\"lat\"), dsMOC.sohtatl[:,:,0].mean(dim='time_counter').values)), coords = dict(lat = dsMOC.lat.values))\n",
    "xr.Dataset.to_netcdf(dsH, path = datafolder+'Processed/'+model+'/'+experiment+'/OHT_100yr.nc')"
   ]
  },
  {
   "cell_type": "markdown",
   "id": "7769aa6b-77ff-4ce7-9d90-3e8f2add5d5d",
   "metadata": {
    "tags": []
   },
   "source": [
    "## 100-yr SSS (regridded)"
   ]
  },
  {
   "cell_type": "code",
   "execution_count": 16,
   "id": "25a4e58d-464b-4821-ba58-b6864a458ab5",
   "metadata": {
    "tags": []
   },
   "outputs": [
    {
     "name": "stderr",
     "output_type": "stream",
     "text": [
      "/opt/anaconda3/envs/myenv/lib/python3.8/site-packages/xesmf/frontend.py:522: FutureWarning: ``output_sizes`` should be given in the ``dask_gufunc_kwargs`` parameter. It will be removed as direct parameter in a future version.\n",
      "  dr_out = xr.apply_ufunc(\n"
     ]
    }
   ],
   "source": [
    "#Regrid it to the same 1x1 regular grid as other models, take IPSL-CM6A data to provide the structure\n",
    "model_grid = 'IPSL-CM6A'\n",
    "dsgrid = xr.open_dataset(datafolder+'Raw_data/'+model_grid+'/'+experiment+'/'+experiment+'.SST.mean_month.nc', decode_times=False)\n",
    "\n",
    "regridder = xe.Regridder(dsS, dsgrid, 'bilinear', periodic = True, ignore_degenerate=True)\n",
    "\n",
    "sss = regridder(dsS.vosaline.mean(dim='time_counter')[0])\n",
    "\n",
    "dsSSS = xr.Dataset(data_vars = dict(sss=((\"lat\",\"lon\"), sss)), coords = dict(lat = sss.latitude.values, lon = sss.longitude.values))\n",
    "xr.Dataset.to_netcdf(dsSSS, path = datafolder+'Processed/'+model+'/'+experiment+'/SSS_100yr.nc')"
   ]
  },
  {
   "cell_type": "markdown",
   "id": "ae8be95e-b532-448d-8f23-96ced692d3e9",
   "metadata": {
    "tags": []
   },
   "source": [
    "## Annual SST timeseries (100 years)"
   ]
  },
  {
   "cell_type": "code",
   "execution_count": 17,
   "id": "de30fc08-3277-4cc6-978e-ecd3558ab92c",
   "metadata": {},
   "outputs": [],
   "source": [
    "#Regrid it to the same 1x1 regular grid as other models, take IPSL-CM6A data to provide the structure\n",
    "model_grid = 'IPSL-CM6A'\n",
    "dsgrid = xr.open_dataset(datafolder+'Raw_data/'+model_grid+'/'+experiment+'/'+experiment+'.SST.mean_month.nc', decode_times=False)\n",
    "regridder = xe.Regridder(dssst, dsgrid, 'bilinear', periodic = True, ignore_degenerate=True)\n",
    "\n",
    "tos = regridder(dssst.sst)\n",
    "tosann = np.zeros([100,180,360])\n",
    "\n",
    "for i in range(0,100):\n",
    "    tosann[i] = tos[0+i*12:12+i*12].mean(dim='time_counter')\n",
    "\n",
    "if experiment == 'E280':\n",
    "    year1 = 3600\n",
    "    year2 = 3699\n",
    "else:\n",
    "    year1 = 3581\n",
    "    year2 = 3680\n",
    "\n",
    "dsSST = xr.Dataset(data_vars = dict(sst=((\"time\",\"lat\",\"lon\"), tosann)), coords = dict(time = np.arange(year1, year2+1), lat = tos.latitude.values, lon = tos.longitude.values))\n",
    "xr.Dataset.to_netcdf(dsSST, path = datafolder+'Processed/'+model+'/'+experiment+'/SST_annual_100yr.nc')"
   ]
  },
  {
   "cell_type": "markdown",
   "id": "f56e5530-8063-42fd-ac85-ee16ecaf375a",
   "metadata": {
    "tags": []
   },
   "source": [
    "## 100-yr mean sea ice (regridded)"
   ]
  },
  {
   "cell_type": "code",
   "execution_count": 19,
   "id": "74a5eb9b-37f4-4bf3-be42-2c68c3caa62c",
   "metadata": {},
   "outputs": [
    {
     "name": "stderr",
     "output_type": "stream",
     "text": [
      "/opt/anaconda3/envs/myenv/lib/python3.8/site-packages/xesmf/frontend.py:522: FutureWarning: ``output_sizes`` should be given in the ``dask_gufunc_kwargs`` parameter. It will be removed as direct parameter in a future version.\n",
      "  dr_out = xr.apply_ufunc(\n"
     ]
    }
   ],
   "source": [
    "dsi = dsice.drop('time_counter')\n",
    "\n",
    "djf = (dsi.sic[11:1200:12]+dsi.sic[0:1200:12]+dsi.sic[1:1200:12])/3\n",
    "djf = djf.mean(dim='time_counter')\n",
    "\n",
    "mam = (dsi.sic[2:1200:12]+dsi.sic[3:1200:12]+dsi.sic[4:1200:12])/3\n",
    "mam = mam.mean(dim='time_counter')\n",
    "\n",
    "jja = (dsi.sic[5:1200:12]+dsi.sic[6:1200:12]+dsi.sic[7:1200:12])/3\n",
    "jja = jja.mean(dim='time_counter')\n",
    "\n",
    "son = (dsi.sic[8:1200:12]+dsi.sic[9:1200:12]+dsi.sic[10:1200:12])/3\n",
    "son = son.mean(dim='time_counter')\n",
    "\n",
    "#Regrid to regular 1x1, take IPSL-CM6A as structure\n",
    "model_grid = 'IPSL-CM6A'\n",
    "dsgrid = xr.open_dataset(datafolder+'Raw_data/'+model_grid+'/'+experiment+'/'+experiment+'.SST.mean_month.nc', decode_times=False)\n",
    "regridder = xe.Regridder(dsi, dsgrid, 'bilinear', periodic = True, ignore_degenerate=True)\n",
    "\n",
    "si_djf = regridder(djf)*100 #Convert to percentage\n",
    "si_mam = regridder(mam)*100\n",
    "si_jja = regridder(jja)*100\n",
    "si_son = regridder(son)*100\n",
    "\n",
    "si = (si_djf+si_mam+si_jja+si_son)/4\n",
    "\n",
    "dsSI = xr.Dataset(data_vars = dict(si_djf=((\"lat\",\"lon\"), si_djf), si_mam = ((\"lat\",\"lon\"), si_mam), si_jja = ((\"lat\",\"lon\"), si_jja), si_son = ((\"lat\",\"lon\"), si_son), si_mean = ((\"lat\",\"lon\"), si)), coords = dict(lat = si_djf.latitude.values, lon = si_djf.longitude.values))\n",
    "xr.Dataset.to_netcdf(dsSI, path = datafolder+'Processed/'+model+'/'+experiment+'/SI_100yr.nc')"
   ]
  },
  {
   "cell_type": "markdown",
   "id": "5b97064f-91e9-45ab-beb3-7c18743477d4",
   "metadata": {
    "tags": []
   },
   "source": [
    "## 100-yr mean top 100 m salinity"
   ]
  },
  {
   "cell_type": "code",
   "execution_count": 20,
   "id": "4362af78-c057-424f-b42c-4b4ac11b7271",
   "metadata": {
    "tags": []
   },
   "outputs": [
    {
     "name": "stderr",
     "output_type": "stream",
     "text": [
      "/opt/anaconda3/envs/myenv/lib/python3.8/site-packages/xesmf/frontend.py:522: FutureWarning: ``output_sizes`` should be given in the ``dask_gufunc_kwargs`` parameter. It will be removed as direct parameter in a future version.\n",
      "  dr_out = xr.apply_ufunc(\n"
     ]
    }
   ],
   "source": [
    "def makedz(z):\n",
    "    dz = np.zeros(len(z))\n",
    "    dz[0] = z[0].values*2\n",
    "    depth = dz[0]\n",
    "    for i in range(1,len(z)):\n",
    "        dz[i] = (z[i]-depth)*2\n",
    "        depth = depth+dz[i] #Depth spacing. Units: cm\n",
    "    return xr.DataArray(data=dz, dims=(\"deptht\"))\n",
    "\n",
    "regridder = xe.Regridder(dsS, dsgrid, 'bilinear', periodic = True, ignore_degenerate=True)\n",
    "weights = makedz(dsS.deptht[0:9])\n",
    "\n",
    "s100m = regridder(dsS.vosaline.mean(dim='time_counter')[0:9].weighted(weights).mean(dim='deptht'))\n",
    "\n",
    "dsS100m = xr.Dataset(data_vars = dict(s100m=((\"lat\",\"lon\"), s100m)), coords = dict(lat = s100m.latitude.values, lon = s100m.longitude.values))\n",
    "xr.Dataset.to_netcdf(dsS100m, path = datafolder+'Processed/'+model+'/'+experiment+'/so100m_100yr.nc')"
   ]
  },
  {
   "cell_type": "markdown",
   "id": "c7945953-dc9d-4c14-b1fd-d683dca4eb62",
   "metadata": {
    "tags": []
   },
   "source": [
    "## 100-yr zonal mean salinity Atlantic"
   ]
  },
  {
   "cell_type": "code",
   "execution_count": 21,
   "id": "16fcb157-8ca9-490d-8fa3-ad46edda916f",
   "metadata": {},
   "outputs": [
    {
     "name": "stderr",
     "output_type": "stream",
     "text": [
      "/opt/anaconda3/envs/myenv/lib/python3.8/site-packages/xesmf/frontend.py:522: FutureWarning: ``output_sizes`` should be given in the ``dask_gufunc_kwargs`` parameter. It will be removed as direct parameter in a future version.\n",
      "  dr_out = xr.apply_ufunc(\n"
     ]
    }
   ],
   "source": [
    "salt_atl = dsS.vosaline.mean(dim='time_counter')\n",
    "\n",
    "#Regrid to 1x1 rectangular grid\n",
    "dsgrid = xr.open_dataset(datafolder+'Raw_data/'+model_grid+'/'+experiment+'/'+experiment+'.SST.mean_month.nc', decode_times=False)\n",
    "regridder = xe.Regridder(dsS, dsgrid, 'bilinear', periodic = True, ignore_degenerate=True)\n",
    "\n",
    "salt = regridder(salt_atl)\n",
    "mask = regularAtlmask(salt)\n",
    "\n",
    "salt_zm = salt.where(mask>-1).mean(dim='longitude')\n",
    "\n",
    "dszm = xr.Dataset(data_vars = dict(so=((\"z\",\"lat\"), salt_zm)), coords = dict(z = salt_zm.deptht.values, lat = salt_zm.latitude.values))\n",
    "xr.Dataset.to_netcdf(dszm, path = datafolder+'Processed/'+model+'/'+experiment+'/so_zm_100yr.nc')"
   ]
  },
  {
   "cell_type": "markdown",
   "id": "03a4ac2c-cc13-4a65-a9a8-4567457cde43",
   "metadata": {},
   "source": [
    "## 100-yr zonal mean temperature Atlantic"
   ]
  },
  {
   "cell_type": "code",
   "execution_count": 22,
   "id": "7a9c688b-086c-4b52-bcc0-5c71289b0169",
   "metadata": {},
   "outputs": [
    {
     "name": "stderr",
     "output_type": "stream",
     "text": [
      "/opt/anaconda3/envs/myenv/lib/python3.8/site-packages/xesmf/frontend.py:522: FutureWarning: ``output_sizes`` should be given in the ``dask_gufunc_kwargs`` parameter. It will be removed as direct parameter in a future version.\n",
      "  dr_out = xr.apply_ufunc(\n"
     ]
    }
   ],
   "source": [
    "temp_atl = dsT.votemper.mean(dim='time_counter')\n",
    "\n",
    "#Regrid to 1x1 rectangular grid\n",
    "dsgrid = xr.open_dataset(datafolder+'Raw_data/'+model_grid+'/'+experiment+'/'+experiment+'.SST.mean_month.nc', decode_times=False)\n",
    "regridder = xe.Regridder(dsT, dsgrid, 'bilinear', periodic = True, ignore_degenerate=True)\n",
    "\n",
    "temp = regridder(temp_atl)\n",
    "mask = regularAtlmask(temp)\n",
    "\n",
    "temp_zm = temp.where(mask>-1).mean(dim='longitude')\n",
    "\n",
    "dtzm = xr.Dataset(data_vars = dict(thetao=((\"z\",\"lat\"), temp_zm)), coords = dict(z = temp_zm.olevel.values, lat = temp_zm.latitude.values))\n",
    "xr.Dataset.to_netcdf(dtzm, path = datafolder+'Processed/'+model+'/'+experiment+'/thetao_zm_100yr.nc')"
   ]
  },
  {
   "cell_type": "markdown",
   "id": "faf85c56-b1f6-4859-aab5-188fd7156f73",
   "metadata": {},
   "source": [
    "## 100-yr mean wind at 1000 hPa"
   ]
  },
  {
   "cell_type": "code",
   "execution_count": 24,
   "id": "fedf5aa0-133d-42b4-bb91-6cc4d82ed0ab",
   "metadata": {},
   "outputs": [],
   "source": [
    "folder = datafolder+'Raw_data/'+model+'/'\n",
    "\n",
    "if experiment == 'E280':\n",
    "    dsu = xr.open_dataset(folder+experiment+'/Atm/piControl_CM5A_ua_va_SE.nc')\n",
    "else:\n",
    "    dsu = xr.open_dataset(folder+experiment+'/Atm/Eoi400_CM5A_ua_va_SE.nc')"
   ]
  },
  {
   "cell_type": "code",
   "execution_count": 25,
   "id": "ba8e1ddb-e794-46ca-849a-3aee4f984f85",
   "metadata": {},
   "outputs": [],
   "source": [
    "ua = dsu.ua.mean(dim='time_counter')[0]\n",
    "va = dsu.va.mean(dim='time_counter')[0]"
   ]
  },
  {
   "cell_type": "code",
   "execution_count": 26,
   "id": "16d3dfea-7d9c-4201-ad1f-24b32e2c0862",
   "metadata": {},
   "outputs": [
    {
     "name": "stderr",
     "output_type": "stream",
     "text": [
      "/opt/anaconda3/envs/myenv/lib/python3.8/site-packages/xesmf/frontend.py:522: FutureWarning: ``output_sizes`` should be given in the ``dask_gufunc_kwargs`` parameter. It will be removed as direct parameter in a future version.\n",
      "  dr_out = xr.apply_ufunc(\n"
     ]
    }
   ],
   "source": [
    "#Regrid to regular 1x1, use IPSL-CM6A example as structure \n",
    "model_grid = 'IPSL-CM6A'\n",
    "dsgrid = xr.open_dataset('/Users/6497241/surfdrive/Documents/PlioMIP2-OHT/Data/Raw_data/'+model_grid+'/'+experiment+'/'+experiment+'.SST.mean_month.nc', decode_times=False)\n",
    "regridder = xe.Regridder(dsu, dsgrid, 'bilinear', periodic = True, ignore_degenerate=True)\n",
    "\n",
    "u = regridder(ua)\n",
    "v = regridder(va)\n",
    "\n",
    "dsUV = xr.Dataset(data_vars = dict(ua=((\"lat\",\"lon\"), u), va=((\"lat\",\"lon\"), v)), coords = dict(lat = u.latitude.values, lon = v.longitude.values))\n",
    "xr.Dataset.to_netcdf(dsUV, path = datafolder+'Processed/'+model+'/'+experiment+'/UVa_100yr.nc')"
   ]
  },
  {
   "cell_type": "code",
   "execution_count": null,
   "id": "69cec9fb",
   "metadata": {},
   "outputs": [],
   "source": []
  }
 ],
 "metadata": {
  "kernelspec": {
   "display_name": "Python 3 (ipykernel)",
   "language": "python",
   "name": "python3"
  },
  "language_info": {
   "codemirror_mode": {
    "name": "ipython",
    "version": 3
   },
   "file_extension": ".py",
   "mimetype": "text/x-python",
   "name": "python",
   "nbconvert_exporter": "python",
   "pygments_lexer": "ipython3",
   "version": "3.8.12"
  }
 },
 "nbformat": 4,
 "nbformat_minor": 5
}
