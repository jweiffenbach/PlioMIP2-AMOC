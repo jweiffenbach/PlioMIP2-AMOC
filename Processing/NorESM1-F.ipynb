{
 "cells": [
  {
   "cell_type": "code",
   "execution_count": 2,
   "id": "511e51e7-717c-404c-9034-2303417d4315",
   "metadata": {},
   "outputs": [],
   "source": [
    "## imports\n",
    "import sys\n",
    "import os\n",
    "import numpy as np\n",
    "import xarray as xr\n",
    "import cmocean\n",
    "import matplotlib\n",
    "import matplotlib.pyplot as plt\n",
    "from matplotlib.patches import Rectangle\n",
    "from matplotlib import gridspec\n",
    "import cartopy\n",
    "import cartopy.crs as ccrs\n",
    "from cartopy.mpl.gridliner import LONGITUDE_FORMATTER, LATITUDE_FORMATTER\n",
    "import eofs\n",
    "from eofs.xarray import Eof\n",
    "import cftime\n",
    "import nc_time_axis\n",
    "\n",
    "import mtspec\n",
    "\n",
    "# from pylab import *\n",
    "\n",
    "import datetime\n",
    "import time\n",
    "import glob, os\n",
    "import math\n",
    "import matplotlib.colors as colors\n",
    "import xesmf as xe\n",
    "from defs import regularAtlmask"
   ]
  },
  {
   "cell_type": "code",
   "execution_count": 3,
   "id": "86a760b4",
   "metadata": {},
   "outputs": [],
   "source": [
    "datafolder = ''"
   ]
  },
  {
   "cell_type": "code",
   "execution_count": 4,
   "id": "cc475dfc",
   "metadata": {},
   "outputs": [],
   "source": [
    "experiment = 'E280' \n",
    "model = 'NorESM1-F'\n",
    "folder = datafolder+'Raw_data/'+model+'/'"
   ]
  },
  {
   "cell_type": "code",
   "execution_count": 5,
   "id": "29620fd9",
   "metadata": {},
   "outputs": [],
   "source": [
    "if experiment == 'Eoi400':\n",
    "    dsV = xr.open_dataset(folder+experiment+'/PlioMIP2_03.micom.hy.2400-2499mean.vvellvl.nc')\n",
    "    dsT = xr.open_dataset(folder+experiment+'/PlioMIP2_03.micom.hy.2400-2499mean.templvl.nc')\n",
    "    dsS = xr.open_dataset(folder+experiment+'/PlioMIP2_03.micom.hy.2400-2499mean.salnlvl.nc')\n",
    "    dsr = xr.open_dataset(folder+experiment+'/grid.nc')\n",
    "    dsMOC = xr.open_dataset(folder+experiment+'/PlioMIP2_03.micom.hy.2400-2499mean.mmflxd.nc')\n",
    "    dsMOC2 = xr.open_dataset(folder+experiment+'/PlioMIP2_03.micom.hy.2400-2499.mmflxd.nc')\n",
    "    dsOHT = xr.open_dataset(folder+experiment+'/PlioMIP2_03.micom.hy.2400-2499mean.mhflx.nc')\n",
    "    dstos = xr.open_dataset(folder+experiment+'/NorESM1-F_Eoi400_sst.nc')\n",
    "    dsice = xr.open_dataset(folder+experiment+'/NorESM1-F_Eoi400_aice.nc')\n",
    "else:\n",
    "    dsV = xr.open_dataset(folder+experiment+'/NBF1850OC_f19_tn11_02.micom.hy.1900-1999mean.vvellvl.nc')\n",
    "    dsT = xr.open_dataset(folder+experiment+'/NBF1850OC_f19_tn11_02.micom.hy.1900-1999mean.templvl.nc')\n",
    "    dsS = xr.open_dataset(folder+experiment+'/NBF1850OC_f19_tn11_02.micom.hy.1900-1999mean.salnlvl.nc')\n",
    "    dsr = xr.open_dataset(folder+experiment+'/grid.nc')\n",
    "    dsMOC = xr.open_dataset(folder+experiment+'/NBF1850OC_f19_tn11_02.micom.hy.1900-1999mean.mmflxd.nc')\n",
    "    dsOHT = xr.open_dataset(folder+experiment+'/NBF1850OC_f19_tn11_02.micom.hy.1900-1999mean.mhflx.nc')\n",
    "    dsMOC2 = xr.open_dataset(folder+experiment+'/NBF1850OC_f19_tn11_02.micom.hy.1900-1999.mmflxd.nc')\n",
    "    dstos = xr.open_dataset(folder+experiment+'/NorESM1-F_E280_sst.nc')\n",
    "    dsice = xr.open_dataset(folder+experiment+'/NorESM1-F_E280_aice.nc')"
   ]
  },
  {
   "cell_type": "code",
   "execution_count": 6,
   "id": "efed8cd9",
   "metadata": {},
   "outputs": [],
   "source": [
    "#Rename to lat and lon to avoid error occurring with interpolation\n",
    "dsV['lat']=dsr.vlat\n",
    "dsV['lon']=dsr.vlon\n",
    "\n",
    "dsT['lat']=dsr.plat\n",
    "dsT['lon']=dsr.plon\n",
    "\n",
    "dsS['lat']=dsr.plat\n",
    "dsS['lon']=dsr.plon"
   ]
  },
  {
   "cell_type": "code",
   "execution_count": 7,
   "id": "6cca4fe8",
   "metadata": {},
   "outputs": [],
   "source": [
    "#Create a NetCDF of the region file\n",
    "f = open(folder+experiment+'/mask.dat', 'r')\n",
    "i=0\n",
    "mask = np.zeros([360,385])\n",
    "for line in f:\n",
    "    line = line.split()\n",
    "    if i>=1:\n",
    "        mask[i-1,:] = [int(a) for a in str(line[0])]\n",
    "    i = i+1\n",
    "mask = np.transpose(mask)\n",
    "\n",
    "da = xr.DataArray(data=mask, dims=[\"y\", \"x\"], attrs=dict(description=\"Region mask\"))\n",
    "dsr['region']=da"
   ]
  },
  {
   "cell_type": "markdown",
   "id": "74f5b0e1-4445-431c-ba1f-8177fe974749",
   "metadata": {},
   "source": [
    "## Separation MOC and gyre OHT component E280"
   ]
  },
  {
   "cell_type": "code",
   "execution_count": 8,
   "id": "95b9f63b-ee8f-442b-bed6-0870520f5274",
   "metadata": {},
   "outputs": [
    {
     "name": "stderr",
     "output_type": "stream",
     "text": [
      "/opt/anaconda3/envs/myenv/lib/python3.8/site-packages/xesmf/frontend.py:522: FutureWarning: ``output_sizes`` should be given in the ``dask_gufunc_kwargs`` parameter. It will be removed as direct parameter in a future version.\n",
      "  dr_out = xr.apply_ufunc(\n"
     ]
    }
   ],
   "source": [
    "temp = dsT.templvl[0] #temp in degC\n",
    "region = dsr.region\n",
    "\n",
    "#Interpolate velocity to T grid, using 0 for land values to avoid NaN ocean grid cells after interpolation \n",
    "regridder = xe.Regridder(dsV, dsT, 'bilinear', periodic = True, ignore_degenerate=True)\n",
    "vo = dsV.vvellvl[0].fillna(0)*100\n",
    "vvel = regridder(vo) #cm/s\n",
    "vvel = vvel*temp/temp #Fill land grid cells with NaN values again"
   ]
  },
  {
   "cell_type": "code",
   "execution_count": 9,
   "id": "86406abb-b5c4-4fd3-87e5-0ea9eff0966f",
   "metadata": {},
   "outputs": [],
   "source": [
    "#1-D array with spacing of depth grid\n",
    "ds = dsT.copy(deep=True)\n",
    "\n",
    "dz = np.zeros(len(ds.depth))\n",
    "dz[0] = ds.depth[1]-ds.depth[0]\n",
    "for i in range(1,len(ds.depth)):\n",
    "    dz[i] = (ds.depth[i]-ds.depth[i-1])\n",
    "dz = dz*100 #Depth spacing. Units: cm\n",
    "dsT['DZ'] = xr.DataArray(data=dz, dims=(\"depth\"))\n",
    "dz = dsT.DZ\n",
    "\n",
    "#Horizontal grid spacing\n",
    "DXT = dsr.pdx*100 #convert to cm"
   ]
  },
  {
   "cell_type": "code",
   "execution_count": 10,
   "id": "7c816cc2-9983-4602-af52-b96c63e468ad",
   "metadata": {},
   "outputs": [],
   "source": [
    "cp_sw = 3996.  # [J/kg/K]   heat capacity of water\n",
    "rho_sw = 1.026e-3  # [kg/cm^3]  density of water\n",
    "\n",
    "HEAT = (cp_sw*rho_sw*temp).where(region==2)  #  [J/kg/K * kg/cm^3 * degC] = [J/cm^3]\n",
    "\n",
    "VVEL = vvel.where(region==2) #cm/s"
   ]
  },
  {
   "cell_type": "code",
   "execution_count": 11,
   "id": "a01c4eaf-c0ef-43b5-be58-652101a9c0c1",
   "metadata": {},
   "outputs": [],
   "source": [
    "def zonal_means(x, dx):\n",
    "    xint = (x*dx).sum('x')  # [x-unit * cm]\n",
    "    zm = xint/dx.sum('x')   # [x-unit]\n",
    "    return zm\n",
    "\n",
    "#Zonal mean velocity and heat\n",
    "VVEL_zm = zonal_means(VVEL, DXT.where(VVEL<10000))\n",
    "HEAT_zm = zonal_means(HEAT, DXT.where(VVEL<10000))\n",
    "\n",
    "#Make zonal mean fields into 3D fields again\n",
    "HEAT_zm_3D = HEAT/HEAT\n",
    "HEAT_zm_3D = HEAT_zm_3D*HEAT_zm\n",
    "\n",
    "VVEL_zm_3D = VVEL/VVEL\n",
    "VVEL_zm_3D = VVEL_zm_3D*VVEL_zm\n",
    "\n",
    "#azonal components\n",
    "HEAT_prime = (HEAT - HEAT_zm_3D)  # azonal heat component (x,y,z) []\n",
    "VVEL_prime = (VVEL - VVEL_zm_3D)  # azonal velocity comp. (x,y,z) [cm/s]\n",
    "\n",
    "#Integrate to compute OHTov and OHTaz\n",
    "Hov = (VVEL_zm_3D*HEAT_zm_3D*DXT*dz).sum(dim=['x','depth'])\n",
    "Haz = (VVEL_prime*HEAT_prime*DXT*dz).sum(dim=['x','depth'])  # product of primed velocity and heat [cm/s * J/cm^2 * cm]"
   ]
  },
  {
   "cell_type": "code",
   "execution_count": 12,
   "id": "582393c0-660f-419f-bd22-5b5c68fc398c",
   "metadata": {},
   "outputs": [],
   "source": [
    "# auxiliary latitudes for OHT components\n",
    "lats = dsT.lat.where(region==2).mean('x')"
   ]
  },
  {
   "cell_type": "code",
   "execution_count": 13,
   "id": "fe79029d-6890-452d-a6a8-eb2161e43c73",
   "metadata": {},
   "outputs": [
    {
     "data": {
      "text/plain": [
       "<matplotlib.legend.Legend at 0x7fc385d343a0>"
      ]
     },
     "execution_count": 13,
     "metadata": {},
     "output_type": "execute_result"
    },
    {
     "data": {
      "image/png": "[encoded data removed]",
      "text/plain": [
       "<Figure size 576x216 with 1 Axes>"
      ]
     },
     "metadata": {
      "needs_background": "light"
     },
     "output_type": "display_data"
    }
   ],
   "source": [
    "plt.figure(figsize=(8,3))\n",
    "plt.axhline(0,c='k',lw=.5)\n",
    "plt.plot(lats, Hov/1e15, label='overturning component')\n",
    "\n",
    "plt.plot(lats, Haz/1e15, label='azonal component')\n",
    "plt.plot(lats, (Hov+Haz).squeeze()/1e15, label='overturning+azonal')\n",
    "plt.plot(dsOHT.lat, dsOHT.mhflx[0,0]/1e15,label='Eulerian mean')\n",
    "plt.title('northward heat transport')\n",
    "plt.xlim([-35,70])\n",
    "plt.ylim([-1,2])\n",
    "plt.xlabel(r'latitude  [$^\\circ$N]')\n",
    "plt.legend(fontsize=8)"
   ]
  },
  {
   "cell_type": "code",
   "execution_count": 14,
   "id": "38522f1e-d67d-473b-9ef7-5fc254f6c64a",
   "metadata": {},
   "outputs": [],
   "source": [
    "if experiment == 'E280':\n",
    "    dsE = xr.Dataset(data_vars = dict(OHTov=([\"lat\"], Hov[104:-50]/1e15), OHTaz=([\"lat\"], Haz[104:-50]/1e15)), coords = dict(lat = lats[104:-50].values))\n",
    "elif experiment == 'Eoi400':\n",
    "    dsE = xr.Dataset(data_vars = dict(OHTov=([\"lat\"], Hov[104:-50]/1e15), OHTaz=([\"lat\"], Haz[104:-50]/1e15)), coords = dict(lat = lats[104:-50].values))\n",
    "xr.Dataset.to_netcdf(dsE, path = datafolder+'Processed/'+model+'/'+experiment+'/decomOHT_100yr.nc')"
   ]
  },
  {
   "cell_type": "markdown",
   "id": "137d085b-1cea-4e6a-a261-1bef6177c60b",
   "metadata": {
    "tags": []
   },
   "source": [
    "## 100-yr average AMOC streamfunction"
   ]
  },
  {
   "cell_type": "code",
   "execution_count": 15,
   "id": "b9766f08-5ba5-4981-b8a5-bb7e807425c9",
   "metadata": {},
   "outputs": [],
   "source": [
    "#Mask (almost) zero values \n",
    "a = dsMOC.mmflxd[0,0]/1e9\n",
    "b = a.where(a<-1e-6).fillna(0)+a.where(a>1e-6).fillna(0)\n",
    "c = b.where(b!=0)"
   ]
  },
  {
   "cell_type": "code",
   "execution_count": 16,
   "id": "0aa4507b-738e-4d95-9ff0-66891208f9a7",
   "metadata": {},
   "outputs": [],
   "source": [
    "dsM = xr.Dataset(data_vars = dict(AMOC=((\"z\",\"lat\"), c.values)), coords = dict(z = dsMOC.depth.values, lat = dsMOC.lat.values))\n",
    "xr.Dataset.to_netcdf(dsM, path = datafolder+'Processed/'+model+'/'+experiment+'/AMOC_100yr.nc')"
   ]
  },
  {
   "cell_type": "markdown",
   "id": "fd6a7c2a-1a0c-4045-8481-58376448bdb2",
   "metadata": {
    "tags": []
   },
   "source": [
    "## Annual AMOC streamfunction (100 years)"
   ]
  },
  {
   "cell_type": "code",
   "execution_count": 17,
   "id": "e63bf8c9-144c-4c0b-921a-a0e982485e74",
   "metadata": {},
   "outputs": [],
   "source": [
    "#Mask (almost) zero values\n",
    "a = dsMOC2.mmflxd[:,0]/1e9\n",
    "b = a.where(a<-1e-6).fillna(0)+a.where(a>1e-6).fillna(0)\n",
    "c = b.where(b!=0)"
   ]
  },
  {
   "cell_type": "code",
   "execution_count": 18,
   "id": "d366f3de-ed12-4fde-b499-b3eb657b5e75",
   "metadata": {},
   "outputs": [],
   "source": [
    "if experiment == 'E280':\n",
    "    dsM2 = xr.Dataset(data_vars = dict(AMOC=((\"time\",\"z\",\"lat\"), c.values)), coords = dict(time = np.arange(1900, 2000), z = dsMOC.depth.values, lat = dsMOC.lat.values))\n",
    "else:\n",
    "    dsM2 = xr.Dataset(data_vars = dict(AMOC=((\"time\",\"z\",\"lat\"), c.values)), coords = dict(time = np.arange(2400, 2500), z = dsMOC.depth.values, lat = dsMOC.lat.values))\n",
    "    \n",
    "xr.Dataset.to_netcdf(dsM2, path = datafolder+'Processed/'+model+'/'+experiment+'/AMOC_annual_100yr.nc')"
   ]
  },
  {
   "cell_type": "markdown",
   "id": "cdfae50c-37cb-4262-a31f-089f3c92e84e",
   "metadata": {
    "tags": []
   },
   "source": [
    "## 100-yr average total Atlantic OHT"
   ]
  },
  {
   "cell_type": "code",
   "execution_count": 19,
   "id": "c435a074-17df-4941-9b2e-31aa7dd67e32",
   "metadata": {},
   "outputs": [
    {
     "data": {
      "image/png": "[encoded data removed]",
      "text/plain": [
       "<Figure size 432x288 with 1 Axes>"
      ]
     },
     "metadata": {
      "needs_background": "light"
     },
     "output_type": "display_data"
    }
   ],
   "source": [
    "(dsOHT.mhflx[0,0]/1e15).plot()\n",
    "dsH = xr.Dataset(data_vars = dict(OHT=((\"lat\"), dsOHT.mhflx[0,0].values/1e15)), coords = dict(lat = dsOHT.lat.values))\n",
    "xr.Dataset.to_netcdf(dsH, path = datafolder+'Processed/'+model+'/'+experiment+'/OHT_100yr.nc')"
   ]
  },
  {
   "cell_type": "markdown",
   "id": "89a1df2c-e605-4b26-99cb-6baf05c05b65",
   "metadata": {},
   "source": [
    "## Annual SST timeseries (100 years)"
   ]
  },
  {
   "cell_type": "code",
   "execution_count": 20,
   "id": "030a3cc5-44aa-41c6-aed6-b6ff77053b7f",
   "metadata": {},
   "outputs": [
    {
     "name": "stderr",
     "output_type": "stream",
     "text": [
      "/opt/anaconda3/envs/myenv/lib/python3.8/site-packages/xesmf/frontend.py:522: FutureWarning: ``output_sizes`` should be given in the ``dask_gufunc_kwargs`` parameter. It will be removed as direct parameter in a future version.\n",
      "  dr_out = xr.apply_ufunc(\n"
     ]
    }
   ],
   "source": [
    "dsgrid = xr.open_dataset(folder+experiment+'/'+experiment+'.SST.mean_month.nc', decode_times=False)\n",
    "regridder = xe.Regridder(dstos, dsgrid, 'bilinear', periodic = True, ignore_degenerate=True)\n",
    "\n",
    "tos = regridder(dstos.sst)\n",
    "tosann = np.zeros([100,180,360])\n",
    "\n",
    "for i in range(0,100):\n",
    "    tosann[i] = tos[0+i*12:12+i*12].mean(dim='time')\n",
    "\n",
    "if experiment == 'E280':\n",
    "    dsSST = xr.Dataset(data_vars = dict(sst=((\"time\",\"lat\",\"lon\"), tosann)), coords = dict(time = np.arange(1900, 2000), lat = tos.latitude.values, lon = tos.longitude.values))\n",
    "else:\n",
    "    dsSST = xr.Dataset(data_vars = dict(sst=((\"time\",\"lat\",\"lon\"), tosann)), coords = dict(time = np.arange(2400, 2500), lat = tos.latitude.values, lon = tos.longitude.values))\n",
    "    \n",
    "xr.Dataset.to_netcdf(dsSST, path = datafolder+'Processed/'+model+'/'+experiment+'/SST_annual_100yr.nc')"
   ]
  },
  {
   "cell_type": "markdown",
   "id": "13ded5fa-7f36-4b85-a7fd-a8fd6f40fed8",
   "metadata": {},
   "source": [
    "## 100-yr mean SSS (regridded)"
   ]
  },
  {
   "cell_type": "code",
   "execution_count": 21,
   "id": "00dfc146-d99f-43c5-bcfa-b7dc5ed09dd0",
   "metadata": {},
   "outputs": [
    {
     "name": "stderr",
     "output_type": "stream",
     "text": [
      "/opt/anaconda3/envs/myenv/lib/python3.8/site-packages/xesmf/frontend.py:522: FutureWarning: ``output_sizes`` should be given in the ``dask_gufunc_kwargs`` parameter. It will be removed as direct parameter in a future version.\n",
      "  dr_out = xr.apply_ufunc(\n"
     ]
    }
   ],
   "source": [
    "dsgrid = xr.open_dataset(folder+experiment+'/'+experiment+'.SST.mean_month.nc', decode_times=False)\n",
    "\n",
    "regridder = xe.Regridder(dsS, dsgrid, 'bilinear', periodic = True, ignore_degenerate=True)\n",
    "sss = regridder(dsS.salnlvl[0,0])\n",
    "\n",
    "dsSSS = xr.Dataset(data_vars = dict(sss=((\"lat\",\"lon\"), sss)), coords = dict(lat = sss.latitude.values, lon = sss.longitude.values))\n",
    "xr.Dataset.to_netcdf(dsSSS, path = datafolder+'Processed/'+model+'/'+experiment+'/SSS_100yr.nc')"
   ]
  },
  {
   "cell_type": "markdown",
   "id": "ac4856dc-3264-4b98-966f-ea3b554672ea",
   "metadata": {},
   "source": [
    "## 100-yr mean sea ice (regridded)"
   ]
  },
  {
   "cell_type": "code",
   "execution_count": 22,
   "id": "7fcf5017-7399-439e-b66f-ebf32f4aba19",
   "metadata": {},
   "outputs": [
    {
     "name": "stderr",
     "output_type": "stream",
     "text": [
      "/opt/anaconda3/envs/myenv/lib/python3.8/site-packages/xesmf/frontend.py:522: FutureWarning: ``output_sizes`` should be given in the ``dask_gufunc_kwargs`` parameter. It will be removed as direct parameter in a future version.\n",
      "  dr_out = xr.apply_ufunc(\n",
      "/opt/anaconda3/envs/myenv/lib/python3.8/site-packages/xesmf/frontend.py:522: FutureWarning: ``output_sizes`` should be given in the ``dask_gufunc_kwargs`` parameter. It will be removed as direct parameter in a future version.\n",
      "  dr_out = xr.apply_ufunc(\n",
      "/opt/anaconda3/envs/myenv/lib/python3.8/site-packages/xesmf/frontend.py:522: FutureWarning: ``output_sizes`` should be given in the ``dask_gufunc_kwargs`` parameter. It will be removed as direct parameter in a future version.\n",
      "  dr_out = xr.apply_ufunc(\n",
      "/opt/anaconda3/envs/myenv/lib/python3.8/site-packages/xesmf/frontend.py:522: FutureWarning: ``output_sizes`` should be given in the ``dask_gufunc_kwargs`` parameter. It will be removed as direct parameter in a future version.\n",
      "  dr_out = xr.apply_ufunc(\n"
     ]
    }
   ],
   "source": [
    "dsi = dsice.drop('time') # To avoid error with adding different months together\n",
    "\n",
    "dsgrid = xr.open_dataset(folder+experiment+'/'+experiment+'.SST.mean_month.nc', decode_times=False)\n",
    "regridder = xe.Regridder(dsi, dsgrid, 'bilinear', periodic = True, ignore_degenerate=True)\n",
    "\n",
    "djf = (dsi.aice[11:1200:12]+dsi.aice[0:1200:12]+dsi.aice[1:1200:12])/3\n",
    "si_djf = regridder(djf.mean(dim='time'))\n",
    "\n",
    "mam = (dsi.aice[2:1200:12]+dsi.aice[3:1200:12]+dsi.aice[4:1200:12])/3\n",
    "si_mam = regridder(mam.mean(dim='time'))\n",
    "\n",
    "jja = (dsi.aice[5:1200:12]+dsi.aice[6:1200:12]+dsi.aice[7:1200:12])/3\n",
    "si_jja = regridder(jja.mean(dim='time'))\n",
    "\n",
    "son = (dsi.aice[8:1200:12]+dsi.aice[9:1200:12]+dsi.aice[10:1200:12])/3\n",
    "si_son = regridder(son.mean(dim='time'))\n",
    "\n",
    "si = (si_djf+si_mam+si_jja+si_son)/4\n",
    "dsSI = xr.Dataset(data_vars = dict(si_djf=((\"lat\",\"lon\"), si_djf), si_mam = ((\"lat\",\"lon\"), si_mam), si_jja = ((\"lat\",\"lon\"), si_jja), si_son = ((\"lat\",\"lon\"), si_son), si_mean = ((\"lat\",\"lon\"), si)), coords = dict(lat = si_djf.latitude.values, lon = si_djf.longitude.values))\n",
    "xr.Dataset.to_netcdf(dsSI, path = datafolder+'Processed/'+model+'/'+experiment+'/SI_100yr.nc')"
   ]
  },
  {
   "cell_type": "markdown",
   "id": "f90cd891-c5fa-43bf-ae1c-8dade1d8d23c",
   "metadata": {
    "tags": []
   },
   "source": [
    "## 100-yr mean top 100 m salinity (regridded)"
   ]
  },
  {
   "cell_type": "code",
   "execution_count": 23,
   "id": "9cd35535-26fc-42e9-8e05-a5c7975eee30",
   "metadata": {
    "tags": []
   },
   "outputs": [
    {
     "name": "stderr",
     "output_type": "stream",
     "text": [
      "/opt/anaconda3/envs/myenv/lib/python3.8/site-packages/xesmf/frontend.py:522: FutureWarning: ``output_sizes`` should be given in the ``dask_gufunc_kwargs`` parameter. It will be removed as direct parameter in a future version.\n",
      "  dr_out = xr.apply_ufunc(\n"
     ]
    }
   ],
   "source": [
    "def makedz(z):\n",
    "    dz = np.zeros(len(z)-1)\n",
    "    for i in range(1,len(z)):\n",
    "        dz[i-1] = (z[i]-z[i-1])\n",
    "    return xr.DataArray(data=dz, dims=(\"depth\"))\n",
    "\n",
    "regridder = xe.Regridder(dsS, dsgrid, 'bilinear', periodic = True, ignore_degenerate=True)\n",
    "weights = makedz(dsS.depth[0:13])\n",
    "\n",
    "s100m = regridder(dsS.salnlvl[0,0:12].weighted(weights).mean(dim='depth'))\n",
    "\n",
    "dsS100m = xr.Dataset(data_vars = dict(s100m=((\"lat\",\"lon\"), s100m)), coords = dict(lat = s100m.latitude.values, lon = s100m.longitude.values))\n",
    "xr.Dataset.to_netcdf(dsS100m, path = datafolder+'Processed/'+model+'/'+experiment+'/so100m_100yr.nc')"
   ]
  },
  {
   "cell_type": "markdown",
   "id": "b8138fb7-fb51-4ab8-9ba5-89f7799186b0",
   "metadata": {},
   "source": [
    "## 100-yr zonal mean salinity Atlantic"
   ]
  },
  {
   "cell_type": "code",
   "execution_count": 24,
   "id": "b1d85858-1a14-4b42-a701-911f3cf578bd",
   "metadata": {
    "tags": []
   },
   "outputs": [],
   "source": [
    "salt_atl = dsS.salnlvl[0]\n",
    "\n",
    "#Regrid to 1x1 rectangular grid\n",
    "dsgrid = xr.open_dataset(folder+experiment+'/'+experiment+'.SST.mean_month.nc', decode_times=False)\n",
    "regridder = xe.Regridder(dsS, dsgrid, 'bilinear', periodic = True, ignore_degenerate=True)\n",
    "\n",
    "salt = regridder(salt_atl)\n",
    "mask = regularAtlmask(salt)\n",
    "\n",
    "salt_zm = salt.where(mask>-1).mean(dim='longitude')\n",
    "\n",
    "dszm = xr.Dataset(data_vars = dict(so=((\"z\",\"lat\"), salt_zm)), coords = dict(z = salt_zm.depth.values, lat = salt_zm.latitude.values))\n",
    "xr.Dataset.to_netcdf(dszm, path = datafolder+'Processed/'+model+'/'+experiment+'/so_zm_100yr.nc')"
   ]
  },
  {
   "cell_type": "markdown",
   "id": "478fca60-a552-4393-b65d-7d14c91eabc6",
   "metadata": {},
   "source": [
    "## 100-yr zonal mean temperature Atlantic"
   ]
  },
  {
   "cell_type": "code",
   "execution_count": 25,
   "id": "666cc879-ced3-45f4-a255-ca88195c81b2",
   "metadata": {},
   "outputs": [
    {
     "name": "stderr",
     "output_type": "stream",
     "text": [
      "/opt/anaconda3/envs/myenv/lib/python3.8/site-packages/xesmf/frontend.py:522: FutureWarning: ``output_sizes`` should be given in the ``dask_gufunc_kwargs`` parameter. It will be removed as direct parameter in a future version.\n",
      "  dr_out = xr.apply_ufunc(\n"
     ]
    }
   ],
   "source": [
    "temp_atl = dsT.templvl[0]\n",
    "\n",
    "#Regrid to 1x1 rectangular grid\n",
    "dsgrid = xr.open_dataset(folder+experiment+'/'+experiment+'.SST.mean_month.nc', decode_times=False)\n",
    "regridder = xe.Regridder(dsT, dsgrid, 'bilinear', periodic = True, ignore_degenerate=True)\n",
    "\n",
    "temp = regridder(temp_atl)\n",
    "mask = regularAtlmask(temp)\n",
    "\n",
    "temp_zm = temp.where(mask>-1).mean(dim='longitude')\n",
    "dtzm = xr.Dataset(data_vars = dict(thetao=((\"z\",\"lat\"), temp_zm)), coords = dict(z = temp_zm.depth.values, lat = temp_zm.latitude.values))\n",
    "xr.Dataset.to_netcdf(dtzm, path = datafolder+'Processed/'+model+'/'+experiment+'/thetao_zm_100yr.nc')"
   ]
  },
  {
   "cell_type": "markdown",
   "id": "1434e730-d330-41d7-a5e1-e7cdd509df27",
   "metadata": {},
   "source": [
    "## 100-yr mean wind at 1000 hPa"
   ]
  },
  {
   "cell_type": "code",
   "execution_count": 26,
   "id": "16b902e6-7f33-462e-a938-a03dc10c842e",
   "metadata": {},
   "outputs": [],
   "source": [
    "if experiment =='E280':\n",
    "    dsu = xr.open_dataset(folder+experiment+'/Atm/NorESM1-F_E280_U.nc')\n",
    "    dsv = xr.open_dataset(folder+experiment+'/Atm/NorESM1-F_E280_V.nc')\n",
    "else:\n",
    "    dsu = xr.open_dataset(folder+experiment+'/Atm/NorESM1-F_Eoi400_U.nc')\n",
    "    dsv = xr.open_dataset(folder+experiment+'/Atm/NorESM1-F_Eoi400_V.nc')"
   ]
  },
  {
   "cell_type": "code",
   "execution_count": 27,
   "id": "56273183-cdcc-44dd-831c-c45f35a248db",
   "metadata": {},
   "outputs": [],
   "source": [
    "ua = dsu.U[:,0].mean(dim='time')\n",
    "va = dsv.V[:,0].mean(dim='time')"
   ]
  },
  {
   "cell_type": "code",
   "execution_count": 28,
   "id": "74dbd638-1f04-4192-b924-988bd443a445",
   "metadata": {},
   "outputs": [
    {
     "name": "stderr",
     "output_type": "stream",
     "text": [
      "/opt/anaconda3/envs/myenv/lib/python3.8/site-packages/xesmf/frontend.py:522: FutureWarning: ``output_sizes`` should be given in the ``dask_gufunc_kwargs`` parameter. It will be removed as direct parameter in a future version.\n",
      "  dr_out = xr.apply_ufunc(\n"
     ]
    }
   ],
   "source": [
    "dsgrid = xr.open_dataset(folder+experiment+'/'+experiment+'.SST.mean_month.nc', decode_times=False)\n",
    "regridder = xe.Regridder(dsu, dsgrid, 'bilinear', periodic = True, ignore_degenerate=True)\n",
    "\n",
    "u = regridder(ua)\n",
    "v = regridder(va)\n",
    "\n",
    "dsUV = xr.Dataset(data_vars = dict(ua=((\"lat\",\"lon\"), u), va=((\"lat\",\"lon\"), v)), coords = dict(lat = u.latitude.values, lon = v.longitude.values))\n",
    "xr.Dataset.to_netcdf(dsUV, path = datafolder+'Processed/'+model+'/'+experiment+'/UVa_100yr.nc')"
   ]
  }
 ],
 "metadata": {
  "kernelspec": {
   "display_name": "Python 3 (ipykernel)",
   "language": "python",
   "name": "python3"
  },
  "language_info": {
   "codemirror_mode": {
    "name": "ipython",
    "version": 3
   },
   "file_extension": ".py",
   "mimetype": "text/x-python",
   "name": "python",
   "nbconvert_exporter": "python",
   "pygments_lexer": "ipython3",
   "version": "3.8.12"
  }
 },
 "nbformat": 4,
 "nbformat_minor": 5
}
