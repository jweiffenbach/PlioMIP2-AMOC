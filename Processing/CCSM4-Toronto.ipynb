{
 "cells": [
  {
   "cell_type": "code",
   "execution_count": 4,
   "id": "511e51e7-717c-404c-9034-2303417d4315",
   "metadata": {},
   "outputs": [],
   "source": [
    "## imports\n",
    "import sys\n",
    "import os\n",
    "import numpy as np\n",
    "import xarray as xr\n",
    "import cmocean\n",
    "import matplotlib\n",
    "import matplotlib.pyplot as plt\n",
    "from matplotlib.patches import Rectangle\n",
    "from matplotlib import gridspec\n",
    "import cartopy\n",
    "import cartopy.crs as ccrs\n",
    "from cartopy.mpl.gridliner import LONGITUDE_FORMATTER, LATITUDE_FORMATTER\n",
    "import eofs\n",
    "from eofs.xarray import Eof\n",
    "import cftime\n",
    "import nc_time_axis\n",
    "\n",
    "import mtspec\n",
    "\n",
    "# from pylab import *\n",
    "\n",
    "import datetime\n",
    "import time\n",
    "import glob, os\n",
    "import math\n",
    "import matplotlib.colors as colors\n",
    "import xesmf as xe\n",
    "from defs import regularAtlmask"
   ]
  },
  {
   "cell_type": "code",
   "execution_count": 29,
   "id": "9fd0e08c-5cbe-4573-abe3-5ac87e9cdb62",
   "metadata": {},
   "outputs": [],
   "source": [
    "datafolder = '' #Data folder"
   ]
  },
  {
   "cell_type": "code",
   "execution_count": 6,
   "id": "2ab8ad5e-3b59-4269-849f-ea20053e9756",
   "metadata": {},
   "outputs": [],
   "source": [
    "experiment = 'E280' \n",
    "model = 'CCSM4-UoT'\n",
    "folder = datafolder+'Raw_data/'+model+'/'"
   ]
  },
  {
   "cell_type": "code",
   "execution_count": 7,
   "id": "e21c556d-a7fc-4633-be4d-98d727f78fb7",
   "metadata": {},
   "outputs": [
    {
     "name": "stderr",
     "output_type": "stream",
     "text": [
      "/opt/anaconda3/envs/myenv/lib/python3.8/site-packages/xarray/conventions.py:512: SerializationWarning: variable 'tos' has multiple fill values {1e+20, 1e+20}, decoding all values to NaN.\n",
      "  new_vars[k] = decode_cf_variable(\n"
     ]
    }
   ],
   "source": [
    "if experiment == 'E280':\n",
    "    ds = xr.open_dataset(folder+experiment+'/E280.nc')\n",
    "    dsV = xr.open_dataset(folder+experiment+'/E280.nc')\n",
    "    dsT = xr.open_dataset(folder+experiment+'/E280.nc')\n",
    "    dsS = xr.open_dataset(folder+experiment+'/E280.nc')\n",
    "    dsAMOC = xr.open_dataset(folder+experiment+'/E280_MOC.nc')\n",
    "    dsOHT = xr.open_dataset(folder+experiment+'/E280_N_HEAT.nc')\n",
    "    dstos = xr.open_dataset(folder+experiment+'/tos_Omon_UofT-CCSM4_piControl_r1i1p1f1_gr1_160101-170012.nc')\n",
    "    dsice = xr.open_dataset(folder+experiment+'/siconc_SImon_E280_UofT-CCSM4_gr.nc')\n",
    "else:\n",
    "    ds = xr.open_dataset(folder+experiment+'/Eoi400.nc')\n",
    "    dsT = xr.open_dataset(folder+experiment+'/Eoi400.nc')\n",
    "    dsV = xr.open_dataset(folder+experiment+'/Eoi400.nc')\n",
    "    dsS = xr.open_dataset(folder+experiment+'/Eoi400.nc')\n",
    "    dsAMOC = xr.open_dataset(folder+experiment+'/Eoi400_MOC.nc')\n",
    "    dsOHT = xr.open_dataset(folder+experiment+'/Eoi400_N_HEAT.nc')\n",
    "    dstos = xr.open_dataset(folder+experiment+'/tos_Omon_UofT-CCSM4_midPliocene-eoi400_r1i1p1f1_gr1_150101-160012.nc')\n",
    "    dsice = xr.open_dataset(folder+experiment+'/siconc_SImon_Eoi400_UofT-CCSM4_gr.nc')"
   ]
  },
  {
   "cell_type": "markdown",
   "id": "fd010f73-1b57-473a-b26d-054eb58c7e04",
   "metadata": {
    "tags": []
   },
   "source": [
    "## Separating overturning and gyre OHT"
   ]
  },
  {
   "cell_type": "code",
   "execution_count": 8,
   "id": "47034e1d-e683-4f33-8af4-85a8fc33fdb8",
   "metadata": {},
   "outputs": [
    {
     "name": "stderr",
     "output_type": "stream",
     "text": [
      "/opt/anaconda3/envs/myenv/lib/python3.8/site-packages/xesmf/frontend.py:522: FutureWarning: ``output_sizes`` should be given in the ``dask_gufunc_kwargs`` parameter. It will be removed as direct parameter in a future version.\n",
      "  dr_out = xr.apply_ufunc(\n"
     ]
    }
   ],
   "source": [
    "#Drop U-grid for temperature and T-grid for velocity\n",
    "dsT = dsT.drop(['ULAT','ULONG','lat_aux_grid','moc_z'])\n",
    "dsV = dsV.drop(['TLAT','TLONG','lat_aux_grid','moc_z'])\n",
    "\n",
    "temp = dsT.TEMP\n",
    "region=dsT.REGION_MASK\n",
    "\n",
    "#Regrid velocity field to the temperature field, using 0 as a fill value for land to avoid NaN ocean grid cells after interpolation\n",
    "regridder = xe.Regridder(dsV, dsT, 'bilinear', periodic = True, ignore_degenerate=True)\n",
    "vo = dsV.VVEL.fillna(0)\n",
    "vvel = regridder(vo)"
   ]
  },
  {
   "cell_type": "code",
   "execution_count": 9,
   "id": "88967abf-9581-40b2-84a9-69e0288b05dc",
   "metadata": {},
   "outputs": [
    {
     "data": {
      "image/png": "[encoded data removed]",
      "text/plain": [
       "<Figure size 432x288 with 3 Axes>"
      ]
     },
     "metadata": {
      "needs_background": "light"
     },
     "output_type": "display_data"
    }
   ],
   "source": [
    "#Plot region mask to check\n",
    "if experiment == 'E280':\n",
    "    region.plot()\n",
    "    dsT.TEMP[0,:,:].where(region>5).where(region<10).plot(cmap='cmo.thermal')\n",
    "\n",
    "#Eoi400: 4 = Atlantic, 6 - 8 rest  \n",
    "if experiment == 'Eoi400':\n",
    "    region_excl = region.where(region==5).fillna(0)\n",
    "    region = region-region_excl\n",
    "    region.plot()\n",
    "    dsT.TEMP[0,:,:].where(region>3).where(region<9).plot(cmap='cmo.thermal')"
   ]
  },
  {
   "cell_type": "code",
   "execution_count": 10,
   "id": "51df0d3f-cf3e-4a20-bbcd-e3d4feb1ae0d",
   "metadata": {},
   "outputs": [],
   "source": [
    "cp_sw = 3996.  # [J/kg/K]   heat capacity of water\n",
    "rho_sw = 1.026e-3  # [kg/cm^3]  density of water\n",
    "\n",
    "if experiment == 'E280':\n",
    "    HEAT = (cp_sw*rho_sw*temp).where(region>5).where(region<10)  #  [J/kg/K * kg/cm^3 * degC] = [J/cm^3]\n",
    "    VVEL = vvel.where(region>5).where(region<10)\n",
    "elif experiment == 'Eoi400':\n",
    "    HEAT = (cp_sw*rho_sw*temp).where(region>3).where(region<9)  #  [J/kg/K * kg/cm^3 * degC] = [J/cm^3]\n",
    "    VVEL = vvel.where(region>3).where(region<9)\n",
    "    \n",
    "VVEL = VVEL*HEAT/HEAT #Fills land grid cells with NaN again"
   ]
  },
  {
   "cell_type": "code",
   "execution_count": 11,
   "id": "ef5ffd2a-a084-4aae-9e7b-471050236242",
   "metadata": {},
   "outputs": [],
   "source": [
    "def zonal_means(x, dx):\n",
    "    xint = (x*dx).sum('nlon')  # [x-unit * cm]\n",
    "    zm = xint/dx.sum('nlon')   # [x-unit]\n",
    "    return zm\n",
    "\n",
    "DXT = dsT.DXT\n",
    "dz = dsT.dz\n",
    "\n",
    "#Zonal mean velocity and heat\n",
    "VVEL_zm = zonal_means(VVEL, DXT.where(VVEL<10000))\n",
    "HEAT_zm = zonal_means(HEAT, DXT.where(VVEL<10000))\n",
    "\n",
    "#Make zonal mean fields into 3D fields again\n",
    "HEAT_zm_3D = HEAT/HEAT\n",
    "HEAT_zm_3D = HEAT_zm_3D*HEAT_zm\n",
    "\n",
    "VVEL_zm_3D = VVEL/VVEL\n",
    "VVEL_zm_3D = VVEL_zm_3D*VVEL_zm\n",
    "\n",
    "# Azonal components\n",
    "HEAT_prime = (HEAT - HEAT_zm_3D)  # azonal heat component (x,y,z) []\n",
    "VVEL_prime = (VVEL - VVEL_zm_3D)  # azonal velocity comp. (x,y,z) [cm/s]\n",
    "\n",
    "#Integrate to compute OHTov and OHTaz\n",
    "Hov = (VVEL_zm_3D*HEAT_zm_3D*DXT*dz).sum(dim=['nlon','z_t'])\n",
    "Haz = (VVEL_prime*HEAT_prime*DXT*dz).sum(dim=['nlon','z_t'])  # product of primed velocity and heat [cm/s * J/cm^2 * cm]"
   ]
  },
  {
   "cell_type": "code",
   "execution_count": 12,
   "id": "1d52d535-3def-4f3d-965f-8de89378a1d2",
   "metadata": {},
   "outputs": [],
   "source": [
    "# Auxiliary latitudes for OHT components\n",
    "if experiment == 'E280':\n",
    "    lats = dsT.TLAT.where(region>5).where(region<10).mean('nlon')\n",
    "elif experiment == 'Eoi400':\n",
    "    lats = dsT.TLAT.where(region>3).where(region<9).mean('nlon')"
   ]
  },
  {
   "cell_type": "code",
   "execution_count": 13,
   "id": "b25bd3d5-8955-4058-9387-00772f7738cb",
   "metadata": {},
   "outputs": [
    {
     "data": {
      "text/plain": [
       "<matplotlib.legend.Legend at 0x7f9b0043adf0>"
      ]
     },
     "execution_count": 13,
     "metadata": {},
     "output_type": "execute_result"
    },
    {
     "data": {
      "image/png": "[encoded data removed]",
      "text/plain": [
       "<Figure size 576x216 with 1 Axes>"
      ]
     },
     "metadata": {
      "needs_background": "light"
     },
     "output_type": "display_data"
    }
   ],
   "source": [
    "plt.figure(figsize=(8,3))\n",
    "plt.axhline(0,c='k',lw=.5)\n",
    "plt.plot(lats, Hov/1e15, label='overturning component')\n",
    "\n",
    "plt.plot(lats, Haz/1e15, label='azonal component')\n",
    "plt.plot(lats, (Hov+Haz).squeeze()/1e15, label='overturning+azonal')\n",
    "plt.plot(ds.lat_aux_grid, ds.N_HEAT[1,1],label='Eulerian mean')\n",
    "plt.title('northward heat transport')\n",
    "plt.xlim([-35,70])\n",
    "plt.ylim([-1,2])\n",
    "plt.xlabel(r'latitude  [$^\\circ$N]')\n",
    "plt.legend(fontsize=8)"
   ]
  },
  {
   "cell_type": "code",
   "execution_count": 14,
   "id": "61141d3b-063a-4e03-829c-9da7370063ca",
   "metadata": {},
   "outputs": [],
   "source": [
    "dsE = xr.Dataset(data_vars = dict(OHTov=([\"lat\"], Hov[85:-1]/1e15), OHTaz=([\"lat\"], Haz[85:-1]/1e15)), coords = dict(lat = lats[85:-1].values))\n",
    "xr.Dataset.to_netcdf(dsE, path = datafolder+'Processed/'+model+'/'+experiment+'/decomOHT_100yr.nc')"
   ]
  },
  {
   "cell_type": "markdown",
   "id": "8e7d0493-9b11-4e1b-a6be-bf81182c1699",
   "metadata": {
    "tags": []
   },
   "source": [
    "## 100-yr mean AMOC"
   ]
  },
  {
   "cell_type": "code",
   "execution_count": 15,
   "id": "095b84dc-d005-4a6b-a4ee-7dfe1a23e568",
   "metadata": {},
   "outputs": [
    {
     "data": {
      "text/plain": [
       "<matplotlib.collections.QuadMesh at 0x7f9aeae05c40>"
      ]
     },
     "execution_count": 15,
     "metadata": {},
     "output_type": "execute_result"
    },
    {
     "data": {
      "image/png": "[encoded data removed]",
      "text/plain": [
       "<Figure size 432x288 with 2 Axes>"
      ]
     },
     "metadata": {
      "needs_background": "light"
     },
     "output_type": "display_data"
    }
   ],
   "source": [
    "#Mask (almost) zero values \n",
    "a = ds.MOC[1,0,:,:] \n",
    "b = a.where(a>1e-5).fillna(0)+a.where(a<-1e-5).fillna(0)\n",
    "c = b.where(b!=0)\n",
    "c.plot()"
   ]
  },
  {
   "cell_type": "code",
   "execution_count": 16,
   "id": "bb20efaf-375a-4f5d-8a81-1bf1b9ae19b1",
   "metadata": {},
   "outputs": [],
   "source": [
    "dsM = xr.Dataset(data_vars = dict(AMOC=((\"z\",\"lat\"), c.values)), coords = dict(z = (ds.moc_z/100).values, lat = ds.lat_aux_grid.values))\n",
    "xr.Dataset.to_netcdf(dsM, path = datafolder+'Processed/'+model+'/'+experiment+'/AMOC_100yr.nc')"
   ]
  },
  {
   "cell_type": "markdown",
   "id": "104c99d5-8329-44cf-91e9-8b0ddda27434",
   "metadata": {
    "tags": []
   },
   "source": [
    "## 100-yr mean total Atlantic OHT"
   ]
  },
  {
   "cell_type": "code",
   "execution_count": 17,
   "id": "8cd6bc1a-5314-409b-b72b-5cd82726f66f",
   "metadata": {},
   "outputs": [
    {
     "data": {
      "image/png": "[encoded data removed]",
      "text/plain": [
       "<Figure size 432x288 with 1 Axes>"
      ]
     },
     "metadata": {
      "needs_background": "light"
     },
     "output_type": "display_data"
    }
   ],
   "source": [
    "ds.N_HEAT[1,1,:].plot()\n",
    "dsH = xr.Dataset(data_vars = dict(OHT=((\"lat\"), ds.N_HEAT[1,1,:].values)), coords = dict(lat = ds.lat_aux_grid.values))\n",
    "xr.Dataset.to_netcdf(dsH, path = '/Users/6497241/surfdrive/Documents/PlioMIP2-OHT/Data/Processed/'+model+'/'+experiment+'/OHT_100yr.nc')"
   ]
  },
  {
   "cell_type": "markdown",
   "id": "a86ec457-c97b-4ca9-966b-9f9f6cf49d1e",
   "metadata": {
    "tags": []
   },
   "source": [
    "## Annual AMOC streamfunction (100 years)"
   ]
  },
  {
   "cell_type": "code",
   "execution_count": 18,
   "id": "0708d4d3-8583-4700-a3cd-b21f26760dcd",
   "metadata": {},
   "outputs": [],
   "source": [
    "#AMOC timeseries folders\n",
    "if experiment == 'E280':\n",
    "    ds = xr.open_dataset(folder+experiment+'/E280_MOC.nc')\n",
    "else:\n",
    "    ds = xr.open_dataset(folder+experiment+'/Eoi400_MOC.nc')"
   ]
  },
  {
   "cell_type": "code",
   "execution_count": 19,
   "id": "9789df8e-c82f-49ef-807a-b416488f200a",
   "metadata": {},
   "outputs": [],
   "source": [
    "#Mask (almost) zero values \n",
    "a = ds.MOC[:,1,0,:,:]\n",
    "b = a.where(a>1e-5).fillna(0)+a.where(a<-1e-5).fillna(0)\n",
    "c = b.where(b!=0)\n",
    "\n",
    "if experiment == 'E280':\n",
    "    dsM2 = xr.Dataset(data_vars = dict(AMOC=((\"time\",\"z\",\"lat\"), c.values)), coords = dict(time = ds['time.year'].values, z = (ds.moc_z/100).values, lat = ds.lat_aux_grid.values))\n",
    "elif experiment == 'Eoi400':\n",
    "    dsM2 = xr.Dataset(data_vars = dict(AMOC=((\"time\",\"z\",\"lat\"), c.values)), coords = dict(time = ds['time.year'].values, z = (ds.moc_z/100).values, lat = ds.lat_aux_grid.values))\n",
    "    \n",
    "xr.Dataset.to_netcdf(dsM2, path = datafolder+'Processed/'+model+'/'+experiment+'/AMOC_annual_100yr.nc')"
   ]
  },
  {
   "cell_type": "markdown",
   "id": "678b2bd9-053c-4132-a24c-14027d85e8c5",
   "metadata": {},
   "source": [
    "## Annual SST timeseries (100 years)"
   ]
  },
  {
   "cell_type": "code",
   "execution_count": 20,
   "id": "4208798f-55f0-4df0-8949-4818c1e27e42",
   "metadata": {},
   "outputs": [],
   "source": [
    "tosann = dstos.tos.groupby('time.year').mean(dim='time')\n",
    "\n",
    "if experiment == 'E280':\n",
    "    dsSST = xr.Dataset(data_vars = dict(sst=((\"time\",\"lat\",\"lon\"), tosann.values)), coords = dict(time = tosann.year.values, lat = tosann.lat[:,0].values, lon = tosann.lon[0,:].values))\n",
    "elif experiment == 'Eoi400':\n",
    "    dsSST = xr.Dataset(data_vars = dict(sst=((\"time\",\"lat\",\"lon\"), tosann.values)), coords = dict(time = tosann.year.values, lat = tosann.lat[:,0].values, lon = tosann.lon[0,:].values))\n",
    "xr.Dataset.to_netcdf(dsSST, path = '/Users/6497241/surfdrive/Documents/PlioMIP2-OHT/Data/Processed/'+model+'/'+experiment+'/SST_annual_100yr.nc')"
   ]
  },
  {
   "cell_type": "markdown",
   "id": "d68dc96e-0476-46d4-9d63-43c8d2311f33",
   "metadata": {},
   "source": [
    "## 100-yr mean SSS field (regridded)"
   ]
  },
  {
   "cell_type": "code",
   "execution_count": 21,
   "id": "2dce0985-01d9-4d00-90e6-a2c682e530fb",
   "metadata": {
    "tags": []
   },
   "outputs": [
    {
     "name": "stderr",
     "output_type": "stream",
     "text": [
      "/opt/anaconda3/envs/myenv/lib/python3.8/site-packages/xesmf/frontend.py:522: FutureWarning: ``output_sizes`` should be given in the ``dask_gufunc_kwargs`` parameter. It will be removed as direct parameter in a future version.\n",
      "  dr_out = xr.apply_ufunc(\n"
     ]
    }
   ],
   "source": [
    "dsS = dsS.drop(['ULAT','ULONG','lat_aux_grid','moc_z'])\n",
    "\n",
    "#Regrid to regular 1x1 grid \n",
    "regridder = xe.Regridder(dsS, dstos, 'bilinear', periodic = True, ignore_degenerate=True)\n",
    "sss = regridder(dsS.SALT[0])\n",
    "\n",
    "dsSSS = xr.Dataset(data_vars = dict(sss=((\"lat\",\"lon\"), sss)), coords = dict(lat = sss.lat[:,0].values, lon = sss.lon[0,:].values))\n",
    "xr.Dataset.to_netcdf(dsSSS, path = '/Users/6497241/surfdrive/Documents/PlioMIP2-OHT/Data/Processed/'+model+'/'+experiment+'/SSS_100yr.nc')"
   ]
  },
  {
   "cell_type": "markdown",
   "id": "5bccbe45-0b05-49cb-a571-e2db9658cb20",
   "metadata": {},
   "source": [
    "## 100-yr mean SI field (regridded)"
   ]
  },
  {
   "cell_type": "code",
   "execution_count": 22,
   "id": "bef9b52c-adfe-4755-9d54-0ac9bbedf2c5",
   "metadata": {},
   "outputs": [
    {
     "name": "stderr",
     "output_type": "stream",
     "text": [
      "/opt/anaconda3/envs/myenv/lib/python3.8/site-packages/xesmf/frontend.py:522: FutureWarning: ``output_sizes`` should be given in the ``dask_gufunc_kwargs`` parameter. It will be removed as direct parameter in a future version.\n",
      "  dr_out = xr.apply_ufunc(\n"
     ]
    }
   ],
   "source": [
    "#Compute mean field for every season\n",
    "djf = (dsice.siconc[11:1200:12]+dsice.siconc[0:1200:12]+dsice.siconc[1:1200:12])/3\n",
    "djf = djf.mean(dim='time')\n",
    "\n",
    "mam = (dsice.siconc[2:1200:12]+dsice.siconc[3:1200:12]+dsice.siconc[4:1200:12])/3\n",
    "mam = mam.mean(dim='time')\n",
    "\n",
    "jja = (dsice.siconc[5:1200:12]+dsice.siconc[6:1200:12]+dsice.siconc[7:1200:12])/3\n",
    "jja = jja.mean(dim='time')\n",
    "\n",
    "son = (dsice.siconc[8:1200:12]+dsice.siconc[9:1200:12]+dsice.siconc[10:1200:12])/3\n",
    "son = son.mean(dim='time')\n",
    "\n",
    "#Regrid to 1x1 regular grid\n",
    "regridder = xe.Regridder(dsice, dstos, 'bilinear', periodic = True, ignore_degenerate=True)\n",
    "\n",
    "si_djf = regridder(djf)\n",
    "si_mam = regridder(mam)\n",
    "si_jja = regridder(jja)\n",
    "si_son = regridder(son)\n",
    "si = (si_djf+si_mam+si_jja+si_son)/4 #Annual mean field\n",
    "\n",
    "dsSI = xr.Dataset(data_vars = dict(si_djf=((\"lat\",\"lon\"), si_djf), si_mam = ((\"lat\",\"lon\"), si_mam), si_jja = ((\"lat\",\"lon\"), si_jja), si_son = ((\"lat\",\"lon\"), si_son), si_mean = ((\"lat\",\"lon\"), si)), coords = dict(lat = si_djf.lat[:,0].values, lon = si_djf.lon[0,:].values))\n",
    "xr.Dataset.to_netcdf(dsSI, path = '/Users/6497241/surfdrive/Documents/PlioMIP2-OHT/Data/Processed/'+model+'/'+experiment+'/SI_100yr.nc')"
   ]
  },
  {
   "cell_type": "markdown",
   "id": "9bdf5f5a-1f54-42fd-9241-a003d52fe2e9",
   "metadata": {},
   "source": [
    "## 100-yr mean top 100 m salinity (regridded)"
   ]
  },
  {
   "cell_type": "code",
   "execution_count": 23,
   "id": "3ce532b1-0bef-4af0-88b7-553c7fa1ed67",
   "metadata": {
    "tags": []
   },
   "outputs": [
    {
     "name": "stderr",
     "output_type": "stream",
     "text": [
      "/opt/anaconda3/envs/myenv/lib/python3.8/site-packages/xesmf/frontend.py:522: FutureWarning: ``output_sizes`` should be given in the ``dask_gufunc_kwargs`` parameter. It will be removed as direct parameter in a future version.\n",
      "  dr_out = xr.apply_ufunc(\n"
     ]
    }
   ],
   "source": [
    "regridder = xe.Regridder(dsS, dstos, 'bilinear', periodic = True, ignore_degenerate=True)\n",
    "weights = dsS.dz[0:10] #Weighting for irregular grid in vertical direction\n",
    "\n",
    "s100m = regridder(dsS.SALT[0:10].weighted(weights).mean(dim='z_t'))\n",
    "\n",
    "dsS100m = xr.Dataset(data_vars = dict(s100m=((\"lat\",\"lon\"), s100m)), coords = dict(lat = s100m.lat[:,0].values, lon = s100m.lon[0,:].values))\n",
    "xr.Dataset.to_netcdf(dsS100m, path = '/Users/6497241/surfdrive/Documents/PlioMIP2-OHT/Data/Processed/'+model+'/'+experiment+'/so100m_100yr.nc')"
   ]
  },
  {
   "cell_type": "markdown",
   "id": "fd4d7cb1-9b2f-43f6-a7f4-bc4dddb7991c",
   "metadata": {},
   "source": [
    "## 100-yr zonal mean salinity"
   ]
  },
  {
   "cell_type": "code",
   "execution_count": 24,
   "id": "8f8fd03a-d4c1-4db4-97c6-c6a1714cdb3a",
   "metadata": {
    "tags": []
   },
   "outputs": [],
   "source": [
    "#Salinity field\n",
    "salt_atl = dsS.SALT\n",
    "\n",
    "#Regrid to 1x1 rectangular grid\n",
    "dsgrid = xr.open_dataset('/Users/6497241/surfdrive/Documents/PlioMIP2-OHT/Data/Raw_data/CCSM4/E280/E280.SST.mean_month.nc')\n",
    "regridder = xe.Regridder(dsS, dsgrid, 'bilinear', periodic = True, ignore_degenerate=True)\n",
    "\n",
    "salt = regridder(salt_atl)\n",
    "mask = regularAtlmask(salt)\n",
    "\n",
    "#Compute Atlantic zonal mean salinity\n",
    "salt_zm = salt.where(mask>-1).mean(dim='longitude')\n",
    "\n",
    "dszm = xr.Dataset(data_vars = dict(so=((\"z\",\"lat\"), salt_zm)), coords = dict(z = salt_zm.z_t.values/100, lat = salt_zm.latitude.values))\n",
    "xr.Dataset.to_netcdf(dszm, path = '/Users/6497241/surfdrive/Documents/PlioMIP2-OHT/Data/Processed/'+model+'/'+experiment+'/so_zm_100yr.nc')"
   ]
  },
  {
   "cell_type": "markdown",
   "id": "913e51bd-d56f-40cb-b095-41f2cdd1da29",
   "metadata": {},
   "source": [
    "## 100-yr zonal mean temperature"
   ]
  },
  {
   "cell_type": "code",
   "execution_count": 25,
   "id": "87f8e49e-5b23-4544-9465-60c9e0269ab0",
   "metadata": {},
   "outputs": [
    {
     "name": "stderr",
     "output_type": "stream",
     "text": [
      "/opt/anaconda3/envs/myenv/lib/python3.8/site-packages/xesmf/frontend.py:522: FutureWarning: ``output_sizes`` should be given in the ``dask_gufunc_kwargs`` parameter. It will be removed as direct parameter in a future version.\n",
      "  dr_out = xr.apply_ufunc(\n"
     ]
    }
   ],
   "source": [
    "#Temperature field\n",
    "temp_atl = dsT.TEMP\n",
    "\n",
    "#Regrid to 1x1 rectangular grid\n",
    "dsgrid = xr.open_dataset('/Users/6497241/surfdrive/Documents/PlioMIP2-OHT/Data/Raw_data/CCSM4/E280/E280.SST.mean_month.nc')\n",
    "regridder = xe.Regridder(dsT, dsgrid, 'bilinear', periodic = True, ignore_degenerate=True)\n",
    "\n",
    "temp = regridder(temp_atl)\n",
    "mask = regularAtlmask(temp)\n",
    "\n",
    "#Compute Atlantic zonal mean temperature\n",
    "temp_zm = temp.where(mask>-1).mean(dim='longitude')\n",
    "\n",
    "dtzm = xr.Dataset(data_vars = dict(thetao=((\"z\",\"lat\"), temp_zm)), coords = dict(z = temp_zm.z_t.values/100, lat = temp_zm.latitude.values))\n",
    "xr.Dataset.to_netcdf(dtzm, path = datafolder+'/Processed/'+model+'/'+experiment+'/thetao_zm_100yr.nc')"
   ]
  },
  {
   "cell_type": "markdown",
   "id": "f2dbf853-fa72-49db-86c7-aadcb8179fec",
   "metadata": {},
   "source": [
    "## 100-yr mean wind at 1000 hPa"
   ]
  },
  {
   "cell_type": "code",
   "execution_count": 26,
   "id": "da9969a7-70bf-4d4f-8a7b-1102f15ab721",
   "metadata": {},
   "outputs": [
    {
     "name": "stderr",
     "output_type": "stream",
     "text": [
      "/opt/anaconda3/envs/myenv/lib/python3.8/site-packages/xarray/conventions.py:512: SerializationWarning: variable 'ua' has multiple fill values {1e+20, 1e+20}, decoding all values to NaN.\n",
      "  new_vars[k] = decode_cf_variable(\n",
      "/opt/anaconda3/envs/myenv/lib/python3.8/site-packages/xarray/conventions.py:512: SerializationWarning: variable 'va' has multiple fill values {1e+20, 1e+20}, decoding all values to NaN.\n",
      "  new_vars[k] = decode_cf_variable(\n"
     ]
    }
   ],
   "source": [
    "if experiment == 'E280':\n",
    "    dsu = xr.open_dataset(folder+experiment+'/Atm/ua_Amon_UofT-CCSM4_piControl_r1i1p1f1_gr1_150101-160012.nc')\n",
    "    dsv = xr.open_dataset(folder+experiment+'/Atm/va_Amon_UofT-CCSM4_piControl_r1i1p1f1_gr1_150101-160012.nc')\n",
    "else:\n",
    "    dsu = xr.open_dataset(folder+experiment+'/Atm/ua_Amon_UofT-CCSM4_midPliocene-eoi400_r1i1p1f1_gr1_160101-170012.nc')\n",
    "    dsv = xr.open_dataset(folder+experiment+'/Atm/va_Amon_UofT-CCSM4_midPliocene-eoi400_r1i1p1f1_gr1_160101-170012.nc')"
   ]
  },
  {
   "cell_type": "code",
   "execution_count": 27,
   "id": "0af6173d-5e37-4e4b-9f81-10a120b7ca94",
   "metadata": {},
   "outputs": [],
   "source": [
    "#U and V field at 1000 hPa, averaged over 100 years\n",
    "ua = dsu.ua[:,0].mean(dim='time')\n",
    "va = dsv.va[:,0].mean(dim='time')"
   ]
  },
  {
   "cell_type": "code",
   "execution_count": 28,
   "id": "ba73def6-a940-49e0-8cc4-d055fb8e23dc",
   "metadata": {},
   "outputs": [
    {
     "name": "stderr",
     "output_type": "stream",
     "text": [
      "/opt/anaconda3/envs/myenv/lib/python3.8/site-packages/xesmf/frontend.py:522: FutureWarning: ``output_sizes`` should be given in the ``dask_gufunc_kwargs`` parameter. It will be removed as direct parameter in a future version.\n",
      "  dr_out = xr.apply_ufunc(\n"
     ]
    }
   ],
   "source": [
    "#Regridding to regular 1x1 grid\n",
    "dsgrid = xr.open_dataset('/Users/6497241/surfdrive/Documents/PlioMIP2-OHT/Data/Raw_data/CCSM4/E280/E280.SST.mean_month.nc')\n",
    "regridder = xe.Regridder(dsu, dsgrid, 'bilinear', periodic = True, ignore_degenerate=True)\n",
    "\n",
    "u = regridder(ua.where(ua<1e20))\n",
    "v = regridder(va.where(va<1e20))\n",
    "\n",
    "dsUV = xr.Dataset(data_vars = dict(ua=((\"lat\",\"lon\"), u), va=((\"lat\",\"lon\"), v)), coords = dict(lat = u.latitude.values, lon = v.longitude.values))\n",
    "xr.Dataset.to_netcdf(dsUV, path = '/Users/6497241/surfdrive/Documents/PlioMIP2-OHT/Data/Processed/'+model+'/'+experiment+'/UVa_100yr.nc')"
   ]
  }
 ],
 "metadata": {
  "kernelspec": {
   "display_name": "Python 3 (ipykernel)",
   "language": "python",
   "name": "python3"
  },
  "language_info": {
   "codemirror_mode": {
    "name": "ipython",
    "version": 3
   },
   "file_extension": ".py",
   "mimetype": "text/x-python",
   "name": "python",
   "nbconvert_exporter": "python",
   "pygments_lexer": "ipython3",
   "version": "3.8.12"
  }
 },
 "nbformat": 4,
 "nbformat_minor": 5
}
