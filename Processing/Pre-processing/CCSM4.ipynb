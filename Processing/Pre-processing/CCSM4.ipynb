{
 "cells": [
  {
   "cell_type": "code",
   "execution_count": 1,
   "id": "7bbcf3bd-7c86-454e-9db6-e0b807c89321",
   "metadata": {},
   "outputs": [],
   "source": [
    "## imports\n",
    "import sys\n",
    "import os\n",
    "import numpy as np\n",
    "import xarray as xr\n",
    "import cmocean\n",
    "import matplotlib\n",
    "import matplotlib.pyplot as plt\n",
    "from matplotlib.patches import Rectangle\n",
    "from matplotlib import gridspec\n",
    "import cartopy\n",
    "import cartopy.crs as ccrs\n",
    "from cartopy.mpl.gridliner import LONGITUDE_FORMATTER, LATITUDE_FORMATTER\n",
    "import eofs\n",
    "from eofs.xarray import Eof\n",
    "import cftime\n",
    "import nc_time_axis\n",
    "\n",
    "import mtspec\n",
    "\n",
    "from pylab import *\n",
    "\n",
    "import datetime\n",
    "import time\n",
    "import glob, os\n",
    "import math\n",
    "import matplotlib.colors as colors\n",
    "import pandas as pd"
   ]
  },
  {
   "cell_type": "markdown",
   "id": "9aba563d-aca6-4b67-a7c3-1e76d1566143",
   "metadata": {},
   "source": [
    "## E280 potential temperature and meridional velocity"
   ]
  },
  {
   "cell_type": "code",
   "execution_count": null,
   "id": "c9e8a2f5-492a-4556-a594-3ba2ee8d39e5",
   "metadata": {},
   "outputs": [],
   "source": [
    "experiment = 'E280' \n",
    "folder = '/Volumes/External/NCAR data/CCSM4/'+experiment+'/'\n",
    "\n",
    "dsT1 = xr.open_dataset(folder+'b.e12.B1850C5CN.f09_g16.preind.ccsm4.pop.h.TEMP.005101-010012.nc')\n",
    "dsT2 = xr.open_dataset(folder+'b.e12.B1850C5CN.f09_g16.preind.ccsm4.pop.h.TEMP.010101-015012.nc')\n",
    "dsT3 = xr.open_dataset(folder+'b.e12.B1850C5CN.f09_g16.preind.ccsm4.pop.h.TEMP.015101-018012.nc')"
   ]
  },
  {
   "cell_type": "code",
   "execution_count": null,
   "id": "0bb4667d-3a22-471f-bdfe-cef1847ad2bf",
   "metadata": {},
   "outputs": [
    {
     "name": "stdout",
     "output_type": "stream",
     "text": [
      "2021-11-22 17:12:29.898715\n",
      "2021-11-22 17:18:28.200387\n"
     ]
    }
   ],
   "source": [
    "import datetime \n",
    "print(datetime.datetime.now())\n",
    "\n",
    "dsT1['time'] = dsT1['time']-pd.to_timedelta(15, unit='D')\n",
    "dsT2['time'] = dsT2['time']-pd.to_timedelta(15, unit='D')\n",
    "dsT3['time'] = dsT3['time']-pd.to_timedelta(15, unit='D')\n",
    "\n",
    "temp1 = dsT1.TEMP[30*12:].groupby('time.year').mean(dim='time')\n",
    "temp2 = dsT2.TEMP.groupby('time.year').mean(dim='time')\n",
    "temp3 = dsT3.TEMP[:30*12].groupby('time.year').mean(dim='time')\n",
    "\n",
    "temp = xr.merge([temp1, temp2, temp3])\n",
    "\n",
    "print(datetime.datetime.now())"
   ]
  },
  {
   "cell_type": "code",
   "execution_count": null,
   "id": "507da791-3284-4967-9cf2-7f39daa4a010",
   "metadata": {},
   "outputs": [],
   "source": [
    "xr.Dataset.to_netcdf(temp, path = '/Users/6497241/surfdrive/Documents/PlioMIP2-OHT/Data/Raw_data/CCSM4/'+experiment+'/thetao_annual_100yr.nc')"
   ]
  },
  {
   "cell_type": "code",
   "execution_count": null,
   "id": "73de273a-77c1-4d8f-adfd-a539b08476ed",
   "metadata": {},
   "outputs": [],
   "source": [
    "dsV1 = xr.open_dataset(folder+'b.e12.B1850C5CN.f09_g16.preind.ccsm4.pop.h.VVEL.005101-010012.nc')\n",
    "dsV2 = xr.open_dataset(folder+'b.e12.B1850C5CN.f09_g16.preind.ccsm4.pop.h.VVEL.010101-015012.nc')\n",
    "dsV3 = xr.open_dataset(folder+'b.e12.B1850C5CN.f09_g16.preind.ccsm4.pop.h.VVEL.015101-018012.nc')"
   ]
  },
  {
   "cell_type": "code",
   "execution_count": null,
   "id": "50b5d869-4538-4bb4-8566-cf87f6de1239",
   "metadata": {},
   "outputs": [
    {
     "name": "stdout",
     "output_type": "stream",
     "text": [
      "2021-11-22 17:30:43.843124\n"
     ]
    }
   ],
   "source": [
    "dsV1['time'] = dsV1['time']-pd.to_timedelta(15, unit='D')\n",
    "dsV2['time'] = dsV2['time']-pd.to_timedelta(15, unit='D')\n",
    "dsV3['time'] = dsV3['time']-pd.to_timedelta(15, unit='D')\n",
    "\n",
    "vvel1 = dsV1.VVEL[30*12:].groupby('time.year').mean(dim='time')\n",
    "vvel2 = dsV2.VVEL.groupby('time.year').mean(dim='time')\n",
    "vvel3 = dsV3.VVEL[:30*12].groupby('time.year').mean(dim='time')\n",
    "\n",
    "vvel = xr.merge([vvel1, vvel2, vvel3])\n",
    "xr.Dataset.to_netcdf(vvel, path = '/Users/6497241/surfdrive/Documents/PlioMIP2-OHT/Data/Raw_data/CCSM4/'+experiment+'/vo_annual_100yr.nc')"
   ]
  },
  {
   "cell_type": "markdown",
   "id": "dd707858-2731-4b5e-bd5c-8c610215ba83",
   "metadata": {},
   "source": [
    "## Eoi400 potential temperature and meridional velocity"
   ]
  },
  {
   "cell_type": "code",
   "execution_count": null,
   "id": "fa6e0fa8-96ea-4d19-8983-99899cac328f",
   "metadata": {},
   "outputs": [],
   "source": [
    "experiment = 'Eoi400' \n",
    "folder = '/Volumes/External/NCAR data/CCSM4/'+experiment+'/'\n",
    "\n",
    "dsT1 = xr.open_dataset(folder+'b.e12.B1850.f09_g16.PIMP4-pliomip2.ccsm4.pop.h.TEMP.100001-104912.nc')\n",
    "dsT2 = xr.open_dataset(folder+'b.e12.B1850.f09_g16.PIMP4-pliomip2.ccsm4.pop.h.TEMP.105001-109912.nc')\n",
    "dsT3 = xr.open_dataset(folder+'b.e12.B1850.f09_g16.PIMP4-pliomip2.ccsm4.pop.h.TEMP.110001-110612.nc')"
   ]
  },
  {
   "cell_type": "code",
   "execution_count": null,
   "id": "6c6d7f39-559c-4838-804f-3068276bcb0d",
   "metadata": {},
   "outputs": [
    {
     "name": "stdout",
     "output_type": "stream",
     "text": [
      "2021-11-22 17:40:49.815634\n",
      "2021-11-22 17:47:20.909750\n"
     ]
    }
   ],
   "source": [
    "print(datetime.datetime.now())\n",
    "\n",
    "dsT1['time'] = dsT1['time']-pd.to_timedelta(15, unit='D')\n",
    "dsT2['time'] = dsT2['time']-pd.to_timedelta(15, unit='D')\n",
    "dsT3['time'] = dsT3['time']-pd.to_timedelta(15, unit='D')\n",
    "\n",
    "temp1 = dsT1.TEMP[12:].groupby('time.year').mean(dim='time')\n",
    "temp2 = dsT2.TEMP.groupby('time.year').mean(dim='time')\n",
    "temp3 = dsT3.TEMP[:12].groupby('time.year').mean(dim='time')\n",
    "\n",
    "temp = xr.merge([temp1, temp2, temp3])\n",
    "xr.Dataset.to_netcdf(temp, path = '/Users/6497241/surfdrive/Documents/PlioMIP2-OHT/Data/Raw_data/CCSM4/'+experiment+'/thetao_annual_100yr.nc')\n",
    "\n",
    "print(datetime.datetime.now())"
   ]
  },
  {
   "cell_type": "code",
   "execution_count": 49,
   "id": "a3e94cda-b949-48e1-bf67-7786d5fcd0fb",
   "metadata": {},
   "outputs": [],
   "source": [
    "dsV1 = xr.open_dataset(folder+'b.e12.B1850.f09_g16.PIMP4-pliomip2.ccsm4.pop.h.VVEL.100001-104912.nc')\n",
    "dsV2 = xr.open_dataset(folder+'b.e12.B1850.f09_g16.PIMP4-pliomip2.ccsm4.pop.h.VVEL.105001-109912.nc')\n",
    "dsV3 = xr.open_dataset(folder+'b.e12.B1850.f09_g16.PIMP4-pliomip2.ccsm4.pop.h.VVEL.110001-110612.nc')"
   ]
  },
  {
   "cell_type": "code",
   "execution_count": 50,
   "id": "0ff40196-7b47-428b-9cce-4f2660e5a718",
   "metadata": {},
   "outputs": [],
   "source": [
    "dsV1['time'] = dsV1['time']-pd.to_timedelta(15, unit='D')\n",
    "dsV2['time'] = dsV2['time']-pd.to_timedelta(15, unit='D')\n",
    "dsV3['time'] = dsV3['time']-pd.to_timedelta(15, unit='D')\n",
    "\n",
    "vvel1 = dsV1.VVEL[12:].groupby('time.year').mean(dim='time')\n",
    "vvel2 = dsV2.VVEL.groupby('time.year').mean(dim='time')\n",
    "vvel3 = dsV3.VVEL[:12].groupby('time.year').mean(dim='time')\n",
    "\n",
    "vvel = xr.merge([vvel1, vvel2, vvel3])\n",
    "xr.Dataset.to_netcdf(vvel, path = '/Users/6497241/surfdrive/Documents/PlioMIP2-OHT/Data/Raw_data/CCSM4/'+experiment+'/vo_annual_100yr.nc')"
   ]
  },
  {
   "cell_type": "code",
   "execution_count": null,
   "id": "06dc4b7a-c2cf-47ef-97f0-9de6301aab47",
   "metadata": {},
   "outputs": [],
   "source": []
  }
 ],
 "metadata": {
  "kernelspec": {
   "display_name": "Python 3 (ipykernel)",
   "language": "python",
   "name": "python3"
  },
  "language_info": {
   "codemirror_mode": {
    "name": "ipython",
    "version": 3
   },
   "file_extension": ".py",
   "mimetype": "text/x-python",
   "name": "python",
   "nbconvert_exporter": "python",
   "pygments_lexer": "ipython3",
   "version": "3.8.12"
  }
 },
 "nbformat": 4,
 "nbformat_minor": 5
}
