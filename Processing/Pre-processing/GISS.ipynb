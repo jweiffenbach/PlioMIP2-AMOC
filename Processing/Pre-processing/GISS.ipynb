{
 "cells": [
  {
   "cell_type": "code",
   "execution_count": 1,
   "id": "511e51e7-717c-404c-9034-2303417d4315",
   "metadata": {},
   "outputs": [],
   "source": [
    "## imports\n",
    "import sys\n",
    "import os\n",
    "import numpy as np\n",
    "import xarray as xr\n",
    "import cmocean\n",
    "import matplotlib\n",
    "import matplotlib.pyplot as plt\n",
    "from matplotlib.patches import Rectangle\n",
    "from matplotlib import gridspec\n",
    "import cartopy\n",
    "import cartopy.crs as ccrs\n",
    "from cartopy.mpl.gridliner import LONGITUDE_FORMATTER, LATITUDE_FORMATTER\n",
    "import eofs\n",
    "from eofs.xarray import Eof\n",
    "import cftime\n",
    "import nc_time_axis\n",
    "\n",
    "import mtspec\n",
    "\n",
    "# from pylab import *\n",
    "\n",
    "import datetime\n",
    "import time\n",
    "import glob, os\n",
    "import math\n",
    "import matplotlib.colors as colors"
   ]
  },
  {
   "cell_type": "markdown",
   "id": "04447169-8756-4832-9cf2-9f03593be447",
   "metadata": {},
   "source": [
    "## Potential temperature"
   ]
  },
  {
   "cell_type": "code",
   "execution_count": 2,
   "id": "2ab8ad5e-3b59-4269-849f-ea20053e9756",
   "metadata": {},
   "outputs": [],
   "source": [
    "experiment = 'Eoi400' \n",
    "model = 'GISS'\n",
    "folder = '/Users/6497241/surfdrive/Documents/PlioMIP2-OHT/Data/Raw_data/'+model+'/'"
   ]
  },
  {
   "cell_type": "code",
   "execution_count": 3,
   "id": "e9032e44-c2e2-4b41-9111-2c01021b833b",
   "metadata": {},
   "outputs": [],
   "source": [
    "if experiment == 'E280':\n",
    "    ds1 = xr.open_dataset(folder+experiment+'/Thetao/thetao_Omon_GISS-E2-1-G_piControl_r1i1p1f1_gn_489101-491012.nc')\n",
    "    ds2 = xr.open_dataset(folder+experiment+'/Thetao/thetao_Omon_GISS-E2-1-G_piControl_r1i1p1f1_gn_491101-493012.nc')\n",
    "    ds3 = xr.open_dataset(folder+experiment+'/Thetao/thetao_Omon_GISS-E2-1-G_piControl_r1i1p1f1_gn_493101-495012.nc')\n",
    "    ds4 = xr.open_dataset(folder+experiment+'/Thetao/thetao_Omon_GISS-E2-1-G_piControl_r1i1p1f1_gn_495101-497012.nc')\n",
    "    ds5 = xr.open_dataset(folder+experiment+'/Thetao/thetao_Omon_GISS-E2-1-G_piControl_r1i1p1f1_gn_497101-499012.nc')\n",
    "    ds6 = xr.open_dataset(folder+experiment+'/Thetao/thetao_Omon_GISS-E2-1-G_piControl_r1i1p1f1_gn_499101-500012.nc')\n",
    "elif experiment == 'Eoi400':\n",
    "    ds1 = xr.open_dataset(folder+experiment+'/Thetao/thetao_Omon_GISS-E2-1-G_midPliocene-eoi400_r1i1p1f1_gn_305101-307012.nc')\n",
    "    ds2 = xr.open_dataset(folder+experiment+'/Thetao/thetao_Omon_GISS-E2-1-G_midPliocene-eoi400_r1i1p1f1_gn_307101-309012.nc')\n",
    "    ds3 = xr.open_dataset(folder+experiment+'/Thetao/thetao_Omon_GISS-E2-1-G_midPliocene-eoi400_r1i1p1f1_gn_309101-311012.nc')\n",
    "    ds4 = xr.open_dataset(folder+experiment+'/Thetao/thetao_Omon_GISS-E2-1-G_midPliocene-eoi400_r1i1p1f1_gn_311101-313012.nc')\n",
    "    ds5 = xr.open_dataset(folder+experiment+'/Thetao/thetao_Omon_GISS-E2-1-G_midPliocene-eoi400_r1i1p1f1_gn_313101-315012.nc')"
   ]
  },
  {
   "cell_type": "code",
   "execution_count": 4,
   "id": "8ff032e2-fd6f-4f2c-83c3-1ef2fdfad4b7",
   "metadata": {},
   "outputs": [],
   "source": [
    "thetao2 = ds2.thetao.mean(dim='time')\n",
    "thetao3 = ds3.thetao.mean(dim='time')\n",
    "thetao4 = ds4.thetao.mean(dim='time')\n",
    "thetao5 = ds5.thetao.mean(dim='time')\n",
    "if experiment == 'E280':\n",
    "    thetao1 = ds1.thetao[120:].mean(dim='time')\n",
    "    thetao6 = ds6.thetao.mean(dim='time')\n",
    "else:\n",
    "    thetao1 = ds1.thetao.mean(dim='time')\n",
    "\n",
    "if experiment == 'E280':\n",
    "    thetao = (thetao1+thetao2+thetao3+thetao4+thetao5+thetao6)/6\n",
    "else:\n",
    "    thetao = (thetao1+thetao2+thetao3+thetao4+thetao5)/5\n",
    "\n",
    "dsTO = xr.Dataset(data_vars = dict(thetao=((\"lev\",\"lat\",\"lon\"), thetao)), coords = dict(lev = ds1.lev, lat = ds1.lat, lon = ds1.lon))\n",
    "xr.Dataset.to_netcdf(dsTO, path = '/Users/6497241/surfdrive/Documents/PlioMIP2-OHT/Data/Raw_data/'+model+'/'+experiment+'/thetao_100yr.nc')"
   ]
  },
  {
   "cell_type": "code",
   "execution_count": 5,
   "id": "32aab0a3-4d7b-432f-b138-adfbb3226d54",
   "metadata": {},
   "outputs": [],
   "source": [
    "#Create yearly files to delete monthly files\n",
    "\n",
    "thetao2 = ds2.thetao.groupby('time.year').mean(dim='time')\n",
    "thetao3 = ds3.thetao.groupby('time.year').mean(dim='time')\n",
    "thetao4 = ds4.thetao.groupby('time.year').mean(dim='time')\n",
    "thetao5 = ds5.thetao.groupby('time.year').mean(dim='time')\n",
    "if experiment == 'E280':\n",
    "    thetao1 = ds1.thetao[120:].groupby('time.year').mean(dim='time')\n",
    "    thetao6 = ds6.thetao.groupby('time.year').mean(dim='time')\n",
    "else:\n",
    "    thetao1 = ds1.thetao.groupby('time.year').mean(dim='time')\n",
    "\n",
    "if experiment == 'E280':\n",
    "    thetao_y = xr.merge([thetao1,thetao2,thetao3,thetao4,thetao5,thetao6])\n",
    "else:\n",
    "    thetao_y = xr.merge([thetao1,thetao2,thetao3,thetao4,thetao5])\n",
    "\n",
    "xr.Dataset.to_netcdf(thetao_y, path = '/Users/6497241/surfdrive/Documents/PlioMIP2-OHT/Data/Raw_data/'+model+'/'+experiment+'/thetao_annual_100yr.nc')"
   ]
  },
  {
   "cell_type": "markdown",
   "id": "c2694307-11be-419f-8d04-6ee86d30ce5b",
   "metadata": {},
   "source": [
    "## Meridional ocean velocity"
   ]
  },
  {
   "cell_type": "code",
   "execution_count": 2,
   "id": "0e6eaa62-9542-4694-99f1-16a647f82412",
   "metadata": {},
   "outputs": [],
   "source": [
    "experiment = 'Eoi400' \n",
    "model = 'GISS'\n",
    "folder = '/Users/6497241/surfdrive/Documents/PlioMIP2-OHT/Data/Raw_data/'+model+'/'"
   ]
  },
  {
   "cell_type": "code",
   "execution_count": 6,
   "id": "42538c09-91ef-4b5f-a3e4-e12e66993de0",
   "metadata": {},
   "outputs": [],
   "source": [
    "if experiment == 'E280':\n",
    "    ds1 = xr.open_dataset(folder+experiment+'/Vo/vo_Omon_GISS-E2-1-G_piControl_r1i1p1f1_gn_489101-491012.nc')\n",
    "    ds2 = xr.open_dataset(folder+experiment+'/Vo/vo_Omon_GISS-E2-1-G_piControl_r1i1p1f1_gn_491101-493012.nc')\n",
    "    ds3 = xr.open_dataset(folder+experiment+'/Vo/vo_Omon_GISS-E2-1-G_piControl_r1i1p1f1_gn_493101-495012.nc')\n",
    "    ds4 = xr.open_dataset(folder+experiment+'/Vo/vo_Omon_GISS-E2-1-G_piControl_r1i1p1f1_gn_495101-497012.nc')\n",
    "    ds5 = xr.open_dataset(folder+experiment+'/Vo/vo_Omon_GISS-E2-1-G_piControl_r1i1p1f1_gn_497101-499012.nc')\n",
    "    ds6 = xr.open_dataset(folder+experiment+'/Vo/vo_Omon_GISS-E2-1-G_piControl_r1i1p1f1_gn_499101-500012.nc')\n",
    "elif experiment == 'Eoi400':\n",
    "    ds1 = xr.open_dataset(folder+experiment+'/vo/vo_Omon_GISS-E2-1-G_midPliocene-eoi400_r1i1p1f1_gn_305101-307012.nc')\n",
    "    ds2 = xr.open_dataset(folder+experiment+'/vo/vo_Omon_GISS-E2-1-G_midPliocene-eoi400_r1i1p1f1_gn_307101-309012.nc')\n",
    "    ds3 = xr.open_dataset(folder+experiment+'/vo/vo_Omon_GISS-E2-1-G_midPliocene-eoi400_r1i1p1f1_gn_309101-311012.nc')\n",
    "    ds4 = xr.open_dataset(folder+experiment+'/vo/vo_Omon_GISS-E2-1-G_midPliocene-eoi400_r1i1p1f1_gn_311101-313012.nc')\n",
    "    ds5 = xr.open_dataset(folder+experiment+'/vo/vo_Omon_GISS-E2-1-G_midPliocene-eoi400_r1i1p1f1_gn_313101-315012.nc')"
   ]
  },
  {
   "cell_type": "code",
   "execution_count": 7,
   "id": "4d988c9c-18ad-4edd-97eb-15091dbb3edc",
   "metadata": {},
   "outputs": [],
   "source": [
    "vo2 = ds2.vo.mean(dim='time')\n",
    "vo3 = ds3.vo.mean(dim='time')\n",
    "vo4 = ds4.vo.mean(dim='time')\n",
    "vo5 = ds5.vo.mean(dim='time')\n",
    "if experiment == 'E280':\n",
    "    vo1 = ds1.vo[120:].mean(dim='time')\n",
    "    vo6 = ds6.vo.mean(dim='time')\n",
    "else:\n",
    "    vo1 = ds1.vo.mean(dim='time')\n",
    "\n",
    "if experiment == 'E280':\n",
    "    vo = (vo1+vo2+vo3+vo4+vo5+vo6)/6\n",
    "else:\n",
    "    vo = (vo1+vo2+vo3+vo4+vo5)/5\n",
    "\n",
    "dsVO = xr.Dataset(data_vars = dict(vo=((\"lev\",\"lat\",\"lon\"), vo)), coords = dict(lev = ds1.lev, lat = ds1.lat, lon = ds1.lon))\n",
    "xr.Dataset.to_netcdf(dsVO, path = '/Users/6497241/surfdrive/Documents/PlioMIP2-OHT/Data/Raw_data/'+model+'/'+experiment+'/vo_100yr.nc')"
   ]
  },
  {
   "cell_type": "code",
   "execution_count": 8,
   "id": "1efdcc18-126c-4649-a7cd-44b1b7d065ed",
   "metadata": {},
   "outputs": [],
   "source": [
    "#Create yearly files to delete monthly files\n",
    "vo2 = ds2.vo.groupby('time.year').mean(dim='time')\n",
    "vo3 = ds3.vo.groupby('time.year').mean(dim='time')\n",
    "vo4 = ds4.vo.groupby('time.year').mean(dim='time')\n",
    "vo5 = ds5.vo.groupby('time.year').mean(dim='time')\n",
    "if experiment == 'E280':\n",
    "    vo1 = ds1.vo[120:].groupby('time.year').mean(dim='time')\n",
    "    vo6 = ds6.vo.groupby('time.year').mean(dim='time')\n",
    "else:\n",
    "    vo1 = ds1.vo.groupby('time.year').mean(dim='time')\n",
    "\n",
    "if experiment == 'E280':\n",
    "    vo_y = xr.merge([vo1,vo2,vo3,vo4,vo5,vo6])\n",
    "else:\n",
    "    vo_y = xr.merge([vo1,vo2,vo3,vo4,vo5])\n",
    "\n",
    "xr.Dataset.to_netcdf(vo_y, path = '/Users/6497241/surfdrive/Documents/PlioMIP2-OHT/Data/Raw_data/'+model+'/'+experiment+'/vo_annual_100yr.nc')"
   ]
  },
  {
   "cell_type": "markdown",
   "id": "0ef8bb42-e675-4f24-b83e-23d635b18cce",
   "metadata": {},
   "source": [
    "## OHT"
   ]
  },
  {
   "cell_type": "code",
   "execution_count": 41,
   "id": "17c2df96-8e99-42f5-964f-d8f72ede6d45",
   "metadata": {},
   "outputs": [],
   "source": [
    "experiment = 'Eoi400' \n",
    "model = 'GISS'\n",
    "folder = '/Users/6497241/surfdrive/Documents/PlioMIP2-OHT/Data/Raw_data/'+model+'/'"
   ]
  },
  {
   "cell_type": "code",
   "execution_count": 26,
   "id": "cb105193-4843-4be4-847c-5daacfbe574a",
   "metadata": {},
   "outputs": [],
   "source": [
    "#Create one file from two separate OHT files\n",
    "if experiment == 'E280':\n",
    "    dshf1 = xr.open_dataset(folder+experiment+'/OHT/hfbasin_Omon_GISS-E2-1-G_piControl_r1i1p1f1_gn_490101-495012.nc')\n",
    "    dshf2 = xr.open_dataset(folder+experiment+'/OHT/hfbasin_Omon_GISS-E2-1-G_piControl_r1i1p1f1_gn_495101-500012.nc')\n",
    "else:\n",
    "    dshf1 = xr.open_dataset(folder+experiment+'/OHT/hfbasin_Omon_GISS-E2-1-G_midPliocene-eoi400_r1i1p1f1_gn_305101-310012.nc')\n",
    "\n",
    "dshf = xr.merge([dshf1.groupby('time.year').mean(dim='time'), dshf2.groupby('time.year').mean(dim='time')])\n",
    "xr.Dataset.to_netcdf(dshf, path = '/Users/6497241/surfdrive/Documents/PlioMIP2-OHT/Data/Raw_data/'+model+'/'+experiment+'/hfbasin_annual_100yr.nc')\n"
   ]
  },
  {
   "cell_type": "code",
   "execution_count": 42,
   "id": "b19bd841-34e8-4fa7-8f34-06772948754c",
   "metadata": {},
   "outputs": [],
   "source": [
    "if experiment == 'E280':\n",
    "    ds1 = xr.open_dataset(folder+experiment+'/OHT/heat_y_transport/hfy_Omon_GISS-E2-1-G_piControl_r1i1p1f1_gn_489101-491012.nc')\n",
    "    ds2 = xr.open_dataset(folder+experiment+'/OHT/heat_y_transport/hfy_Omon_GISS-E2-1-G_piControl_r1i1p1f1_gn_491101-493012.nc')\n",
    "    ds3 = xr.open_dataset(folder+experiment+'/OHT/heat_y_transport/hfy_Omon_GISS-E2-1-G_piControl_r1i1p1f1_gn_493101-495012.nc')\n",
    "    ds4 = xr.open_dataset(folder+experiment+'/OHT/heat_y_transport/hfy_Omon_GISS-E2-1-G_piControl_r1i1p1f1_gn_495101-497012.nc')\n",
    "    ds5 = xr.open_dataset(folder+experiment+'/OHT/heat_y_transport/hfy_Omon_GISS-E2-1-G_piControl_r1i1p1f1_gn_497101-499012.nc')\n",
    "    ds6 = xr.open_dataset(folder+experiment+'/OHT/heat_y_transport/hfy_Omon_GISS-E2-1-G_piControl_r1i1p1f1_gn_499101-500012.nc')\n",
    "elif experiment == 'Eoi400':\n",
    "    ds1 = xr.open_dataset(folder+experiment+'/OHT/heat_y_transport/hfy_Omon_GISS-E2-1-G_midPliocene-eoi400_r1i1p1f1_gn_305101-307012.nc')\n",
    "    ds2 = xr.open_dataset(folder+experiment+'/OHT/heat_y_transport/hfy_Omon_GISS-E2-1-G_midPliocene-eoi400_r1i1p1f1_gn_307101-309012.nc')\n",
    "    ds3 = xr.open_dataset(folder+experiment+'/OHT/heat_y_transport/hfy_Omon_GISS-E2-1-G_midPliocene-eoi400_r1i1p1f1_gn_309101-311012.nc')\n",
    "    ds4 = xr.open_dataset(folder+experiment+'/OHT/heat_y_transport/hfy_Omon_GISS-E2-1-G_midPliocene-eoi400_r1i1p1f1_gn_311101-313012.nc')\n",
    "    ds5 = xr.open_dataset(folder+experiment+'/OHT/heat_y_transport/hfy_Omon_GISS-E2-1-G_midPliocene-eoi400_r1i1p1f1_gn_313101-315012.nc')"
   ]
  },
  {
   "cell_type": "code",
   "execution_count": 44,
   "id": "ab39767c-9a9d-4e5d-abb3-edf50fd6f3f7",
   "metadata": {},
   "outputs": [],
   "source": [
    "#Create yearly files to delete monthly files\n",
    "y2 = ds2.hfy.groupby('time.year').mean(dim='time')\n",
    "y3 = ds3.hfy.groupby('time.year').mean(dim='time')\n",
    "y4 = ds4.hfy.groupby('time.year').mean(dim='time')\n",
    "y5 = ds5.hfy.groupby('time.year').mean(dim='time')\n",
    "if experiment == 'E280':\n",
    "    y1 = ds1.hfy[120:].groupby('time.year').mean(dim='time')\n",
    "    y6 = ds6.hfy.groupby('time.year').mean(dim='time')\n",
    "else:\n",
    "    y1 = ds1.hfy.groupby('time.year').mean(dim='time')\n",
    "\n",
    "if experiment == 'E280':\n",
    "    hfy = xr.merge([y1,y2,y3,y4,y5,y6])\n",
    "else:\n",
    "    hfy = xr.merge([y1,y2,y3,y4,y5])\n",
    "\n",
    "xr.Dataset.to_netcdf(hfy, path = '/Users/6497241/surfdrive/Documents/PlioMIP2-OHT/Data/Raw_data/'+model+'/'+experiment+'/hfy_annual_100yr.nc')"
   ]
  },
  {
   "cell_type": "markdown",
   "id": "5b9f3d13-59a2-4513-9951-aa42162fd862",
   "metadata": {},
   "source": [
    "## Salinity"
   ]
  },
  {
   "cell_type": "code",
   "execution_count": 3,
   "id": "5939279c-89b7-477f-a81d-6c5c750fc42e",
   "metadata": {},
   "outputs": [],
   "source": [
    "experiment = 'E280' \n",
    "model = 'GISS'\n",
    "folder = '/Volumes/External/Salinity/'+model+'/'+experiment+'/'\n",
    "\n",
    "filename_data= 'so*.nc'\n",
    "files = glob.glob(folder+filename_data)\n",
    "files.sort()\n",
    "\n",
    "ds1 = xr.open_dataset(files[0])\n",
    "ds2 = xr.open_dataset(files[1])\n",
    "ds3 = xr.open_dataset(files[2])\n",
    "ds4 = xr.open_dataset(files[3])\n",
    "ds5 = xr.open_dataset(files[4])\n",
    "ds6 = xr.open_dataset(files[5])\n",
    "\n",
    "so1 = ds1.so[120:].groupby('time.year').mean(dim='time')\n",
    "so2 = ds2.so.groupby('time.year').mean(dim='time')\n",
    "so3 = ds3.so.groupby('time.year').mean(dim='time')\n",
    "so4 = ds4.so.groupby('time.year').mean(dim='time')\n",
    "so5 = ds5.so.groupby('time.year').mean(dim='time')\n",
    "so6 = ds6.so.groupby('time.year').mean(dim='time')\n",
    "\n",
    "so_y = xr.merge([so1,so2,so3,so4,so5,so6])\n",
    "xr.Dataset.to_netcdf(so_y, path = '/Users/6497241/surfdrive/Documents/PlioMIP2-OHT/Data/Raw_data/'+model+'/'+experiment+'/so_annual_100yr.nc')\n",
    "\n",
    "so_m = so_y.so.mean(dim='year')\n",
    "\n",
    "dsSO = xr.Dataset(data_vars = dict(so=((\"lev\",\"lat\",\"lon\"), so_m.values)), coords = dict(lev = ds1.lev, lat = ds1.lat, lon = ds1.lon))\n",
    "xr.Dataset.to_netcdf(dsSO, path = '/Users/6497241/surfdrive/Documents/PlioMIP2-OHT/Data/Raw_data/'+model+'/'+experiment+'/so_100yr.nc')"
   ]
  },
  {
   "cell_type": "code",
   "execution_count": 4,
   "id": "713ef65d-9eb3-4acf-85ce-9d290e728c2f",
   "metadata": {},
   "outputs": [],
   "source": [
    "experiment = 'Eoi400' \n",
    "model = 'GISS'\n",
    "folder = '/Volumes/External/Salinity/'+model+'/'+experiment+'/'\n",
    "\n",
    "filename_data= 'so*.nc'\n",
    "files = glob.glob(folder+filename_data)\n",
    "files.sort()\n",
    "\n",
    "ds1 = xr.open_dataset(files[0])\n",
    "ds2 = xr.open_dataset(files[1])\n",
    "ds3 = xr.open_dataset(files[2])\n",
    "ds4 = xr.open_dataset(files[3])\n",
    "ds5 = xr.open_dataset(files[4])\n",
    "\n",
    "so1 = ds1.so.groupby('time.year').mean(dim='time')\n",
    "so2 = ds2.so.groupby('time.year').mean(dim='time')\n",
    "so3 = ds3.so.groupby('time.year').mean(dim='time')\n",
    "so4 = ds4.so.groupby('time.year').mean(dim='time')\n",
    "so5 = ds5.so.groupby('time.year').mean(dim='time')\n",
    "\n",
    "so_y = xr.merge([so1,so2,so3,so4,so5])\n",
    "xr.Dataset.to_netcdf(so_y, path = '/Users/6497241/surfdrive/Documents/PlioMIP2-OHT/Data/Raw_data/'+model+'/'+experiment+'/so_annual_100yr.nc')\n",
    "\n",
    "so_m = so_y.so.mean(dim='year')\n",
    "\n",
    "dsSO = xr.Dataset(data_vars = dict(so=((\"lev\",\"lat\",\"lon\"), so_m.values)), coords = dict(lev = ds1.lev, lat = ds1.lat, lon = ds1.lon))\n",
    "xr.Dataset.to_netcdf(dsSO, path = '/Users/6497241/surfdrive/Documents/PlioMIP2-OHT/Data/Raw_data/'+model+'/'+experiment+'/so_100yr.nc')"
   ]
  }
 ],
 "metadata": {
  "kernelspec": {
   "display_name": "Python 3 (ipykernel)",
   "language": "python",
   "name": "python3"
  },
  "language_info": {
   "codemirror_mode": {
    "name": "ipython",
    "version": 3
   },
   "file_extension": ".py",
   "mimetype": "text/x-python",
   "name": "python",
   "nbconvert_exporter": "python",
   "pygments_lexer": "ipython3",
   "version": "3.8.12"
  }
 },
 "nbformat": 4,
 "nbformat_minor": 5
}
